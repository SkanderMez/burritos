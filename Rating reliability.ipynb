{
 "cells": [
  {
   "cell_type": "markdown",
   "metadata": {},
   "source": [
    "Analysis of the consistency of ratings for a given taco shop's burrito across visits. Here, we also get a sense of the inter-reviewer reliability.\n",
    "\n",
    "\n",
    "Notes\n",
    "* Considered repeated-measures anova, but best is dev statsmodels version. And only says whether there is significant variation over all categories, not which categories are most important. So I think I should use resampling.\n",
    "* The method for determining pairs for inter-reviewer reliability could be improved to maximize the number of pairs\n",
    "* The confidence interval is likely a function of the rating itself (e.g. a 5/5 meat rating may be more consistent than a 3/5 meat rating)"
   ]
  },
  {
   "cell_type": "code",
   "execution_count": 1,
   "metadata": {
    "collapsed": true
   },
   "outputs": [],
   "source": [
    "%config InlineBackend.figure_format = 'retina'\n",
    "%matplotlib inline\n",
    "\n",
    "import numpy as np\n",
    "import scipy as sp\n",
    "from scipy import stats\n",
    "import matplotlib.pyplot as plt\n",
    "import pandas as pd\n",
    "import math\n",
    "from collections import defaultdict\n",
    "import seaborn as sns\n",
    "import util"
   ]
  },
  {
   "cell_type": "markdown",
   "metadata": {},
   "source": [
    "### Load data"
   ]
  },
  {
   "cell_type": "code",
   "execution_count": 2,
   "metadata": {},
   "outputs": [
    {
     "data": {
      "text/html": [
       "<div>\n",
       "<style scoped>\n",
       "    .dataframe tbody tr th:only-of-type {\n",
       "        vertical-align: middle;\n",
       "    }\n",
       "\n",
       "    .dataframe tbody tr th {\n",
       "        vertical-align: top;\n",
       "    }\n",
       "\n",
       "    .dataframe thead th {\n",
       "        text-align: right;\n",
       "    }\n",
       "</style>\n",
       "<table border=\"1\" class=\"dataframe\">\n",
       "  <thead>\n",
       "    <tr style=\"text-align: right;\">\n",
       "      <th></th>\n",
       "      <th>Location</th>\n",
       "      <th>Burrito</th>\n",
       "      <th>Date</th>\n",
       "      <th>Cost</th>\n",
       "      <th>Hunger</th>\n",
       "      <th>Mass (g)</th>\n",
       "      <th>Density (g/mL)</th>\n",
       "      <th>Length</th>\n",
       "      <th>Circum</th>\n",
       "      <th>Volume</th>\n",
       "      <th>...</th>\n",
       "      <th>Fillings</th>\n",
       "      <th>Meat:filling</th>\n",
       "      <th>Uniformity</th>\n",
       "      <th>Salsa</th>\n",
       "      <th>Synergy</th>\n",
       "      <th>Wrap</th>\n",
       "      <th>overall</th>\n",
       "      <th>Rec</th>\n",
       "      <th>Reviewer</th>\n",
       "      <th>Notes</th>\n",
       "    </tr>\n",
       "  </thead>\n",
       "  <tbody>\n",
       "    <tr>\n",
       "      <th>346</th>\n",
       "      <td>rigoberto's taco shop</td>\n",
       "      <td>california</td>\n",
       "      <td>9/5/2017</td>\n",
       "      <td>6.85</td>\n",
       "      <td>3.5</td>\n",
       "      <td>NaN</td>\n",
       "      <td>NaN</td>\n",
       "      <td>22.2</td>\n",
       "      <td>22.5</td>\n",
       "      <td>0.89</td>\n",
       "      <td>...</td>\n",
       "      <td>4.0</td>\n",
       "      <td>4.5</td>\n",
       "      <td>3.0</td>\n",
       "      <td>4.0</td>\n",
       "      <td>4.0</td>\n",
       "      <td>3.5</td>\n",
       "      <td>4.25</td>\n",
       "      <td>NaN</td>\n",
       "      <td>sage</td>\n",
       "      <td>NaN</td>\n",
       "    </tr>\n",
       "    <tr>\n",
       "      <th>347</th>\n",
       "      <td>taco stand</td>\n",
       "      <td>california</td>\n",
       "      <td>12/29/2017</td>\n",
       "      <td>7.89</td>\n",
       "      <td>4.0</td>\n",
       "      <td>NaN</td>\n",
       "      <td>NaN</td>\n",
       "      <td>19.0</td>\n",
       "      <td>23.0</td>\n",
       "      <td>0.80</td>\n",
       "      <td>...</td>\n",
       "      <td>4.0</td>\n",
       "      <td>3.0</td>\n",
       "      <td>4.0</td>\n",
       "      <td>3.5</td>\n",
       "      <td>4.3</td>\n",
       "      <td>4.5</td>\n",
       "      <td>4.20</td>\n",
       "      <td>NaN</td>\n",
       "      <td>scott</td>\n",
       "      <td>NaN</td>\n",
       "    </tr>\n",
       "    <tr>\n",
       "      <th>348</th>\n",
       "      <td>taco stand</td>\n",
       "      <td>california</td>\n",
       "      <td>12/29/2017</td>\n",
       "      <td>7.89</td>\n",
       "      <td>5.0</td>\n",
       "      <td>NaN</td>\n",
       "      <td>NaN</td>\n",
       "      <td>20.0</td>\n",
       "      <td>21.5</td>\n",
       "      <td>0.74</td>\n",
       "      <td>...</td>\n",
       "      <td>5.0</td>\n",
       "      <td>4.0</td>\n",
       "      <td>4.0</td>\n",
       "      <td>5.0</td>\n",
       "      <td>5.0</td>\n",
       "      <td>3.0</td>\n",
       "      <td>4.50</td>\n",
       "      <td>NaN</td>\n",
       "      <td>ben s</td>\n",
       "      <td>NaN</td>\n",
       "    </tr>\n",
       "    <tr>\n",
       "      <th>349</th>\n",
       "      <td>lolita's taco shop</td>\n",
       "      <td>california</td>\n",
       "      <td>1/2/2018</td>\n",
       "      <td>7.25</td>\n",
       "      <td>4.0</td>\n",
       "      <td>NaN</td>\n",
       "      <td>NaN</td>\n",
       "      <td>NaN</td>\n",
       "      <td>NaN</td>\n",
       "      <td>NaN</td>\n",
       "      <td>...</td>\n",
       "      <td>5.0</td>\n",
       "      <td>5.0</td>\n",
       "      <td>3.0</td>\n",
       "      <td>3.0</td>\n",
       "      <td>4.0</td>\n",
       "      <td>5.0</td>\n",
       "      <td>3.50</td>\n",
       "      <td>Y</td>\n",
       "      <td>ben s</td>\n",
       "      <td>NaN</td>\n",
       "    </tr>\n",
       "    <tr>\n",
       "      <th>350</th>\n",
       "      <td>los tacos 2</td>\n",
       "      <td>local</td>\n",
       "      <td>1/12/2018</td>\n",
       "      <td>8.50</td>\n",
       "      <td>4.0</td>\n",
       "      <td>NaN</td>\n",
       "      <td>NaN</td>\n",
       "      <td>21.0</td>\n",
       "      <td>23.5</td>\n",
       "      <td>0.92</td>\n",
       "      <td>...</td>\n",
       "      <td>3.5</td>\n",
       "      <td>1.0</td>\n",
       "      <td>2.0</td>\n",
       "      <td>3.0</td>\n",
       "      <td>3.0</td>\n",
       "      <td>1.0</td>\n",
       "      <td>3.00</td>\n",
       "      <td>N</td>\n",
       "      <td>scott</td>\n",
       "      <td>NaN</td>\n",
       "    </tr>\n",
       "  </tbody>\n",
       "</table>\n",
       "<p>5 rows × 23 columns</p>\n",
       "</div>"
      ],
      "text/plain": [
       "                  Location     Burrito        Date  Cost  Hunger  Mass (g)  \\\n",
       "346  rigoberto's taco shop  california    9/5/2017  6.85     3.5       NaN   \n",
       "347             taco stand  california  12/29/2017  7.89     4.0       NaN   \n",
       "348             taco stand  california  12/29/2017  7.89     5.0       NaN   \n",
       "349     lolita's taco shop  california    1/2/2018  7.25     4.0       NaN   \n",
       "350            los tacos 2       local   1/12/2018  8.50     4.0       NaN   \n",
       "\n",
       "     Density (g/mL)  Length  Circum  Volume  ...    Fillings  Meat:filling  \\\n",
       "346             NaN    22.2    22.5    0.89  ...         4.0           4.5   \n",
       "347             NaN    19.0    23.0    0.80  ...         4.0           3.0   \n",
       "348             NaN    20.0    21.5    0.74  ...         5.0           4.0   \n",
       "349             NaN     NaN     NaN     NaN  ...         5.0           5.0   \n",
       "350             NaN    21.0    23.5    0.92  ...         3.5           1.0   \n",
       "\n",
       "     Uniformity  Salsa  Synergy  Wrap  overall  Rec  Reviewer  Notes  \n",
       "346         3.0    4.0      4.0   3.5     4.25  NaN      sage    NaN  \n",
       "347         4.0    3.5      4.3   4.5     4.20  NaN     scott    NaN  \n",
       "348         4.0    5.0      5.0   3.0     4.50  NaN     ben s    NaN  \n",
       "349         3.0    3.0      4.0   5.0     3.50    Y     ben s    NaN  \n",
       "350         2.0    3.0      3.0   1.0     3.00    N     scott    NaN  \n",
       "\n",
       "[5 rows x 23 columns]"
      ]
     },
     "execution_count": 2,
     "metadata": {},
     "output_type": "execute_result"
    }
   ],
   "source": [
    "df, df_shops, df_ingredients = util.load_burritos()\n",
    "df.tail()"
   ]
  },
  {
   "cell_type": "markdown",
   "metadata": {},
   "source": [
    "# 1. Variance within each burrito feature\n",
    "Notice that the ingredient-based features are less variable than the preparation-based features"
   ]
  },
  {
   "cell_type": "code",
   "execution_count": 3,
   "metadata": {},
   "outputs": [
    {
     "name": "stderr",
     "output_type": "stream",
     "text": [
      "/Users/scott/anaconda/lib/python3.6/site-packages/seaborn/categorical.py:1428: FutureWarning: remove_na is deprecated and is a private function. Do not use.\n",
      "  stat_data = remove_na(group_data)\n"
     ]
    },
    {
     "data": {
      "text/plain": [
       "<matplotlib.text.Text at 0x10d5b94a8>"
      ]
     },
     "execution_count": 3,
     "metadata": {},
     "output_type": "execute_result"
    },
    {
     "data": {
      "image/png": "[encoded data removed]",
      "text/plain": [
       "<matplotlib.figure.Figure at 0x10d54a978>"
      ]
     },
     "metadata": {
      "image/png": {
       "height": 286,
       "width": 611
      }
     },
     "output_type": "display_data"
    }
   ],
   "source": [
    "# Variance in features of interest\n",
    "foi = ['Tortilla', 'Temp', 'Meat', 'Fillings', 'Meat:filling', 'Uniformity',\n",
    "       'Salsa', 'Synergy', 'Wrap', 'overall']\n",
    "var_by_feat = df[foi].var()\n",
    "\n",
    "# Plot variance for each feature\n",
    "df_plt = pd.DataFrame(var_by_feat, columns=['variance']).reset_index().rename(columns={'index':'feature'})\n",
    "plt.figure(figsize=(10,4))\n",
    "sns.barplot(x='feature', y='variance', data=df_plt,\n",
    "            order=df_plt.sort_values('variance')['feature'])\n",
    "plt.title('Variance in burrito dimensions', size=20)\n",
    "plt.ylabel('Variance', size=15)\n",
    "plt.xlabel('Feature', size=15)"
   ]
  },
  {
   "cell_type": "markdown",
   "metadata": {},
   "source": [
    "# 2. How consistent are burrito features?\n",
    "### 2a. For each pair of burritos (same reviewer, taco shop, burrito type), compute the difference in each metric across orders"
   ]
  },
  {
   "cell_type": "code",
   "execution_count": 4,
   "metadata": {},
   "outputs": [
    {
     "name": "stdout",
     "output_type": "stream",
     "text": [
      "Diff   Feature\n",
      "----   -------\n",
      "0.41   Meat\n",
      "0.43   Tortilla\n",
      "0.49   overall\n",
      "0.54   Synergy\n",
      "0.59   Fillings\n",
      "0.73   Meat:filling\n",
      "0.80   Wrap\n",
      "0.87   Salsa\n",
      "0.88   Temp\n",
      "1.10   Uniformity\n"
     ]
    }
   ],
   "source": [
    "# Remove rows from dataframe that don't have values in necessary features\n",
    "cols_keep = np.append(foi, ['Location', 'Burrito', 'Reviewer'])\n",
    "df2 = df[cols_keep].dropna(axis=0).reset_index(drop=True)\n",
    "\n",
    "# Determine groups of ratings of the same burrito at the same restaurant by the same person\n",
    "brr_groups_all = df2.groupby(['Location', 'Burrito', 'Reviewer']).groups\n",
    "brr_groups = {}\n",
    "for k in list(brr_groups_all.keys()):\n",
    "    if len(brr_groups_all[k])>1:\n",
    "        brr_groups[k] = brr_groups_all[k]\n",
    "        \n",
    "# Limit the dataframe to the measures we want to analyze\n",
    "df_feat = df2[foi]\n",
    "\n",
    "# Compute difference in features for first 2 observations for each group\n",
    "df_feat_diffs = pd.DataFrame()\n",
    "for k in brr_groups.keys():\n",
    "    feature_diffs = np.abs(df_feat.loc[brr_groups[k][1]] - df_feat.loc[brr_groups[k][0]])\n",
    "    df_feat_diffs = df_feat_diffs.append(feature_diffs, ignore_index=True)\n",
    "    \n",
    "# Compute average difference in each category\n",
    "meandiff_by_feat = df_feat_diffs.mean()\n",
    "\n",
    "# Print average difference in order\n",
    "diff_sort_idx = np.argsort(meandiff_by_feat.values)\n",
    "print('Diff   Feature\\n----   -------')\n",
    "for feat in meandiff_by_feat.keys()[diff_sort_idx]:\n",
    "    print('{:.2f}  '.format(meandiff_by_feat[feat]), feat)"
   ]
  },
  {
   "cell_type": "code",
   "execution_count": 5,
   "metadata": {},
   "outputs": [
    {
     "ename": "NameError",
     "evalue": "name 'feature_order' is not defined",
     "output_type": "error",
     "traceback": [
      "\u001b[0;31m---------------------------------------------------------------------------\u001b[0m",
      "\u001b[0;31mNameError\u001b[0m                                 Traceback (most recent call last)",
      "\u001b[0;32m<ipython-input-5-3ed4b180ca0f>\u001b[0m in \u001b[0;36m<module>\u001b[0;34m()\u001b[0m\n\u001b[1;32m      2\u001b[0m \u001b[0mplt\u001b[0m\u001b[0;34m.\u001b[0m\u001b[0mfigure\u001b[0m\u001b[0;34m(\u001b[0m\u001b[0mfigsize\u001b[0m\u001b[0;34m=\u001b[0m\u001b[0;34m(\u001b[0m\u001b[0;36m10\u001b[0m\u001b[0;34m,\u001b[0m\u001b[0;36m4\u001b[0m\u001b[0;34m)\u001b[0m\u001b[0;34m)\u001b[0m\u001b[0;34m\u001b[0m\u001b[0m\n\u001b[1;32m      3\u001b[0m sns.barplot(x='feature', y='avgdiff', data=df_plt,\n\u001b[0;32m----> 4\u001b[0;31m             order=feature_order)\n\u001b[0m\u001b[1;32m      5\u001b[0m \u001b[0mplt\u001b[0m\u001b[0;34m.\u001b[0m\u001b[0mtitle\u001b[0m\u001b[0;34m(\u001b[0m\u001b[0;34m'Consistency in a burrito across visits'\u001b[0m\u001b[0;34m,\u001b[0m \u001b[0msize\u001b[0m\u001b[0;34m=\u001b[0m\u001b[0;36m20\u001b[0m\u001b[0;34m)\u001b[0m\u001b[0;34m\u001b[0m\u001b[0m\n\u001b[1;32m      6\u001b[0m \u001b[0mplt\u001b[0m\u001b[0;34m.\u001b[0m\u001b[0mylabel\u001b[0m\u001b[0;34m(\u001b[0m\u001b[0;34m'Mean difference'\u001b[0m\u001b[0;34m,\u001b[0m \u001b[0msize\u001b[0m\u001b[0;34m=\u001b[0m\u001b[0;36m15\u001b[0m\u001b[0;34m)\u001b[0m\u001b[0;34m\u001b[0m\u001b[0m\n",
      "\u001b[0;31mNameError\u001b[0m: name 'feature_order' is not defined"
     ]
    },
    {
     "data": {
      "text/plain": [
       "<matplotlib.figure.Figure at 0x1025baa90>"
      ]
     },
     "metadata": {},
     "output_type": "display_data"
    }
   ],
   "source": [
    "df_plt = pd.DataFrame(meandiff_by_feat, columns=['avgdiff']).reset_index().rename(columns={'index':'feature'})\n",
    "plt.figure(figsize=(10,4))\n",
    "sns.barplot(x='feature', y='avgdiff', data=df_plt,\n",
    "            order=feature_order)\n",
    "plt.title('Consistency in a burrito across visits', size=20)\n",
    "plt.ylabel('Mean difference', size=15)\n",
    "plt.xlabel('Feature', size=15)"
   ]
  },
  {
   "cell_type": "markdown",
   "metadata": {},
   "source": [
    "### 2b. Compute null distribution of differences between 2 random burritos"
   ]
  },
  {
   "cell_type": "code",
   "execution_count": null,
   "metadata": {
    "collapsed": true
   },
   "outputs": [],
   "source": [
    "np.random.seed(0)\n",
    "N_sim = 1000 # Number of simulated burrito pairings\n",
    "\n",
    "# Choose a random reviewer for each simulation\n",
    "reviewers_by_repeated = [k[2] for k in brr_groups.keys()]\n",
    "unique_reviewers = np.unique(reviewers_by_repeated)\n",
    "sim_rating1_options = np.hstack([x[:2] for x in brr_groups.values()])\n",
    "sim_rating1 = np.random.choice(sim_rating1_options, N_sim)\n",
    "\n",
    "# For each reviewer, compute their dataframe\n",
    "feat_keep = np.append(foi, 'Location')\n",
    "df_by_reviewer = {}\n",
    "for r in unique_reviewers:\n",
    "    # Get data from 1 reviewer\n",
    "    df_temp = df[df['Reviewer']==r]\n",
    "    # Only look at columns of interest\n",
    "    df_temp = df_temp[feat_keep]\n",
    "    # Remove rows with NaN\n",
    "    df_temp.dropna(axis=0, inplace=True)\n",
    "    # Save reviewer dataframe\n",
    "    df_by_reviewer[r] = df_temp.reset_index(drop=True)\n",
    "    \n",
    "# Compute feature differences for random burritos\n",
    "feat_diffs_null = defaultdict(list)\n",
    "for i in range(N_sim):\n",
    "    # Determine reviewer\n",
    "    idx_rating1 = sim_rating1[i]\n",
    "    r = df2.loc[idx_rating1]['Reviewer']\n",
    "    rest1 = df2.loc[idx_rating1]['Location']\n",
    "    feats1 = df2.loc[idx_rating1].drop(['Location','Burrito','Reviewer'])\n",
    "    \n",
    "    # Choose 2 valid random burritos from that reviewer\n",
    "    got_2 = False\n",
    "    while not got_2:\n",
    "        # Choose another random burritos\n",
    "        idx_rating2 = np.random.randint(len(df_by_reviewer[r]))\n",
    "        \n",
    "        # Check if burritos are not from same restaurant\n",
    "        rest2 = df_by_reviewer[r].loc[idx_rating2].Location\n",
    "        if rest1 != rest2:\n",
    "            got_2 = True\n",
    "            feats2 = df_by_reviewer[r].loc[idx_rating2].drop('Location')\n",
    "            \n",
    "    # Compute differences for each feature\n",
    "    for k in feats1.keys():\n",
    "        feat_diffs_null[k].append(np.abs(feats1[k] - feats2[k]))"
   ]
  },
  {
   "cell_type": "markdown",
   "metadata": {},
   "source": [
    "### 2c. Distributions of feature differences: True and null"
   ]
  },
  {
   "cell_type": "code",
   "execution_count": null,
   "metadata": {},
   "outputs": [],
   "source": [
    "print('Feature     p-value\\n-------     -------')\n",
    "# Print stats\n",
    "diff_sort_idx = np.argsort(meandiff_by_feat.values)\n",
    "ps = {}\n",
    "for k in df_feat_diffs.keys():\n",
    "    t, ps[k] = sp.stats.mannwhitneyu(df_feat_diffs[k].values,feat_diffs_null[k])\n",
    "    print('{: <14}{:.3f}  '.format(k, ps[k]))\n",
    "    \n",
    "plt.figure(figsize=(12,8))\n",
    "for i, k in enumerate(df_feat_diffs.keys()):\n",
    "    plt.subplot(2,5,i+1)\n",
    "    plt.hist(df_feat_diffs[k].values,np.arange(-.25,4,.5), color='k', normed=True, alpha=.5, label='same')\n",
    "    plt.hist(feat_diffs_null[k],np.arange(-.25,4,.5), color='r', normed=True, alpha=.5, label='different')\n",
    "    plt.title(k+', p={:.3f}'.format(ps[k]), size=15)\n",
    "    plt.xticks(np.arange(0,5,1))\n",
    "    if i == 0:\n",
    "        plt.legend(loc='best', title='burritos')\n",
    "    if i == 0 or i == 5:\n",
    "        plt.ylabel('Normalized count')\n",
    "    else:\n",
    "        plt.yticks([])\n",
    "    plt.xlabel('Rating difference')\n",
    "    plt.tight_layout()"
   ]
  },
  {
   "cell_type": "markdown",
   "metadata": {},
   "source": [
    "# 3. Inter-reviewer reliability\n",
    "### 3a. Determine inter-reviewer pairs"
   ]
  },
  {
   "cell_type": "code",
   "execution_count": null,
   "metadata": {
    "collapsed": true,
    "scrolled": false
   },
   "outputs": [],
   "source": [
    "# Determine which burritos have been eaten at least twice\n",
    "cols_keep = np.append(foi, ['Location', 'Burrito', 'Reviewer', 'Date'])\n",
    "df2 = df[cols_keep].dropna(axis=0).reset_index(drop=True)\n",
    "burrito_groups = df2.groupby(['Location', 'Burrito']).groups\n",
    "\n",
    "# For each burrito group, make pairs of ratings\n",
    "burrito_pairs_idxs = []\n",
    "for k, idxs in burrito_groups.items():\n",
    "\n",
    "    # Only consider burrito groups with more than 1 rating\n",
    "    if len(idxs) >= 2:\n",
    "        \n",
    "        # Only consider burrito groups with more than 1 distinct reviewer and date\n",
    "        reviewer_array = df2.loc[idxs]['Reviewer'].values\n",
    "        date_array = df2.loc[idxs]['Date'].values\n",
    "        if len(np.unique(reviewer_array)) > 1 and len(np.unique(date_array)) > 1:\n",
    "            \n",
    "            # Make new pairs as long as possible\n",
    "            pairing_reviewers = np.copy(reviewer_array)\n",
    "            pairing_dates = np.copy(date_array)\n",
    "            pairing_idxs = np.copy(idxs)\n",
    "            can_make_pair = True\n",
    "            while can_make_pair:\n",
    "                \n",
    "                # Cannot make pair if less than 2 unique dates, \n",
    "                if len(np.unique(pairing_reviewers)) < 2 and len(np.unique(pairing_dates)) < 2:\n",
    "                    can_make_pair = False\n",
    "\n",
    "                else:\n",
    "                    # Choose 1 random rating\n",
    "                    rating1_i = pairing_idxs[0]\n",
    "                    rating1_rev = pairing_reviewers[0]\n",
    "                    rating1_date = pairing_dates[0]\n",
    "                    \n",
    "                    # Choose a rating that can go with this one\n",
    "                    for i in range(1,len(pairing_idxs)):\n",
    "                        rating2_i = pairing_idxs[i]\n",
    "                        rating2_rev = pairing_reviewers[i]\n",
    "                        rating2_date = pairing_dates[i]\n",
    "                        if (rating1_rev != rating2_rev) and (rating1_date != rating2_date):\n",
    "                            burrito_pairs_idxs.append([rating1_i, rating2_i])\n",
    "                            \n",
    "                            # remove those indices\n",
    "                            pairing_reviewers = np.delete(pairing_reviewers, [0, i])\n",
    "                            pairing_dates = np.delete(pairing_dates, [0, i])\n",
    "                            pairing_idxs = np.delete(pairing_idxs, [0, i])\n",
    "                            break\n",
    "\n",
    "                        # Delete the first index if no pairings worked\n",
    "                        if i == len(pairing_idxs)-1:\n",
    "                            pairing_reviewers = np.delete(pairing_reviewers, 0)\n",
    "                            pairing_dates = np.delete(pairing_dates, 0)\n",
    "                            pairing_idxs = np.delete(pairing_idxs, 0)\n",
    "                            "
   ]
  },
  {
   "cell_type": "markdown",
   "metadata": {},
   "source": [
    "### 3b. Compute the difference in feature values for review pairs"
   ]
  },
  {
   "cell_type": "code",
   "execution_count": null,
   "metadata": {},
   "outputs": [],
   "source": [
    "N_pairs = len(burrito_pairs_idxs)\n",
    "\n",
    "df_feat_diffs = pd.DataFrame()\n",
    "for i in range(N_pairs):\n",
    "    feature_diffs = np.abs(df_feat.loc[burrito_pairs_idxs[i][0]] - df_feat.loc[burrito_pairs_idxs[i][1]])\n",
    "    df_feat_diffs = df_feat_diffs.append(feature_diffs, ignore_index=True)\n",
    "    \n",
    "# Compute average difference in each category\n",
    "meandiff_by_feat = df_feat_diffs.mean()\n",
    "\n",
    "# Print average difference in order\n",
    "diff_sort_idx = np.argsort(meandiff_by_feat.values)\n",
    "print('Diff   Feature\\n----   -------')\n",
    "for feat in meandiff_by_feat.keys()[diff_sort_idx]:\n",
    "    print('{:.2f}  '.format(meandiff_by_feat[feat]), feat)"
   ]
  },
  {
   "cell_type": "markdown",
   "metadata": {},
   "source": [
    "### 3c. Compute null distribution of differences between burritos"
   ]
  },
  {
   "cell_type": "code",
   "execution_count": null,
   "metadata": {
    "collapsed": true
   },
   "outputs": [],
   "source": [
    "np.random.seed(0)\n",
    "N_sim = 1000 # Number of simulated burrito pairings\n",
    "\n",
    "# Choose a random reviewer for each simulation\n",
    "sim_rating1_options = np.hstack(burrito_pairs_idxs)\n",
    "sim_rating1 = np.random.choice(sim_rating1_options, N_sim)\n",
    "    \n",
    "# Compute feature differences for random burritos\n",
    "feat_diffs_null = defaultdict(list)\n",
    "for i in range(N_sim):\n",
    "    # Determine reviewer\n",
    "    idx_rating1 = sim_rating1[i]\n",
    "    rev1 = df2.loc[idx_rating1]['Reviewer']\n",
    "    rest1 = df2.loc[idx_rating1]['Location']\n",
    "    feats1 = df2.loc[idx_rating1].drop(['Location','Burrito','Reviewer','Date'])\n",
    "    \n",
    "    # Choose 2 valid random burritos from that reviewer\n",
    "    got_2 = False\n",
    "    while not got_2:\n",
    "        # Choose another random burritos\n",
    "        idx_rating2 = np.random.randint(len(df2))\n",
    "        \n",
    "        # Check if burritos are not from same restaurant\n",
    "        rest2 = df2.loc[idx_rating2].Location\n",
    "        rev2 = df2.loc[idx_rating2].Reviewer\n",
    "        if (rest1 != rest2) and (rev1 != rev2):\n",
    "            got_2 = True\n",
    "            feats2 = df2.loc[idx_rating2].drop(['Location','Burrito','Reviewer','Date'])\n",
    "            \n",
    "    # Compute differences for each feature\n",
    "    for k in feats1.keys():\n",
    "        feat_diffs_null[k].append(np.abs(feats1[k] - feats2[k]))"
   ]
  },
  {
   "cell_type": "markdown",
   "metadata": {},
   "source": [
    "### 3d. Distribution of feature differences: True and null"
   ]
  },
  {
   "cell_type": "code",
   "execution_count": null,
   "metadata": {},
   "outputs": [],
   "source": [
    "print('Feature     p-value\\n-------     -------')\n",
    "# Print stats\n",
    "diff_sort_idx = np.argsort(meandiff_by_feat.values)\n",
    "ps = {}\n",
    "for k in df_feat_diffs.keys():\n",
    "    t, ps[k] = sp.stats.mannwhitneyu(df_feat_diffs[k].values,feat_diffs_null[k])\n",
    "    print('{: <14}{:.3f}  '.format(k, ps[k]))\n",
    "    \n",
    "plt.figure(figsize=(12,8))\n",
    "for i, k in enumerate(df_feat_diffs.keys()):\n",
    "    plt.subplot(2,5,i+1)\n",
    "    plt.hist(df_feat_diffs[k].values,np.arange(-.25,4,.5), color='k', normed=True, alpha=.5, label='same')\n",
    "    plt.hist(feat_diffs_null[k],np.arange(-.25,4,.5), color='r', normed=True, alpha=.5, label='different')\n",
    "    plt.title(k+', p={:.3f}'.format(ps[k]), size=15)\n",
    "    plt.xticks(np.arange(0,5,1))\n",
    "    if i == 0:\n",
    "        plt.legend(loc='best', title='burritos')\n",
    "    if i == 0 or i == 5:\n",
    "        plt.ylabel('Normalized count')\n",
    "    else:\n",
    "        plt.yticks([])\n",
    "    plt.xlabel('Rating difference')\n",
    "    plt.tight_layout()"
   ]
  },
  {
   "cell_type": "markdown",
   "metadata": {},
   "source": [
    "# 4. Confidence interval for a recommendation\n",
    "If we give someone a recommendation (e.g. this burrito has 4/5 meat), are we confident that the other person will have a similar feeling?\n",
    "\n",
    "i.e. What is the probability that both ratings are within 1 point?"
   ]
  },
  {
   "cell_type": "code",
   "execution_count": null,
   "metadata": {},
   "outputs": [],
   "source": [
    "print('Feature       Probability rating within 1\\n-------       ---------------------------')\n",
    "    \n",
    "for k in df_feat_diffs.keys():\n",
    "    prob = np.mean(df_feat_diffs[k].values <= 1)\n",
    "    print('{: <14}{:.2f}  '.format(k, prob))"
   ]
  },
  {
   "cell_type": "code",
   "execution_count": null,
   "metadata": {},
   "outputs": [],
   "source": []
  }
 ],
 "metadata": {
  "kernelspec": {
   "display_name": "Python 3",
   "language": "python",
   "name": "python3"
  },
  "language_info": {
   "codemirror_mode": {
    "name": "ipython",
    "version": 3
   },
   "file_extension": ".py",
   "mimetype": "text/x-python",
   "name": "python",
   "nbconvert_exporter": "python",
   "pygments_lexer": "ipython3",
   "version": "3.6.0"
  }
 },
 "nbformat": 4,
 "nbformat_minor": 2
}
