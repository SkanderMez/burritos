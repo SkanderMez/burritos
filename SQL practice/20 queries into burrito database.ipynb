{
 "cells": [
  {
   "cell_type": "markdown",
   "metadata": {},
   "source": [
    "# 20 Queries\n",
    "\n",
    "1. Number of burritos / restaurants / reviewers in db\n",
    "2. Number of different burritos rated at Taco Stand\n",
    "3. Number and average ratings for each reviewer, sorted by most ratings\n",
    "4. Only reviews in 2018\n",
    "5. Only burritos cheaper than $6\n",
    "6. Cost between 6.50 and 7.50\n",
    "7. Only California burritos from Taco Stand\n",
    "8. Only reviews with volume\n",
    "9. Only reviews from a consistent reviewer (>=5 reviews)\n",
    "10. Overall ratings when Meat rating was 2.5 or lower\n",
    "11. Ratings only in UTC\n",
    "12. Only locals' reviews\n",
    "13. Taco shops with average salsa rating >=4, and number of ratings\n",
    "14. Number and average ratings for each taco shop, sorted by most favorable, at least 3 ratings\n",
    "15. Taco shops with free chips, and average overall rating\n",
    "16. Taco shops with yelp rating >=4 stars, with average burrito rating\n",
    "17. Average ratings of each taco shop in each dimension\n",
    "18. Average ratings from locals vs nonlocals\n",
    "19. Average ratings for reviewers younger and older than 30\n",
    "20. Edit a reviewer and add a rating\n",
    "\n",
    "NOTE: Using the [sqlite kernel for Jupyter](https://github.com/brownan/sqlite3-kernel)"
   ]
  },
  {
   "cell_type": "markdown",
   "metadata": {},
   "source": [
    "# Tables"
   ]
  },
  {
   "cell_type": "code",
   "execution_count": 1,
   "metadata": {},
   "outputs": [
    {
     "name": "stdout",
     "output_type": "stream",
     "text": []
    }
   ],
   "source": [
    "attach \"burritos.db\" as db1;"
   ]
  },
  {
   "cell_type": "code",
   "execution_count": 2,
   "metadata": {},
   "outputs": [
    {
     "name": "stdout",
     "output_type": "stream",
     "text": [
      "index|Location|Burrito|Date|Cost|Hunger|Mass (g)|Density (g/mL)|Length|Circum|Volume|Tortilla|Temp|Meat|Fillings|Meat:filling|Uniformity|Salsa|Synergy|Wrap|overall|Rec|Reviewer|Notes\r\n",
      "0|donato's taco shop|california|1/18/2016|6.49|3.0||||||3.0|5.0|3.0|3.5|4.0|4.0|4.0|4.0|4.0|3.8||scott|good fries: 4/5\r\n",
      "1|oscar's mexican food|california|1/24/2016|5.45|3.5||||||2.0|3.5|2.5|2.5|2.0|4.0|3.5|2.5|5.0|3.0||scott|Fries: 3/5; too little meat\r\n",
      "2|oscar's mexican food|carnitas|1/24/2016|4.85|1.5||||||3.0|2.0|2.5|3.0|4.5|4.0|3.0|3.0|5.0|3.0||emily|\r\n"
     ]
    }
   ],
   "source": [
    ".headers on\n",
    "SELECT * FROM burritos LIMIT 3;"
   ]
  },
  {
   "cell_type": "code",
   "execution_count": 3,
   "metadata": {},
   "outputs": [
    {
     "name": "stdout",
     "output_type": "stream",
     "text": [
      "index|Location|Neighborhood|Address|URL|Yelp|Google|Chips\r\n",
      "0|donato's taco shop|Miramar|6780 Miramar Rd|http://donatostacoshop.net/|3.5|4.2|0\r\n",
      "1|oscar's mexican food|San Marcos|225 S Rancho Santa Fe Rd|http://www.yelp.com/biz/oscars-mexican-food-san-marcos|3.5|3.3|0\r\n",
      "4|pollos maria|Carlsbad|3055 Harding St|http://pollosmaria.com/|4.0|3.8|1\r\n"
     ]
    }
   ],
   "source": [
    "SELECT * FROM restaurants LIMIT 3;"
   ]
  },
  {
   "cell_type": "code",
   "execution_count": 4,
   "metadata": {},
   "outputs": [
    {
     "name": "stdout",
     "output_type": "stream",
     "text": [
      "index       age         name        sandiego  \r\n",
      "----------  ----------  ----------  ----------\r\n",
      "0           26.0        scott       1         \r\n",
      "1           25.0        emily       1         \r\n",
      "2           27.0        ricardo     1         \r\n"
     ]
    }
   ],
   "source": [
    ".mode column\n",
    "SELECT * FROM reviewers LIMIT 3;"
   ]
  },
  {
   "cell_type": "markdown",
   "metadata": {},
   "source": [
    "### 1. Number of burritos / restaurants / reviewers in db"
   ]
  },
  {
   "cell_type": "code",
   "execution_count": 5,
   "metadata": {},
   "outputs": [
    {
     "name": "stdout",
     "output_type": "stream",
     "text": [
      "374\r\n",
      "79\r\n",
      "71\r\n"
     ]
    }
   ],
   "source": [
    ".headers off\n",
    ".mode list\n",
    "SELECT COUNT() FROM burritos;\n",
    "SELECT COUNT() FROM restaurants;\n",
    "SELECT COUNT() FROM reviewers;"
   ]
  },
  {
   "cell_type": "markdown",
   "metadata": {},
   "source": [
    "### 2. Number of different burritos rated at Taco Villa"
   ]
  },
  {
   "cell_type": "code",
   "execution_count": 6,
   "metadata": {},
   "outputs": [
    {
     "name": "stdout",
     "output_type": "stream",
     "text": [
      "12\r\n"
     ]
    }
   ],
   "source": [
    "SELECT COUNT( DISTINCT burrito) FROM burritos\n",
    "WHERE Location='taco villa';"
   ]
  },
  {
   "cell_type": "markdown",
   "metadata": {},
   "source": [
    "### 3. Number and average ratings for each reviewer, sorted by most ratings"
   ]
  },
  {
   "cell_type": "code",
   "execution_count": 7,
   "metadata": {
    "scrolled": true
   },
   "outputs": [
    {
     "name": "stdout",
     "output_type": "stream",
     "text": [
      "Reviewer    num         AVG(overall)    \r\n",
      "----------  ----------  ----------------\r\n",
      "scott       141         3.51241134751773\r\n",
      "emily       58          3.51637931034483\r\n",
      "ricardo     18          3.625           \r\n",
      "sage        14          3.57571428571429\r\n",
      "elynn       10          3.75            \r\n",
      "luis        10          4.17            \r\n",
      "richard     10          3.465           \r\n",
      "brent       8           3.6875          \r\n",
      "erin        7           3.42857142857143\r\n",
      "tom         7           3.5             \r\n",
      "hannah      5           3.875           \r\n",
      "marc        4           3.375           \r\n",
      "matteo      4           3.625           \r\n",
      "nuttida     4           4.2             \r\n",
      "bankole     3           3.03333333333333\r\n",
      "erik        3           3.36666666666667\r\n",
      "mike        3           4.16666666666667\r\n",
      "aga         2           4.5             \r\n",
      "ben s       2           4.0             \r\n",
      "cris        2           3.375           \r\n",
      "devleena    2           3.5             \r\n",
      "jeremy      2           3.25            \r\n",
      "katie       2           3.7             \r\n",
      "kelsey      2           2.916665        \r\n",
      "sankha g    2           3.25            \r\n",
      "shijia      2           3.1             \r\n",
      "tara        2           4.25            \r\n",
      "@danjlurie  1           4.7             \r\n",
      "@synapticl  1           4.0             \r\n",
      "Fake        1           3.0             \r\n",
      "aaron s     1           4.0             \r\n",
      "alejandro   1           4.2             \r\n",
      "alex        1           3.75            \r\n",
      "andy        1           4.0             \r\n",
      "ant         1           4.0             \r\n",
      "ashley g    1           3.5             \r\n",
      "benni       1           3.0             \r\n",
      "brad        1           4.5             \r\n",
      "brad p      1           3.5             \r\n",
      "chris g     1           4.0             \r\n",
      "clark       1           4.0             \r\n",
      "dan         1           3.7             \r\n",
      "daniel      1           4.5             \r\n",
      "daniel a    1           2.8             \r\n",
      "eli         1           3.0             \r\n",
      "erik k      1           2.0             \r\n",
      "han mee     1           4.0             \r\n",
      "jaeyoung    1           2.0             \r\n",
      "jake        1           3.0             \r\n",
      "javier      1           3.0             \r\n",
      "justin c    1           4.5             \r\n",
      "justin k    1           5.0             \r\n",
      "leo         1           3.0             \r\n",
      "matt        1           3.0             \r\n",
      "meghan      1           2.0             \r\n",
      "melissa g   1           3.5             \r\n",
      "melissa n   1           2.2             \r\n",
      "nick g.     1           4.0             \r\n",
      "nicole      1           2.0             \r\n",
      "nihal       1           4.3             \r\n",
      "rob         1           3.8             \r\n",
      "rob g       1           3.25            \r\n",
      "rob l       1           2.0             \r\n",
      "sam a       1           3.5             \r\n",
      "sandra      1           4.0             \r\n",
      "shreejoy    1           4.5             \r\n",
      "simon       1           4.2             \r\n",
      "spencer     1           4.0             \r\n",
      "tammy       1           2.0             \r\n",
      "tj          1           4.0             \r\n",
      "torben      1           3.0             \r\n",
      "xi          1           3.5             \r\n"
     ]
    }
   ],
   "source": [
    ".mode column\n",
    ".headers on\n",
    "SELECT reviewer, COUNT(*) AS `num`, AVG(overall) FROM burritos\n",
    "GROUP BY reviewer\n",
    "ORDER BY `num` DESC"
   ]
  },
  {
   "cell_type": "markdown",
   "metadata": {},
   "source": [
    "### 4. Only reviews in 2018"
   ]
  },
  {
   "cell_type": "code",
   "execution_count": 8,
   "metadata": {
    "scrolled": true
   },
   "outputs": [
    {
     "name": "stdout",
     "output_type": "stream",
     "text": [
      "Date        Location            Burrito     overall   \r\n",
      "----------  ------------------  ----------  ----------\r\n",
      "1/2/2018    lolita's taco shop  california  3.5       \r\n",
      "1/12/2018   los tacos 2         local       3.0       \r\n",
      "4/4/2018    rigoberto's taco s  carne asad  4.0       \r\n",
      "4/9/2018    taco villa          carnitas    4.1       \r\n",
      "4/9/2018    taco villa          carnitas    4.0       \r\n",
      "4/9/2018    taco villa          carnitas    3.5       \r\n",
      "4/14/2018   mikes taco club     california  4.2       \r\n",
      "4/14/2018   mikes taco club     california  3.8       \r\n",
      "4/16/2018   taco villa          chile verd  3.6       \r\n",
      "4/16/2018   el zarape           supreme ch  3.8       \r\n",
      "4/20/2018   taco villa          carnitas    4.0       \r\n",
      "4/20/2018   taco villa          carnitas    4.0       \r\n",
      "4/21/2018   lucha libre carlsb  alambre ca  4.1       \r\n",
      "4/21/2018   lucha libre carlsb  surfin cal  3.9       \r\n",
      "4/29/2018   lucha libre carlsb  ado-haba c  3.1       \r\n",
      "4/29/2018   lucha libre carlsb  ala tingad  1.5       \r\n",
      "5/1/2018    taco villa          california  3.2       \r\n",
      "5/7/2018    taco villa          carnitas    3.7       \r\n",
      "5/7/2018    taco villa          carnitas    4.5       \r\n",
      "5/22/2018   tony's fresh mexic  la paz      4.0       \r\n",
      "5/22/2018   tony's fresh mexic  la paz      4.0       \r\n",
      "5/22/2018   tony's fresh mexic  adobada     4.0       \r\n",
      "5/22/2018   tony's fresh mexic  adobada     3.5       \r\n",
      "5/22/2018   tony's fresh mexic  veggie      3.5       \r\n"
     ]
    }
   ],
   "source": [
    "SELECT Date, Location, Burrito, Overall FROM burritos\n",
    "WHERE substr(Date,5,4) == '2018' OR substr(Date,6,4) == '2018' OR substr(Date,7,4) == '2018'"
   ]
  },
  {
   "cell_type": "markdown",
   "metadata": {},
   "source": [
    "### 5. Only burritos cheaper than $6"
   ]
  },
  {
   "cell_type": "code",
   "execution_count": 9,
   "metadata": {
    "scrolled": true
   },
   "outputs": [
    {
     "name": "stdout",
     "output_type": "stream",
     "text": [
      "Location        Burrito            Cost        overall   \r\n",
      "--------------  -----------------  ----------  ----------\r\n",
      "Fake Taco Shop  Imaginary burrito  0.0         3.0       \r\n",
      "lolita's taco   bean and cheese    3.5         2.7       \r\n",
      "lucha libre no  bean and cheese    3.75        2.0       \r\n",
      "el torrito foo  adobada            3.99        2.6       \r\n",
      "california bur  california everyt  4.75        4.5       \r\n",
      "oscar's mexica  carnitas           4.85        3.0       \r\n",
      "el nopalito     especial           4.87        2.6       \r\n",
      "el nopalito     ranchero steak     4.87        2.6       \r\n",
      "taco villa      chicken and rice   4.95        4.2       \r\n",
      "el pueblo mexi  california         4.99        4.3       \r\n",
      "king burrito    adobada            4.99        2.8       \r\n",
      "taco villa      breakfast          4.99        3.0       \r\n",
      "taco villa      chicken            4.99        3.0       \r\n",
      "raul's mexican  chile verde pork   5.0         2.0       \r\n",
      "raul's mexican  carne asada        5.0         1.0       \r\n",
      "oscar's mexica  carne asada        5.25        3.75      \r\n",
      "albertacos      carne asada        5.25        3.2       \r\n",
      "lucha libre no  veggie             5.25        3.25      \r\n",
      "king burrito    california         5.29        2.5       \r\n",
      "roberto's very  carnitas           5.4         2.7       \r\n",
      "oscar's mexica  california         5.45        3.0       \r\n",
      "el torrito foo  asada              5.49        3.1       \r\n",
      "gloria's taco   cabeza             5.49        2.0       \r\n",
      "lolita's taco   adobado            5.5         3.5       \r\n",
      "jorge's mexica  chimichanga beef   5.5         3.0       \r\n",
      "netos mexican   carne adobada      5.5         3.0       \r\n",
      "california bur  carnitas           5.5         4.5       \r\n",
      "california bur  california         5.5         3.5       \r\n",
      "california bur  california         5.5         3.5       \r\n",
      "california bur  california         5.5         3.5       \r\n",
      "juanita's taco  california         5.55        3.5       \r\n",
      "juanita's taco  arizona            5.55        3.9       \r\n",
      "caliente mexic  carne asada        5.56        3.5       \r\n",
      "caliente mexic  carne asada        5.56        4.0       \r\n",
      "caliente mexic  fried fish         5.56        3.5       \r\n",
      "gloria's taco   california         5.65        2.7       \r\n",
      "los cabos       al pastor          5.69        4.0       \r\n",
      "roberto's taco  carne asada        5.69        3.0       \r\n",
      "albertacos      california         5.7         3.7       \r\n",
      "roberto's taco  california         5.79        3.6       \r\n",
      "roberto's taco  california         5.79        3.0       \r\n",
      "jorge's mexica  california         5.95        3.8       \r\n",
      "el cuervo       pollo adobado      5.95        4.0       \r\n",
      "taco villa      carnitas           5.95        3.9       \r\n",
      "graciela's tac  adobada            5.99        4.0       \r\n",
      "graciela's tac  barbacoa           5.99        4.0       \r\n",
      "cancun mexican  machaca            5.99        3.9       \r\n",
      "sotos mexican   pastor             5.99        3.2       \r\n",
      "netos mexican   california         5.99        3.2       \r\n",
      "los cabos       california         5.99        3.0       \r\n",
      "taco villa      carnitas           5.99        4.0       \r\n",
      "taco villa      al pastor          5.99        3.2       \r\n",
      "donato's taco   al pastor          5.99        3.0       \r\n",
      "donato's taco   carne asada        5.99        4.0       \r\n",
      "el pollo loco   chicken avocado    5.99        3.2       \r\n",
      "taco villa      pollo asado        5.99        3.1       \r\n",
      "taco villa      carnitas           5.99        4.0       \r\n",
      "taco villa      carnitas           5.99        3.5       \r\n",
      "taco villa      carnitas           5.99        3.8       \r\n",
      "taco villa      carnitas           5.99        4.1       \r\n",
      "taco villa      carnitas           5.99        4.0       \r\n",
      "taco villa      carnitas           5.99        3.5       \r\n",
      "taco villa      chile verde (pork  5.99        3.6       \r\n",
      "taco villa      carnitas           5.99        4.0       \r\n",
      "taco villa      carnitas           5.99        4.0       \r\n",
      "taco villa      carnitas           5.99        3.7       \r\n",
      "taco villa      carnitas           5.99        4.5       \r\n",
      "lola's 7 up ma  shredded beef      6.0         3.8       \r\n",
      "los primos mex  baja monster       6.0         2.0       \r\n",
      "los primos mex  baja monster       6.0         3.8       \r\n"
     ]
    }
   ],
   "source": [
    "SELECT Location, Burrito, Cost, Overall FROM burritos\n",
    "WHERE Cost <= 6\n",
    "ORDER BY Cost"
   ]
  },
  {
   "cell_type": "markdown",
   "metadata": {},
   "source": [
    "### 6. Only burritos costing between 6.50 and 7.50"
   ]
  },
  {
   "cell_type": "code",
   "execution_count": 10,
   "metadata": {},
   "outputs": [
    {
     "name": "stdout",
     "output_type": "stream",
     "text": [
      "Location      Burrito     Cost        overall   \r\n",
      "------------  ----------  ----------  ----------\r\n",
      "pollos maria  california  6.59        4.2       \r\n",
      "pollos maria  combo chic  6.99        3.2       \r\n",
      "nico's taco   california  7.19        2.6       \r\n",
      "nico's taco   carnitas    6.99        3.0       \r\n",
      "tony's fresh  chile verd  6.95        3.0       \r\n",
      "tony's fresh  battered f  6.99        2.0       \r\n",
      "taco stand    california  7.49        4.2       \r\n",
      "taco stand    california  7.49        4.6       \r\n",
      "taco stand    california  7.49        4.5       \r\n",
      "lola's 7 up   carne asad  7.0         3.0       \r\n",
      "rigoberto's   carne asad  6.6         4.25      \r\n",
      "taco stand    al pastor   6.99        3.5       \r\n",
      "cancun mexic  california  6.99        4.2       \r\n",
      "vallarta exp  quesaburro  6.95        4.1       \r\n",
      "vallarta exp  philly      6.95        3.0       \r\n",
      "vallarta exp  carne asad  6.5         3.25      \r\n",
      "vallarta exp  quesa       6.95        3.75      \r\n",
      "vallarta exp  mahi        7.3         3.5       \r\n",
      "rigoberto's   california  6.6         4.5       \r\n",
      "rigoberto's   adobada     6.6         4.5       \r\n",
      "rigoberto's   california  6.6         3.6       \r\n",
      "rigoberto's   surf & tur  7.45        3.0       \r\n",
      "rudy's taco   chicken     6.6         2.8       \r\n",
      "rudy's taco   carnitas    6.6         3.0       \r\n",
      "vallarta exp  fish        6.5         3.5       \r\n",
      "vallarta exp  california  6.65        4.0       \r\n",
      "mi asador me  california  6.89        3.0       \r\n",
      "sotos mexica  california  6.75        3.5       \r\n",
      "taco stand    california  7.49        4.2       \r\n",
      "taco stand    california  7.49        4.5       \r\n",
      "taco stand    california  7.49        3.7       \r\n",
      "taco stand    california  7.49        4.0       \r\n",
      "taco stand    california  7.49        4.0       \r\n",
      "vallarta exp  california  6.95        2.9       \r\n",
      "lolita's tac  california  7.0         3.3       \r\n",
      "rigoberto's   el rusio    6.65        2.5       \r\n",
      "rigoberto's   carne asad  6.6         4.0       \r\n",
      "rigoberto's   carne asad  6.6         3.0       \r\n",
      "rigoberto's   carnitas    7.5         4.0       \r\n",
      "karina's tac  california  6.99        3.8       \r\n",
      "goody's       custom      7.25        1.8       \r\n",
      "taco surf pb  california  7.14        4.4       \r\n",
      "taco surf pb  california  7.14        4.1       \r\n",
      "roberto's ve  chicken as  6.5         1.5       \r\n",
      "los primos m  california  7.5         3.5       \r\n",
      "los primos m  california  7.0         2.5       \r\n",
      "taco stand    al pastor   6.99        3.9       \r\n",
      "taco stand    al pastor   6.99        3.5       \r\n",
      "el dorado me  california  6.94        4.5       \r\n",
      "el dorado me  super       6.94        3.8       \r\n",
      "lolita's tac  california  7.0         2.3       \r\n",
      "lolita's tac  california  7.0         4.0       \r\n",
      "lolita's tac  california  7.0         3.0       \r\n",
      "california b  surf & tur  7.0                   \r\n",
      "los primos m  surf & tur  7.0         2.5       \r\n",
      "los primos m  carne asad  7.0         2.0       \r\n",
      "burros and f  california  6.89        3.5       \r\n",
      "burros and f  carne asad  6.89        4.0       \r\n",
      "taco stand    california  7.49        4.0       \r\n",
      "taco stand    california  7.49        4.0       \r\n",
      "carmen's mex  adobada     6.5         3.6       \r\n",
      "carmen's mex  carne asad  6.5         4.0       \r\n",
      "lucha libre   nutty       7.5         4.4       \r\n",
      "lucha libre   veg out     6.95        4.5       \r\n",
      "lucha libre   california  7.5         3.9       \r\n",
      "lucha libre   california  7.5         3.5       \r\n",
      "lucha libre   california  7.5         3.0       \r\n",
      "lucha libre   california  7.5         4.25      \r\n",
      "lucha libre   california  7.5         4.5       \r\n",
      "lucha libre   california  7.5         2.5       \r\n",
      "lucha libre   california  7.5         3.0       \r\n",
      "lucha libre   holy moly   7.5         3.5       \r\n",
      "lucha libre   holy moly   7.5         1.5       \r\n",
      "lucha libre   holy moly   7.5         4.0       \r\n",
      "lucha libre   holy moly   7.5         2.0       \r\n",
      "lucha libre   holy moly   7.5         4.0       \r\n",
      "cancun mexic  california  6.99        4.0       \r\n",
      "roberto's ta  california  7.29        4.0       \r\n",
      "chipotle      carnitas    7.15        2.75      \r\n",
      "taco stand    al pastor   6.99        4.5       \r\n",
      "taco stand    california  7.49        4.7       \r\n",
      "el cuervo     california  6.95        3.6       \r\n",
      "rigoberto's   california  6.6         4.25      \r\n",
      "rigoberto's   carnitas    6.6         4.0       \r\n",
      "matador mexi  carnitas    6.6         3.0       \r\n",
      "matador mexi  carne asad  6.6         3.0       \r\n",
      "california b  dave's cal  6.5         3.3       \r\n",
      "taco villa    california  6.99        3.5       \r\n",
      "california b  fajitas     6.5         2.2       \r\n",
      "california b  california  6.95        4.0       \r\n",
      "california b  surf & tur  7.0         5.0       \r\n",
      "taco villa    tejano      6.99        4.0       \r\n",
      "taco stand e  california  7.49        4.2       \r\n",
      "taco stand e  california  7.49        4.2       \r\n",
      "el portal fr  mahi        7.35        3.1       \r\n",
      "el portal fr  carnitas    6.7         3.75      \r\n",
      "valentines m  carne asad  6.75        4.2       \r\n",
      "cancun mexic  california  6.99        4.5       \r\n",
      "cancun mexic  california  6.99        4.5       \r\n",
      "los panchos   bitchin ca  7.25        4.4       \r\n",
      "los panchos   tijuana     7.0         3.7       \r\n",
      "pollos maria  combo chic  6.99        3.8       \r\n",
      "rigoberto's   california  6.6         3.7       \r\n",
      "rigoberto's   chile rell  6.6         3.9       \r\n",
      "lupe's taco   hot cheeto  7.29        3.7       \r\n",
      "lupe's taco   california  7.49        3.9       \r\n",
      "lupe's taco   spicy a la  7.49        2.0       \r\n",
      "taco villa    al pastor   6.99        3.0       \r\n",
      "rigoberto's   california  6.85        3.6       \r\n",
      "rigoberto's   california  6.85        4.3       \r\n",
      "cotixan       california  7.19        3.5       \r\n",
      "lourdes       carnitas    7.35        3.75      \r\n",
      "vallarta exp  california  7.5         4.1       \r\n",
      "california b  california  6.5         4.1       \r\n",
      "california b  california  6.5         4.0       \r\n",
      "california b  surf & tur  6.75        3.5       \r\n",
      "california b  california  6.5         4.0       \r\n",
      "california b  surf & tur  6.75        4.5       \r\n",
      "los palmitos  california  7.1         4.3       \r\n",
      "rigoberto's   california  6.85        3.9       \r\n",
      "rigoberto's   california  6.85        4.0       \r\n",
      "el dorado me  california  7.4         4.0       \r\n",
      "el dorado me  california  7.4         3.8       \r\n",
      "roberto's ta  asada       7.0         2.8       \r\n",
      "roberto's ta  california  7.0         2.2       \r\n",
      "burros and f  shrimp cal  6.99        3.0       \r\n",
      "burros and f  california  7.19        3.8       \r\n",
      "cotixan       california  6.9         3.7       \r\n",
      "taco villa    carne asad  6.99        2.0       \r\n",
      "taco villa    california  6.99        3.7       \r\n",
      "valentines m  carne asad  6.75        3.9       \r\n",
      "roberto's ta  california  7.0         4.2       \r\n",
      "kotija jr     california  6.99        3.7       \r\n",
      "kotija jr     steak faji  7.1         4.2       \r\n",
      "taco villa    carne asad  6.99        4.3       \r\n",
      "rigoberto's   california  6.85        4.1       \r\n",
      "rigoberto's   california  6.85        4.25      \r\n",
      "lolita's tac  california  7.25        3.5       \r\n",
      "rigoberto's   carne asad  7.2         4.0       \r\n",
      "el zarape     supreme ch  7.5         3.8       \r\n",
      "taco villa    california  6.99        3.2       \r\n",
      "tony's fresh  adobada     7.39        4.0       \r\n",
      "tony's fresh  adobada     7.39        3.5       \r\n",
      "tony's fresh  veggie      7.39        3.5       \r\n"
     ]
    }
   ],
   "source": [
    "SELECT Location, Burrito, Cost, overall FROM burritos\n",
    "WHERE Cost BETWEEN 6.5 AND 7.5"
   ]
  },
  {
   "cell_type": "markdown",
   "metadata": {},
   "source": [
    "### 7. Only California burritos from Taco Stand"
   ]
  },
  {
   "cell_type": "code",
   "execution_count": 11,
   "metadata": {},
   "outputs": [
    {
     "name": "stdout",
     "output_type": "stream",
     "text": [
      "Location    Burrito     Date        overall     Reviewer  \r\n",
      "----------  ----------  ----------  ----------  ----------\r\n",
      "taco stand  california  2/12/2016   4.2         emily     \r\n",
      "taco stand  california  2/28/2016   4.6         scott     \r\n",
      "taco stand  california  2/28/2016   4.5         emily     \r\n",
      "taco stand  california  4/25/2026   4.9         sage      \r\n",
      "taco stand  california  5/6/2016    4.2         scott     \r\n",
      "taco stand  california  5/6/2016    4.5         ricardo   \r\n",
      "taco stand  california  5/6/2016    3.7         luis      \r\n",
      "taco stand  california  5/6/2016    4.0         elynn     \r\n",
      "taco stand  california  5/6/2016    4.0         sandra    \r\n",
      "taco stand  california  8/17/2016   4.0         scott     \r\n",
      "taco stand  california  8/17/2016   4.0         tj        \r\n",
      "taco stand  california  9/16/2016   4.7         luis      \r\n",
      "taco stand  california  12/29/2017  4.2         scott     \r\n",
      "taco stand  california  12/29/2017  4.5         ben s     \r\n"
     ]
    }
   ],
   "source": [
    "SELECT Location, Burrito, Date, Overall, Reviewer FROM burritos\n",
    "WHERE Location == 'taco stand'\n",
    "AND Burrito == 'california'"
   ]
  },
  {
   "cell_type": "markdown",
   "metadata": {},
   "source": [
    "### 8. 10 largest burritos"
   ]
  },
  {
   "cell_type": "code",
   "execution_count": 12,
   "metadata": {},
   "outputs": [
    {
     "name": "stdout",
     "output_type": "stream",
     "text": [
      "Volume      Location          Burrito     overall     Cost      \r\n",
      "----------  ----------------  ----------  ----------  ----------\r\n",
      "1.54        lupe's taco shop  tgunz       3.9         10.0      \r\n",
      "1.54        lupe's taco shop  tgunz       3.5         10.0      \r\n",
      "1.24        rigoberto's taco  campeon     2.7         7.65      \r\n",
      "1.17        los primos mexic  monster ca  2.3         9.25      \r\n",
      "1.16        famoso mexican s  cali diabl  3.1         10.5      \r\n",
      "1.09        el dorado mexica  california  3.8         7.4       \r\n",
      "1.08        lupe's taco shop  california  3.9         7.49      \r\n",
      "1.07        karina's taco sh  bomb        3.7         7.99      \r\n",
      "1.05        mikes taco club   california  4.2         8.99      \r\n",
      "1.03        rigoberto's taco  california  4.0         6.85      \r\n"
     ]
    }
   ],
   "source": [
    "SELECT Volume, Location, Burrito, Overall, Cost FROM burritos\n",
    "WHERE Volume IS NOT NULL\n",
    "ORDER BY Volume DESC\n",
    "LIMIT 10"
   ]
  },
  {
   "cell_type": "markdown",
   "metadata": {},
   "source": [
    "### 9. Only reviews from a consistent reviewer (>=5 reviews)"
   ]
  },
  {
   "cell_type": "code",
   "execution_count": 13,
   "metadata": {},
   "outputs": [
    {
     "name": "stdout",
     "output_type": "stream",
     "text": [
      "0|donato's taco shop|california|1/18/2016|6.49|3.0||||||3.0|5.0|3.0|3.5|4.0|4.0|4.0|4.0|4.0|3.8||scott|good fries: 4/5\r\n",
      "1|oscar's mexican food|california|1/24/2016|5.45|3.5||||||2.0|3.5|2.5|2.5|2.0|4.0|3.5|2.5|5.0|3.0||scott|Fries: 3/5; too little meat\r\n",
      "2|oscar's mexican food|carnitas|1/24/2016|4.85|1.5||||||3.0|2.0|2.5|3.0|4.5|4.0|3.0|3.0|5.0|3.0||emily|\r\n",
      "3|oscar's mexican food|carne asada|1/24/2016|5.25|2.0||||||3.0|2.0|3.5|3.0|4.0|5.0|4.0|4.0|5.0|3.75||ricardo|Go to average burrito place like Rigoberto's in la jolla; Terrible tamales\r\n",
      "4|pollos maria|california|1/27/2016|6.59|4.0||||||4.0|5.0|4.0|3.5|4.5|5.0|2.5|4.5|4.0|4.2||scott|\r\n",
      "5|pollos maria|combo chicken|1/28/2016|6.99|4.0||||||3.0|4.0|5.0|3.5|2.5|2.5|2.5|4.0|1.0|3.2||emily|\r\n",
      "6|nico's taco shop|california|1/30/2016|7.19|1.5||||||2.0|3.0|3.0|2.0|2.5|2.5||2.0|3.0|2.6||scott|not fries. big potatoes\r\n",
      "7|nico's taco shop|carnitas|1/30/2016|6.99|4.0||||||2.5|3.0|3.0|2.5|3.0|3.5||2.5|3.0|3.0||emily|\r\n",
      "8|los primos mexican food|monster california|2/1/2016|9.25|3.5||||||2.0|4.5|4.5|3.5|1.5|3.0|3.5|4.0|2.0|3.9||scott|this tasted really bad leftover. not included in rating\r\n",
      "9|jv's mexican food|carne asada|2/6/2016|6.25|3.5||||||2.5|1.5|1.5|3.0|4.5|3.0|1.5|2.0|4.5|2.0||scott|\r\n",
      "10|jv's mexican food|surf & turf|2/6/2016|9.5|2.0||||||2.5|2.5|2.75|2.5|2.5|2.0|0.5|3.0|3.5|2.5||emily|Huge. Shrimp is good. Meat is normal\r\n",
      "12|tony's fresh mexican food|california|2/11/2016|6.25|3.5||||||3.0|3.5|3.5|4.0|2.0|3.5|1.0|4.0|4.0|3.9||scott|\r\n",
      "15|taco stand|california|2/12/2016|7.49|4.0||||||3.0|2.5|4.0|4.0|3.5|2.5|3.5|5.0|4.5|4.2||emily|Horchata is very sweet\r\n",
      "16|taco stand|surf and turf|2/12/2016|8.49|2.5||||||4.0|4.0|4.5|4.0|5.0|4.5|3.5|4.0|2.0|4.1||scott|\r\n",
      "17|graciela's taco shop|adobada|2/14/2016|5.99|3.0||||||4.0|4.0|3.0|3.5|4.0|4.5|4.0|4.0|4.5|4.0||scott|Salsa verde spicy\r\n",
      "18|graciela's taco shop|barbacoa|2/14/2016|5.99|2.0||||||3.5|4.0|3.5||4.0||4.0|4.0|1.5|4.0||emily|\r\n",
      "20|rigoberto's taco shop la jolla|california|2/17/2016|6.4|2.5||||||3.5|3.0|3.0|3.0|4.0|4.0|1.5||4.5|3.5||scott|\r\n",
      "21|lolita's taco shop|2 in 1|2/24/2016|8.75|3.5||||||1.5|2.0|3.0|3.5|4.0|1.0|3.5|4.5|4.0|4.0||scott|Rolled tacos need more meat\r\n",
      "22|lolita's taco shop|adobado|2/24/2016|5.5|2.5||||||1.5|2.5|3.5|3.0|4.0|1.5|2.5|3.5|4.5|3.5||emily|Adobado reminds me of Indian food because of some mystery spice\r\n",
      "23|taco stand|california|2/28/2016|7.49|2.5||||||4.0|3.0|4.0|4.0|4.0|4.0|4.0|4.0|3.0|4.6||scott|\r\n",
      "24|taco stand|california|2/28/2016|7.49|2.5||||||3.0|2.0|4.5|4.0|4.0|3.5|3.0|4.5|4.5|4.5||emily|\r\n",
      "25|lola's 7 up market & deli|shredded beef|2/29/2016|6.0|3.5||||||2.5|2.5|3.0|4.0|4.0|4.0|3.0|3.5|1.5|3.8||emily|Food cooks fast but checking out is painfully slow\r\n",
      "26|lola's 7 up market & deli|carne asada|2/29/2016|7.0|3.5||||||2.5|3.0|3.0|4.0|2.0|2.0|3.0|3.5|3.5|3.0||scott|Beans are surprisingly good\r\n",
      "27|colima's mexican food|hawaiian|3/3/2016|6.29|3.5||||||3.5|5.0|4.0|4.0|3.5|4.5|3.5|3.5|4.0|4.0||scott|\r\n",
      "28|colima's mexican food|bandido|3/3/2016|6.49|4.5||||||3.0|5.0|4.0|4.0|5.0|4.0|2.5|4.5|4.0|4.0||sage|\r\n",
      "30|rigoberto's taco shop|carne asada|3/8/2016|6.6|3.5||||||4.0|2.0|4.0|3.5|4.5|4.0|3.5|4.0|1.0|4.25||ricardo|\r\n",
      "31|rigoberto's taco shop|campeon|3/8/2016|7.65|3.5||||||3.0|1.5|3.0|3.0|2.5|3.0|3.5|2.5|4.0|3.4||scott|\r\n",
      "32|raul's mexican food|chile verde pork|3/11/2016|5.0|3.5||||||2.0||2.5|2.0|2.0|2.0|2.0|2.5||2.0||emily|\r\n",
      "33|raul's mexican food|carne asada|3/11/2016|5.0|1.0||||||2.0||1.0|1.0|0.5|1.0|1.5|1.0|4.0|1.0||scott|burrito was mostly tortilla\r\n",
      "35|el zarape|california chicken|3/14/2016|6.25|3.0||||||3.5|5.0|2.5|2.5|4.0|2.7|3.5|3.0|5.0|2.5||sage|\r\n",
      "37|el zarape|lobster|3/14/2016|9.5|3.0||||||3.0|3.0|4.0|3.0|3.5|4.5|3.5|3.0|3.5|3.2||scott|quite small\r\n",
      "38|el indio|california|3/17/2016|7.84|4.0||||||4.0|4.0|3.5|4.0|4.5|4.0|3.5|3.5|4.5|4.0||scott|\r\n",
      "39|taco stand|carne asada|3/18/2016|7.89|1.0||||||3.0|3.5|4.5|4.0|5.0|5.0|4.5|3.5|5.0|4.2||scott|\r\n",
      "40|taco stand|al pastor|3/18/2016|6.99|4.0||||||4.0|3.0|3.5|3.0|4.0|5.0|3.0|3.5|5.0|3.5||emily|Kind of dry \r\n",
      "41|cancun mexican & seafood|california|3/20/2016|6.99|4.0||||||4.0|4.5|4.0|3.5|4.0|2.5|2.0|4.0|4.0|4.2||scott|A bit small\r\n",
      "42|cancun mexican & seafood|machaca|3/20/2016|5.99|3.0||||||4.0|3.5|3.5|4.0|3.5|3.5|2.0|3.5|0.5|3.9||emily|So hot! Egg is surprisingly good\r\n",
      "43|vallarta express|quesaburro|3/21/2016|6.95|3.5||||||3.0|4.0|3.5|4.0|4.0|4.0|3.5|4.5|4.5|4.1||scott|\r\n",
      "45|vallarta express|carne asada|3/21/2016|6.5|3.5||||||3.75|5.0|3.0|3.0|4.5|4.5|3.5|3.0|4.5|3.25||ricardo|\r\n",
      "47|vallarta express|surf and turf|3/21/2016|7.65|3.0||||||2.0|4.0|3.0|3.0|4.0|2.0|4.0|2.0|3.0|3.5||richard|Hot carrots\r\n",
      "48|vallarta express|mahi|3/21/2016|7.3|3.0||||||3.0|4.5|3.5|3.0|3.0|2.0|3.5|2.5|4.5|3.5||tom|\r\n",
      "49|mikes taco club|california|3/23/2016|8.59|2.5||||||4.0|4.5|3.5|5.0|2.5|2.0|4.0|4.5|4.0|4.3||scott|\r\n",
      "51|la perla cocina|addiction|3/30/2016|7.99|3.5||||||4.0|4.0|2.0|3.0|1.5|3.0|2.5|1.0|3.0|2.5||scott|Bland\r\n",
      "52|la perla cocina|oaxacalifornia|3/30/2016|9.99|3.0||||||4.0|4.5|3.5|4.0|3.0|2.0|2.5|3.5|4.0|4.0||emily|Fries are good\r\n",
      "53|porkyland|deborah's special|4/2/2016|8.25|3.5||||||4.0|4.5|3.5|2.5|4.5|4.5|4.0|3.5|5.0|4.0||scott|\r\n",
      "54|porkyland|chicken nopalito|4/2/2016|7.95|2.5||||||2.5|2.5|4.0|3.5|3.0|2.5|3.0|3.0|5.0|3.3||emily|\r\n",
      "57|rigoberto's taco shop|california|4/3/2016|6.6|3.0||||||3.0|4.5|4.0|4.5|4.0|4.5|4.5|5.0|4.5|4.5||scott|\r\n",
      "59|rigoberto's taco shop|california|4/7/2016|6.6|3.0||||||3.0|5.0|3.5|3.0|4.5|2.5|3.0|4.0|4.0|3.6||scott|Too much enchilada sauce this time\r\n",
      "61|rudy's taco shop|chicken|4/9/2016|6.6|3.5||||||3.5|3.0|4.0|4.5|3.0|1.0|3.0|4.0|0.5|2.8|No|scott|Salsa Fresca is good, way too small\r\n",
      "62|rudy's taco shop|carnitas|4/9/2016|6.6|3.0||||||3.0|2.5|3.0|4.0|2.0|1.0|3.0|3.0|5.0|3.0|No|emily|\r\n",
      "63|taco stand|carne asada|4/14/2016|7.89|3.5||||||3.0|2.0|4.5|4.0|4.0|1.5|4.5|4.5|4.5|4.4|Yes|scott|Too small \r\n",
      "64|taco stand|carne asada|4/14/2016|7.89|2.0||||||3.0|2.5|4.5|3.5|4.5|3.0|4.0|3.5|5.0|3.5|Yes|richard|A little small. No rice and beans or cheese or sour cream\r\n",
      "65|california burritos|california everything|4/15/2016|6.25|4.0||||||4.5|4.5|2.5|3.5|3.5|3.5|3.0|4.0|5.0|4.1|Yes|scott|\r\n",
      "66|california burritos|california everything|4/15/2016|6.25|3.5||||||4.0|4.0|4.0|2.5|3.0|3.5|4.0|4.0|5.0|4.0|No|brent|Brent doesn't like fries in his burrito\r\n",
      "67|california burritos|california everything|4/15/2016|6.25|4.0||||||4.0|4.5|4.5|5.0|5.0|5.0|4.5|5.0|5.0|4.6|Yes|luis|\r\n",
      "68|vallarta express|fish|4/15/2016|6.5|2.5||||||3.0||3.5|4.0|4.0|3.0||4.0|1.5|3.5||erin|\r\n",
      "69|vallarta express|california|4/15/2016|6.65|3.5||||||3.5||3.5|3.5|4.5|3.5|3.5|4.0|4.0|4.0||ricardo|\r\n",
      "70|jorge's mexicatessen|california|4/24/2016|5.95|3.5|||20.0|22.0|0.77|2.5|2.5|3.5|4.0|3.0|4.5|4.0|4.5|4.5|3.8|Yes|scott|Cheese should be melted, potatoes are very good\r\n",
      "71|jorge's mexicatessen|chimichanga beef|4/24/2016|5.5|3.0||||||2.0|4.0|3.0|3.0|3.0|4.0|3.5|3.5||3.0|No|emily|\r\n",
      "72|senor grubby's|california|4/24/2016|9.0|2.0|||19.0|21.5|0.7|2.0|3.5|3.0|1.5|1.0|1.0|2.5|1.5|3.5|1.5|No|scott|The ends of the burrito were decent, but the middle was terrible without much meat\r\n",
      "73|senor grubby's|pastor|4/24/2016|9.0|2.0|||18.5|23.0|0.78|2.5|2.5|1.5|2.5|1.0|2.0|2.5|2.0|5.0|1.8|No|emily|\r\n",
      "74|taco stand|california|4/25/2026|8.0|4.0|||21.59|||4.5|5.0|5.0|5.0|4.5|5.0|3.0|5.0|5.0|4.9|Yes|sage|A wonderful eating experience. best California burrito I've ever had by far. \r\n",
      "75|mi asador mexican & seafood|california|4/27/2016|6.89|3.0|||25.0|22.0|0.96|3.0|2.5|3.0|2.5|2.5|2.0|3.5|3.0|4.0|3.0|No|scott|\r\n",
      "76|mi asador mexican & seafood|el hawaiiano|4/27/2016|6.39|3.0|||23.0|22.5|0.93|4.0|3.0|2.5|3.5|3.0|3.0|3.5|4.0|3.5|3.5|Yes|emily|Pineapple is really good\r\n",
      "77|sotos mexican food|california|5/4/2016|6.75|3.0|||22.5|23.0|0.95|4.5|4.0|3.0|4.0|1.0|3.0|4.5|3.5|4.5|3.5|Yes|scott|Fries are good. Too little meat\r\n",
      "78|sotos mexican food|pastor|5/4/2016|5.99|2.0|||21.0|22.0|0.81|4.0|2.0|2.5|4.0|4.0|3.0|3.5|4.0|5.0|3.2|No|emily|Free lime. Ingredients chopped finely\r\n",
      "79|taco stand|california|5/6/2016|7.49|3.5|||19.0|22.0|0.73|3.5|4.0|4.0|4.0|3.5|3.0|4.0|4.5|3.0|4.2|Yes|scott|Less meat than usual\r\n",
      "80|taco stand|california|5/6/2016|7.49|4.0|||16.5|25.0|0.82|4.0|3.5|4.0|4.0|4.5|5.0|4.5|5.0|4.5|4.5|Yes|ricardo|\r\n",
      "81|taco stand|california|5/6/2016|7.49|4.0|||17.0|25.5|0.88|3.0|3.0|4.0|3.5|3.5|4.0|3.5|4.0|2.5|3.7|Yes|luis|\r\n",
      "82|taco stand|california|5/6/2016|7.49|3.0|||17.7|21.5|0.65|4.0|2.0|5.0|5.0|1.0|3.0|5.0|4.0|3.0|4.0|Yes|elynn|\r\n",
      "84|taco stand|carne asada|5/6/2016|7.89|4.0|||18.0|25.0|0.9|4.0|2.0|4.0|3.0|4.0|4.0|4.0|3.5|4.0|3.5|Yes|brent|\r\n",
      "85|vallarta express|california|5/9/2016|6.95|4.0|||21.0|23.0|0.88|3.0|3.5|2.0|3.5|3.0|2.5|2.5|2.5|2.0|2.9|No|scott|\r\n",
      "86|lolita's taco shop|california|5/12/2016|7.0|3.5|||17.5|24.5|0.84|3.0|5.0|3.0|3.5|3.0|1.5|3.0|3.0|4.0|3.3|No|scott|\r\n",
      "89|rigoberto's taco shop|el rusio|5/13/2016|6.65|4.0|||21.5|23.0|0.91|3.0|4.5|2.5|2.0|3.5|5.0|1.5|2.0|1.5|2.5|No|scott|Fries are terrible. Burrito leaked\r\n",
      "90|rigoberto's taco shop|carne asada|5/13/2016|6.6|4.0|||22.0|22.0|0.85|4.0|3.5|4.0|4.0|3.5|4.0|4.0|4.5|4.5|4.0|Yes|ricardo|\r\n",
      "91|rigoberto's taco shop|carne asada|5/13/2016|6.6|4.5|||23.0|22.0|0.89|4.0|3.0|3.0|3.0|3.5|3.0||3.5|4.5|3.0|Yes|erin|Meat was too salty\r\n",
      "92|rigoberto's taco shop|carnitas|5/13/2016|7.5|4.0|||23.5|22.5|0.95|4.0|5.0|4.0|5.0|5.0|4.0|5.0|4.0|4.0|4.0|Yes|elynn|\r\n",
      "93|rigoberto's taco shop|bacon breakfast|5/13/2016|6.25|3.5|||22.0|22.0|0.85|4.0|3.5|4.0|4.0|5.0|5.0||5.0|4.5|4.2|Yes|luis|\r\n",
      "94|karina's taco shop|bomb|5/15/2016|7.99|3.0|||25.5|23.0|1.07|4.0|4.0|4.0|3.5|2.5|3.5|4.0|3.5|2.5|3.7|Yes|scott|\r\n",
      "95|karina's taco shop|california|5/15/2016|6.99|2.5|||21.5|22.125|0.84|3.5|4.0|3.5|3.5|3.0|1.0|4.0|4.0|4.5|3.8|Yes|emily|\r\n",
      "96|juanita's taco shop|california|5/18/2016|5.55|3.5|||17.5|23.0|0.74|4.0|4.5|3.0|3.0|5.0|3.0|4.0|3.0|5.0|3.5|Yes|scott|\r\n",
      "97|juanita's taco shop|arizona|5/18/2016|5.55|2.5|||20.5|22.5|0.83|4.5|4.0|3.5|4.0|3.5|4.0|3.0|4.0|5.0|3.9|Yes|emily|\r\n",
      "98|goody's|custom|5/20/2016|7.25|3.5|||18.5|22.5|0.75|1.5|1.0|2.0|2.0|2.0|2.0|2.0|2.0|1.0|1.8|No|scott|Grocery store tortilla; cold guac\r\n",
      "99|taco surf pb|california|5/23/2016|7.14|3.5|||20.0|23.0|0.84|4.0|2.0|4.0|5.0|4.0|2.0|4.0|4.5|5.0|4.4|Yes|scott|not too much rice\r\n",
      "100|taco surf pb|california|5/23/2016|7.14|5.0|||20.5|24.0|0.94|4.0|2.0|4.5|4.0|3.5|2.0|3.0|4.0|4.0|4.1|Yes|sage|hashbrowns instead of fries; anterior-posterior uniformity is good but medial-lateral is bad\r\n",
      "102|roberto's very mexican food|chicken asada|5/24/2016|6.5|2.0|||18.5|21.5|0.68|1.5|4.0|2.0|2.0|4.5|1.0|1.0|2.0|5.0|1.5|No|scott|\r\n",
      "103|roberto's very mexican food|carnitas|5/24/2016|5.4|3.0|||18.0|20.0|0.57|2.0|3.5|4.0|2.5|3.5|1.5|1.5|3.0|5.0|2.7|No|emily|\r\n",
      "104|netos mexican food|california|5/26/2016|5.99|4.0|||20.5|23.5|0.9|4.5|5.0|3.0|4.0|2.0|2.0|2.0|3.75|4.0|3.2|Yes|scott|not 100% certain about the ingredients (was there guac and pico?)\r\n",
      "105|netos mexican food|carne adobada|5/26/2016|5.5|3.0|||20.75|23.5|0.91|3.5|4.0|3.5|3.0|3.5|3.5|2.5|3.0|2.5|3.0|Yes|emily|Best free chips, novel burrito\r\n",
      "106|lolita's taco shop|carne asada|5/27/2016|6.25|4.0|||15.0|20.5|0.5|1.5|2.5|3.0|4.5|4.0|2.0|2.75|3.75|3.0|2.6|No|scott|Way too small\r\n",
      "107|lolita's taco shop|shrimp|5/27/2016|8.95|3.5|||18.5|25.0|0.92|3.0|3.0|4.0|4.0|3.5|3.5|2.5|4.0|0.5|3.0|Yes|emily|\r\n",
      "108|lolita's taco shop|bean and cheese|5/27/2016|3.5|1.0|||16.0|20.0|0.51|3.5|4.5||3.0||4.0|3.0|2.5|4.0|2.7|No|scott|\r\n",
      "109|los primos mexican food|california|5/29/2016|7.5|4.0||||||3.0|5.0|3.5|3.5|4.0|4.0|2.5|3.0|5.0|3.5|Yes|sage|\r\n",
      "110|el nopalito|especial|6/1/2016|4.87|2.0|||19.0|23.5|0.83|3.0|4.0|1.5|2.0|3.0|5.0|3.0|2.5|5.0|2.6|No|scott|It's pretty good for what it is, but just not the best ingredients for a burrito. also Few white people\r\n",
      "111|el nopalito|ranchero steak|6/1/2016|4.87|2.5|||19.5|20.5|0.65|3.5|3.0|2.5|2.4|3.5|4.5|3.0|3.0|1.5|2.6|No|emily|\r\n",
      "112|los primos mexican food|monster california|6/3/2016|9.25|3.5|||25.5|24.0|1.17|2.0|1.0|3.0|3.0|1.0||3.0|2.0|4.0|2.3|No|scott|\r\n",
      "113|los primos mexican food|california|6/3/2016|7.0|3.0|||20.0|22.0|0.77|4.5|4.0|3.5|4.0|1.0|1.0|2.0|2.0|4.0|2.5|No|ricardo|\r\n",
      "114|los primos mexican food|california breakfast|6/3/2016|6.25|2.5|||18.5|22.5|0.75|3.0|4.0|3.0|2.0|1.5|1.0|3.0|1.5|3.0|2.0|No|erin|\r\n",
      "115|los primos mexican food|baja monster|6/3/2016|6.0|4.0||||||3.0|3.0|1.0|4.0|2.0|2.0|3.0|2.0|1.0|2.0|No|elynn|\r\n",
      "118|los tacos|local|6/5/2016|7.9|3.5|||20.5|21.5|0.75|3.5|4.5|4.5|4.0|1.5|1.5|3.0|4.0|5.0|3.5|Yes|scott|\r\n",
      "119|los tacos|fusion|6/5/2016|8.5|3.5|||18.5|21.0|0.65|4.0|4.0|4.0|3.5|4.0|4.0|4.0|4.5|4.5|4.2|Yes|emily|\r\n",
      "120|taco stand|al pastor|6/6/2016|6.99|3.5|||18.5|21.0|0.65|4.0|3.5|4.0|3.5|4.0|5.0|2.5|4.0|4.5|3.9|Yes|scott|\r\n",
      "122|albertacos|california|6/8/2016|5.7|3.5|||20.5|21.5|0.75|3.5|3.0|3.0|4.0|1.5|4.0|4.0|4.0|4.0|3.7|Yes|scott|\r\n",
      "123|albertacos|carne asada|6/8/2016|5.25|4.0|||21.0|21.0|0.74|3.5|3.0|2.8|3.5|4.0|4.0|4.0|3.5|5.0|3.2|Yes|emily|\r\n",
      "124|el rey moro|california surf|6/9/2016|9.19|2.8|||20.5|23.5|0.9|3.5|4.5|4.0|3.5|5.0|4.5|3.0|3.5|5.0|4.0|Yes|scott|shrimp is really good. too much chipotle sauce\r\n",
      "125|el dorado mexican food|california|6/16/2016|6.94|4.0||||||4.0|4.0|4.0|4.5|3.2|3.0|4.5|4.5|2.0|4.5|Yes|scott|Salsa verde has an interesting hint of garlic\r\n",
      "126|el dorado mexican food|super|6/16/2016|6.94|3.75||||||3.5|3.5|3.5|3.5|4.0|4.0|4.5|3.5|4.5|3.8|Yes|emily|\r\n",
      "127|lolita's taco shop|california|6/23/2016|7.0|2.2|||18.0|25.0|0.9|2.8|3.0|3.0|2.0|2.0|4.5|2.0|1.5|4.5|2.3|No|scott|\r\n",
      "131|california burritos|california everything|6/24/2016|6.25|3.0|||23.5|21.5|0.86|3.8|1.3|3.5|3.5|4.5|4.5|3.5|4.0|5.0|3.9|Yes|scott|Temperature brought it down\r\n",
      "132|california burritos|california everything|6/24/2016|6.25|4.5|||22.5|22.0|0.87|4.0|4.0|4.5|4.0|4.0|3.5|4.0|4.0|4.5|4.25|Yes|ricardo|\r\n",
      "133|california burritos|california everything|6/24/2016|6.25|4.0|||22.5|22.0|0.87|3.0|2.5|4.0|4.0|4.0|2.0|2.0|3.0|4.0|4.0|Yes|elynn|\r\n",
      "134|california burritos|california everything|6/24/2016|6.25|3.0|||23.0|22.5|0.93|5.0|4.0|4.0|4.5|4.0|4.5||4.0|4.0|4.5|Yes|erin|\r\n",
      "135|california burritos|california everything|6/24/2016|6.25|4.0||||||4.0|3.5|4.5|4.0|4.5|4.0|4.5|4.5|5.0|4.5|Yes|luis|\r\n",
      "137|california burritos|carne asada everything|6/24/2016|6.25|3.0|||23.0|23.0|0.97|4.0|3.0|4.0|3.0|4.0|3.0|3.0|4.0|4.0|4.0|Yes|brent|\r\n",
      "140|california burritos|california everything|8/1/2016|6.25|4.0|||22.0|20.8|0.76|4.0|4.0|3.5|4.0|3.0|4.0|4.0|3.5|4.5|3.75|Yes|ricardo|\r\n",
      "141|california burritos|california everything|8/1/2016|6.25|4.0|||22.5|21.5|0.83|3.0|2.0|4.0|5.0|4.0|4.0|3.0|4.0|3.0|4.0|Yes|elynn|\r\n",
      "143|california burritos|california everything|8/1/2016|6.25|3.5|||21.0|22.5|0.85|3.5|2.0|3.0|3.5|3.5|2.5|2.5|3.5|4.5|3.4|Yes|scott|\r\n",
      "145|california burritos|surf & turf|8/1/2016|7.0|4.31||||||3.0|2.5|3.5|3.0|3.5|4.0|3.0|3.0|4.0||Yes|hannah|\r\n",
      "146|california burritos|carne asada everything|8/1/2016|6.25|4.5|||22.0|20.0|0.7|4.5|4.0|4.0|4.5|4.0|4.0|4.5|4.5|4.0|4.0|Yes|brent|\r\n",
      "147|los primos mexican food|surf & turf|8/6/2016|7.0|2.5|||20.5|21.75|0.77|4.0|4.0|2.0|3.0|2.0|3.5|3.0|3.0|4.5|2.5|No|emily|\r\n",
      "148|los primos mexican food|adobada|8/6/2016|6.25|2.0|||20.5|20.0|0.65|4.0|2.5|2.5|3.0|2.0|4.0|3.5|3.0|4.5|2.6|No|scott|\r\n",
      "149|los primos mexican food|carne asada|8/6/2016|7.0|4.0|||18.5|20.5|0.62|3.5|3.0|2.0|2.0|1.0|3.0|3.5|1.5|4.0|2.0|No|ricardo|\r\n",
      "150|papa chito's mexican food|california|8/9/2016|6.25|3.5|||21.5|20.0|0.68|3.5|3.5|2.5|2.5|2.5|4.0|2.0|1.5|5.0|2.2|No|scott|\r\n",
      "151|papa chito's mexican food|california|8/9/2016|6.25|4.0|||20.0|20.0|0.64|4.0|5.0|3.0|3.0|4.0|3.5|4.0|4.0|5.0|3.75|Yes|sage|\r\n",
      "152|el pueblo mexican food|california|8/10/2016|4.99|4.0|||19.0|21.0|0.67|4.5|4.5|3.5|4.0|4.5|5.0|2.5|4.5|5.0|4.3|Yes|scott|\r\n",
      "153|burros and fries|california|8/12/2016|6.89|4.0|||21.5|22.5|0.87|3.5|4.5|3.5|3.5|3.0|1.5|2.5|3.5|5.0|3.5|Yes|scott|good fries\r\n",
      "154|burros and fries|carne asada|8/12/2016|6.89|5.0|||18.5|21.0|0.65|3.0|5.0|4.5|4.5|3.0|4.0|4.5|4.0|4.5|4.0|Yes|brent|very little guac\r\n",
      "155|king burrito|adobada|8/16/2016|4.99|3.5|||23.0|19.0|0.66|3.0|3.0|3.0|3.0|2.5|2.0|2.5|3.0|4.0|2.8|No|emily|Too much tortilla per bite\r\n",
      "156|king burrito|california|8/16/2016|5.29|3.5|||22.5|20.5|0.75|2.5|4.5|2.0|3.0|2.5|1.5|3.0|2.0|4.5|2.5|No|scott|it does taste homemade. but that's not a good thing\r\n",
      "157|taco stand|california|8/17/2016|7.49|2.0|||18.5|21.5|0.68|4.0|5.0|4.5|3.5|3.5|2.0|3.5|4.0|5.0|4.0|Yes|scott|\r\n",
      "159|carmen's mexican food|adobada|8/19/2016|6.5|3.5|||20.5|20.5|0.69|2.5|4.0|3.5|4.0|4.0|3.0|1.5|3.5|5.0|3.6|Yes|scott|really good guac\r\n",
      "160|carmen's mexican food|carne asada|8/19/2016|6.5|5.0|||21.0|21.0|0.74|4.5|4.5|3.5|4.0|4.0|3.5|4.0|4.0|4.0|4.0|Yes|brent|\r\n",
      "161|senor panchos|pollo asado|8/21/2016|6.25|3.5|||21.5|19.5|0.65|2.5|3.5|3.0|3.0|5.0|4.5|3.5|2.0|5.0|2.9|No|scott|guac is good, very avocado-y\r\n",
      "162|senor panchos|california|8/21/2016|6.25|3.0|||21.0|19.5|0.64|3.0|4.0|4.0|3.0|3.5|4.5|4.0|4.0|5.0|4.0|Yes|emily|feels very dense; a lot of meat\r\n",
      "163|los cabos|california|8/27/2016|5.99|4.0|||18.5|21.0|0.65|4.0|4.5|2.5|2.5|2.5|1.5|3.0|4.0|5.0|3.0|No|scott|Repeatedly get large bites of sour cream\r\n",
      "164|los cabos|al pastor|8/27/2016|5.69|3.0|||17.5|23.5|0.77|4.0|4.5|3.0|3.5|4.0|3.5|2.5|4.0|4.5|4.0|Yes|emily|Really good with lime\r\n",
      "165|rubios ucsd|tilapia one|8/30/2016|7.99|3.5|||17.0|20.0|0.54|1.5|4.0|3.0|3.0|1.5|4.5|2.5|3.0|1.5|3.2|No|scott|\r\n",
      "166|lucha libre north park|surf & turf|8/30/2016|8.25|4.0|||19.0|22.5|0.77|3.0|2.5|3.0|3.0|3.0|3.0|3.5|3.0|3.0|3.0|Yes|hannah|\r\n",
      "171|lucha libre north park|surfin california|8/30/2016|8.25|3.0|||21.0|24.5|1.0|3.0|3.0|4.0|3.5|3.0|2.0|3.5|3.5|4.0|3.9|Yes|emily|thick chips\r\n",
      "175|lucha libre north park|surfin california|8/30/2016|8.25|2.0|||20.0|24.5|0.96|3.5|2.0|5.0|3.5|4.0|2.5|3.5|3.0|3.5|3.5|Yes|richard|probably positively biased by service\r\n",
      "178|lucha libre north park|nutty|8/30/2016|7.5|3.8|||19.0|25.0|0.94|3.8|4.0|4.0|4.0|4.0|4.0|4.5|4.5|4.5|4.4||luis|\r\n",
      "182|lucha libre north park|california - steak|8/30/2016|7.5|2.5|||19.0|23.5|0.83|3.0|3.0|5.0|3.5|3.0|3.5|4.5|4.0|4.5|3.9|Yes|scott|first bite sour cream, but probably the best steak I've had in a burrito\r\n",
      "185|lucha libre north park|california - pork adobada|8/30/2016|7.5|4.5|||18.0|26.0|0.97|3.5|4.0|4.5|4.0|3.5|3.5|4.0|4.0|4.5|4.25|Yes|ricardo|\r\n",
      "186|lucha libre north park|california - pork adobada|8/30/2016|7.5|2.0|||19.0|25.0|0.94|4.0|5.0|5.0|4.0|4.5|4.5|5.0|4.5|4.0|4.5|Yes|erin|\r\n",
      "190|lucha libre north park|holy moly|8/30/2016|7.5|3.0|||17.0|21.0|0.6|2.5|2.5|3.0|2.0|2.0|1.0|5.0|1.0|5.0|1.5|No|sage|all meat at bottom 1/8th\r\n",
      "194|cancun mexican & seafood|adobada|9/9/2016|6.45|3.0|||19.5|21.5|0.72|4.0|5.0|3.5|3.0|3.5|3.5|4.0|2.5|4.0|3.5|Yes|scott|Free salad\r\n",
      "195|cancun mexican & seafood|california|9/9/2016|6.99|4.0|||19.5|22.0|0.75|3.0|4.5|4.0|4.0|3.5|3.0|4.0|4.0|5.0|4.0|Yes|emily|\r\n",
      "196|roberto's taco shop clairemont|california|9/11/2016|5.79|4.0||||||3.0|4.5|4.0|4.0|4.0|5.0|2.5|3.0|5.0|3.6|Yes|scott|Fries are really good but the overall flavor is plain because lack of ingredients\r\n",
      "198|roberto's taco shop clairemont|california + guac + sour cream|9/11/2016|7.29|3.7||||||3.8|4.7|4.0|3.5|4.5|4.0|4.0|4.5|5.0|4.0|Yes|luis|\r\n",
      "199|roberto's taco shop clairemont|carne asada|9/11/2016|5.69|3.0||||||4.0|3.0|1.5|3.0|4.0|4.5|3.5|2.0|4.5|3.0|No|ricardo|\r\n",
      "200|chipotle|carnitas|9/13/2016|7.15|4.0|||16.5|26.5|0.92|2.5|2.5|3.0|2.8|2.5|3.5||3.0|3.5|2.75|Yes|emily|\r\n",
      "202|taco stand|california|9/16/2016|7.49|4.1||||||4.0|4.5|4.5|4.5|4.7|4.5|4.2|4.5|5.0|4.7|Yes|luis|\r\n",
      "203|los tacos|california|9/18/2016|7.9|3.5|||20.5|23.0|0.86|4.0|5.0|4.0|4.0|3.0|4.0|3.5|4.0|4.0|4.2|Yes|scott|Tortilla is burnt a bit but good. Pick is good\r\n",
      "204|los tacos|local|9/18/2016|7.9|3.5|||22.0|23.0|0.93|4.0|3.5|4.5|4.5|3.5|3.5|3.5|4.0|3.0|4.3|Yes|emily|Melted cheese is good. Cilantro is fresh\r\n",
      "205|el cuervo|california|9/22/2016|6.95|3.5|||20.0|21.5|0.74|3.5|3.5|3.0|4.0|3.0|3.0|4.5|3.5|2.0|3.6|Yes|scott|Alfajores dessert and horchata are super good\r\n",
      "206|el cuervo|pollo adobado|9/22/2016|5.95|4.0|||20.5|20.0|0.65|3.5|5.0|4.5|3.5|4.0|4.5|4.5|4.0|5.0|4.0|Yes|richard|First burrito I enjoyed from top to bottom\r\n",
      "207|el torrito foods|asada|9/25/2016|5.49|4.0|||23.5|19.0|0.68|3.0|5.0|3.0|3.0|2.5|4.0|3.5|3.0|5.0|3.1|Yes|scott|Good because so cheap\r\n",
      "208|el torrito foods|adobada|9/25/2016|3.99|4.5|||22.5|19.5|0.68|3.5|4.0|3.0|2.5|2.8|4.0|2.5|2.5|5.0|2.6|No|emily|tamale isn't good\r\n",
      "209|la morena taco shop and seafood|california|9/22/2016|6.35|4.0||||||4.0|2.5|4.0|3.0|4.5|2.0|2.0|3.0|4.0|3.0|No|erin|Good tortilla, good amount of food, needed guac. or salsa to balance out density of fillings.\r\n",
      "210|taco villa|carnitas|9/26/2016|5.99|2.5|||18.5|20.0|0.59|3.2|3.8|4.5|2.8|4.0|2.0|1.8|3.5|5.0|4.0|Yes|scott|Carnitas very good\r\n",
      "211|rigoberto's taco shop|campeon|9/27/2016|7.65|4.5|||26.0|24.5|1.24|3.5|4.5|2.5|2.5|1.0|1.5|3.0|2.5|3.0|2.7|No|scott|The big size was too big of an appeal, but there's just not enough meat\r\n",
      "212|rigoberto's taco shop|california|9/27/2016|6.6|3.5|||22.0|23.0|0.93|4.0|4.5|4.0|4.0|4.5|5.0|4.5|4.5|4.5|4.25|Yes|ricardo|\r\n",
      "213|rigoberto's taco shop|bacon breakfast|9/27/2016|6.3|4.0|||22.0|22.0|0.85|4.0|3.6|4.0|4.0|4.0|4.0||4.0|4.0|4.2|Yes|luis|\r\n",
      "214|rigoberto's taco shop|carnitas|9/27/2016|6.6|3.0||||||4.0|4.0|5.0|5.0|4.5|3.0|2.0|4.0|4.0|4.0|Yes|elynn|\r\n",
      "215|taco villa|al pastor|9/29/2016|5.99|4.0|||18.0|20.0|0.57|3.5|3.5|2.0|3.0|4.5|4.5|3.0|3.0|5.0|3.2|No|scott|get the carnitas\r\n",
      "216|valentines mexican food|california|10/1/2016|7.9|4.0|||20.0|22.0|0.77|4.0|4.0|4.0|4.0|4.5|4.0|4.0|4.0|2.5|4.2|Yes|scott|Best horchata. Fries are great. Chips are really good\r\n",
      "217|valentines mexican food|california chipotle|10/1/2016|7.9|3.0|||18.5|22.0|0.71|4.0|4.0|3.5|4.5|4.0|3.5|2.5|4.0|1.5|4.0|Yes|emily|Chips really good, really good but a little bit spicy chipotle. Very good horchata\r\n",
      "218|matador mexican food|carnitas|10/2/2016|6.6|3.2||||||1.4|3.7|3.0|3.2|4.8|2.4|3.0|2.9|3.0|3.0|No|scott|\r\n",
      "219|matador mexican food|carne asada|10/2/2016|6.6|4.0||||||4.0|3.5|3.5|3.5|4.0|3.0|3.5|3.5|4.5|3.0||brent|Salsa too spicy\r\n",
      "220|jose's taco|california|10/5/2016|6.1|4.0|||22.0|22.0|0.85|3.5|3.5|2.0|3.5|4.5|3.5|3.0|3.5|4.0|3.3|No|scott|\r\n",
      "221|cortez mexican food|california|10/7/2016|6.25|4.0|||22.5|18.0|0.58|3.5|4.0|2.5|3.0|1.5|2.5|2.5|2.8|5.0|3.2|No|scott|\r\n",
      "222|california burrito company|dave's california|10/12/2016|6.5|4.0|||19.5|21.0|0.68|3.0|2.5|2.5|3.0|4.0|3.5|2.5|3.0|5.0|3.3|No|scott|The burrito looked beautiful when it came out. Chicken didn't add anything. would probably get the regular\r\n",
      "225|taco villa|chicken and rice|10/12/2016|4.95|3.0||||||3.5|5.0|4.0|4.0|3.78|5.0||4.7|5.0|4.2|yes|sage|chicken and rice burrito. simple and delicious. \r\n",
      "226|taco villa|california|10/17/2016|6.99|3.5|||19.0|20.0|0.6|3.0|3.0|3.0|3.0|3.7|3.5|3.8|3.0|5.0|3.5|Yes|scott|Pretty decent\r\n",
      "227|california burrito company|fajitas|10/18/2016|6.5|3.0|||18.5|20.5|0.62|3.0|4.5|3.5|1.5|1.5|2.0|3.2|2.0|4.5|2.2|No|scott|Peppers not cooked enough\r\n",
      "228|california burrito company|california|10/18/2016|5.5|3.0|||17.0|22.0|0.65|3.0|4.0|4.5|3.0|2.0|4.0|4.5|3.5|4.5|3.5|No|ricardo|Very plain burrito\r\n",
      "229|taco villa|breakfast|10/18/2016|4.99|4.0||||||4.5|5.0|3.0|3.0|3.0|2.5|0.0|2.5|5.0|3.0|yes|sage|pretty standard breakfast burrito. eggs and cheese. great tortilla! morning protein!\r\n",
      "230|california burritos|california everything|10/17/2016|6.95|4.0|||22.0|23.0|0.93|4.0|2.0|4.0|3.0|4.0|5.0|3.0|3.0|4.0|4.0|yes|elynn|\r\n",
      "231|california burritos|surf & turf|10/17/2016|7.0|4.0|||22.5|21.0|0.79|3.0|3.0|3.5|4.0|4.0|3.0|3.0|4.0|3.5|5.0||hannah|\r\n",
      "232|taco villa|carnitas|10/27/2016|5.95|3.0|||18.0|20.0|0.57|4.0|3.0|4.0|3.0|4.0|2.0|3.5|3.0|5.0|3.9|Yes|scott|\r\n",
      "233|taco villa|tejano|10/27/2016|6.99|3.5|||19.0|21.0|0.67|2.0|5.0|4.2|3.0|4.7|5.0|3.7|4.2|5.0|4.0|Yes|sage|\r\n",
      "237|taco stand encinitas|california|10/29/2016|7.49|4.0|||17.5|23.5|0.77|2.0|3.5|4.2|4.3|4.0|2.2|4.5|4.0|2.2|4.2|Yes|scott|Much better than the first time we tried this location \r\n",
      "238|taco stand encinitas|california|10/29/2016|7.49|2.0|||18.5|22.0|0.71|3.8|3.8|4.0|4.2|3.75|4.0|4.75|4.4|3.8|4.2|Yes|emily|Possibly favorite green salsa so far\r\n",
      "239|donato's taco shop|al pastor|11/1/2016|5.99|4.0|||19.5|21.5|0.72|3.0|4.5|3.7|2.8|5.0|4.5|3.0|2.3|4.5|3.0|No|scott|\r\n",
      "240|donato's taco shop|carne asada|11/1/2016|5.99|2.0|||21.0|23.5|0.92|2.0|4.0|4.5|4.0|4.0|3.0|4.0|4.0|2.0|4.0|Yes|elynn|\r\n",
      "241|ortiz's taco shop #2|california|11/2/2016|6.39|4.0|||20.0|21.0|0.7|4.0|4.0|4.0|4.0|4.5|4.5|4.2|4.5|4.5|4.25|Yes|scott|\r\n",
      "242|ortiz's taco shop #2|california chicken|11/2/2016|6.39|4.25|||22.0|22.0|0.85|2.0|4.0|3.7|2.0|4.0|4.5|4.5|2.7|5.0|2.66|No|sage|\r\n",
      "245|el portal fresh mexican grill|mahi|11/6/2016|7.35|2.3|||19.5|23.5|0.86|4.0|4.0|3.5|2.0|1.5|2.0|2.0|3.0|1.2|3.1|No|scott|\r\n",
      "246|el portal fresh mexican grill|carnitas|11/6/2016|6.7|3.75|||18.0|22.5|0.73|3.5|4.0|4.0|3.0|3.75|4.0|3.0|3.5|4.5|3.75|Yes|emily|\r\n",
      "247|el zarape|california|11/8/2016|6.25|4.0|||17.0|19.5|0.51|2.5|4.0|3.75|4.0|3.75|5.0|4.0|4.0|5.0|3.9|Yes|scott|\r\n",
      "250|el zarape|carne asada supreme|11/8/2016|6.25|4.0|||18.0|21.0|0.63|4.0|4.0||3.5|3.5|4.0|4.0|4.0|4.0|4.0|Yes|tom|\r\n",
      "251|famoso mexican street food|cali diablo|11/14/2016|10.5|3.0|||20.0|27.0|1.16|2.0|2.5|3.3|3.5|1.5|4.0|2.5|2.5|3.0|3.1|No|scott|Big roach on the floor while eating. Good prep took quite a long time. Cut in half!\r\n",
      "252|valentines mexican food|carne asada|11/16/2016|6.75|3.0|||18.0|21.5|0.66|4.5|4.7|4.5|3.5|4.0|4.5|4.5|3.5|5.0|4.2|Yes|scott|\r\n",
      "257|cancun mexican & seafood|california|11/17/2016|6.99|4.3||||||4.8|5.0|4.0|4.4|5.0|4.0|4.3|4.3|5.0|4.5|Yes|scott|Sour cream is surprisingly good. Avocado salsa works very well on the burrito\r\n",
      "258|cancun mexican & seafood|california|11/17/2016|6.99|4.0||||||4.5|4.5|4.0|4.5|4.0|4.0|3.5|4.5|5.0|4.5|Yes|emily|\r\n",
      "259|los panchos taco shop|california|11/23/2016|6.25|3.0|||18.0|21.5|0.66|3.5|5.0|4.0|3.0|4.0|3.0|3.5|3.5|3.0|3.7|Yes|scott|\r\n",
      "260|los panchos taco shop|bitchin california|11/23/2016|7.25|4.0|||19.0|24.0|0.87|4.0|4.0|5.0|4.5|4.0|3.5|5.0|4.5|5.0|4.4|Yes|richard|\r\n",
      "261|los panchos taco shop|tijuana|11/23/2016|7.0|3.5|||19.5|22.0|0.75|4.0|4.0|3.5|4.0|4.0|3.5|4.5|4.0|3.5|3.7|Yes|tom|\r\n",
      "262|pollos maria|combo chicken|11/26/2016|6.99|3.5|||20.5|22.5|0.83|3.5|2.5|4.0|3.5|3.0|2.5|2.5|4.5|0.5|3.8|Yes|scott|Started off really great but ended with poor uniformity and wrap integrity\r\n",
      "263|pollos maria|carne asada|11/26/2016|6.49|3.0|||17.5|17.0|0.4|3.5|4.0|3.0|4.0|3.5|4.0|3.0|4.0|4.5|3.5|No|emily|Just way too small\r\n",
      "264|el pollo loco|chicken avocado|11/27/2016|5.99|3.5|||17.5|21.0|0.61|2.0|3.0|3.8|2.5|2.5|3.0|2.5|3.0|2.6|3.2|No|scott|\r\n",
      "265|gloria's taco shop|california|12/2/2016|5.65|3.0|||19.5|22.0|0.75|4.0|1.5|2.0|3.0|4.2|4.0|3.0|2.0|4.5|2.7|No|scott|Horchata tasted like bubble gum\r\n",
      "266|gloria's taco shop|cabeza|12/2/2016|5.49|3.0|||19.0|20.5|0.64|4.5|5.0|2.0|2.0|2.5|3.5|3.0|2.5|3.0|2.0|No|richard|Meat is squishy\r\n",
      "267|mr. ruribertos taco shop|california|12/10/2016|7.75|4.0|||20.0|21.0|0.7|3.5|2.5|3.0|3.3|1.4|2.3|2.2|3.3|4.5|2.9|No|scott|\r\n",
      "268|mr. ruribertos taco shop|carne asada|12/10/2016|7.75|4.0|||19.5|21.0|0.68|4.0|4.5|2.0|2.0|3.5|3.5|2.0|2.0|4.0|3.0|No|brent|Carrots are bad, got better as it went on\r\n",
      "269|rigoberto's taco shop|california|1/4/2017|6.6||||23.0|20.5|0.77|4.0|4.5|4.0|3.5|3.5|5.0|1.5|3.5|4.5|3.7|Yes|scott|Usually better. Too much enchilada sauce this time\r\n",
      "270|rigoberto's taco shop|chile relleno|1/4/2017|6.6||||20.5|21.5|0.75|4.0|2.0||4.0||4.6|4.2|3.75|5.0|3.9|Yes|sage|Orange salsa very spicy\r\n",
      "271|los tacos|fusion|1/7/2017|8.5|3.9|||21.0|21.0|0.74|3.0|4.5|4.1|3.0|3.7|4.0|4.3|4.2|5.0|3.9|Yes|scott|Fresca and verde salsas are the best\r\n",
      "272|los tacos|local|1/7/2017|7.9|4.0|||20.5|21.0|0.72|3.5|4.0|4.0|3.0|4.0|4.5|4.0|3.8|4.8|3.8|Yes|emily|Pastor is dry\r\n",
      "273|taco villa|chicken|1/10/2017|4.99|3.5|||18.5|22.5|0.75|2.5|4.5|3.0|2.5|3.0|3.0|2.0|2.0|4.0|3.0||scott|Somehow way better when it was leftover\r\n",
      "274|lupe's taco shop|hot cheetos|1/12/2017|7.29|3.5|||19.0|21.5|0.7|3.0|2.0|3.5|3.5|3.0|2.5|3.7|3.2|4.2|3.7||scott|Cheese is cold, but guac, salsa, and chips are good\r\n",
      "275|lupe's taco shop|surfin california|1/12/2017|7.89|3.0|||18.5|25.5|0.96|4.0|5.0|4.5|4.0|4.5|3.5|3.0|4.5|2.5|4.25||richard|quality ingredients\r\n",
      "276|lupe's taco shop|california|1/12/2017|7.49|3.7|||20.0|26.0|1.08|4.0|3.5|3.9|4.0|3.7|2.0|3.5|4.0|4.0|3.9||tom|tons of french fries\r\n",
      "278|los tacos|local|1/15/2017|7.9|3.5|||21.5|23.5|0.94|4.5|5.0|4.0|3.5|4.0|2.8|4.0|4.5|3.7|4.2||scott|\r\n",
      "279|los tacos|local|1/15/2017|7.9|2.0|||19.5|24.0|0.89|4.2|4.0|4.2|3.8|4.0|3.0|3.8|4.5|5.0|4.2||emily|\r\n",
      "280|taco villa|pollo asado|1/20/2017|5.99|4.5|||18.5|21.0|0.65|2.0|4.0|2.5|3.5|4.5|3.0|2.0|1.5|3.4|3.1||scott|\r\n",
      "281|taco villa|al pastor|1/20/2017|6.99|3.5|||18.5|20.5|0.62|2.5|4.5|4.0|4.0|2.0|3.0|3.0|3.0|4.0|3.0||ricardo|\r\n",
      "282|rigoberto's taco shop la jolla|california|2/15/2017|6.85|3.5||||||3.0|2.0|3.5|3.5|4.0|3.0|3.5|3.5|4.5|3.6||scott|\r\n",
      "284|taco villa|california|2/21/2017||4.3|||18.5|21.5|0.68|3.0|3.0|3.5|4.0|3.0|1.5|3.8|4.0|5.0|4.0||scott|Salsa much better this time than before\r\n",
      "285|cotixan|california|2/23/2017|7.19|4.5|||20.0|24.0|0.92|4.0|2.0|3.0|3.8|3.5|2.0|4.0|4.0|4.0|3.5||scott|\r\n",
      "286|los tacos|local|2/25/2017|7.9|2.5|||22.0|22.0|0.85|3.0|4.5|4.3|4.0|3.0|3.1|3.9|4.2|3.0|4.1||scott|\r\n",
      "287|los tacos|local|2/25/2017|7.9|3.0|||21.0|24.0|0.96|3.0|3.5|4.5|4.0|4.0|4.0|4.0|4.0|3.5|4.0||emily|\r\n",
      "289|lourdes|carnitas|3/3/2017|7.35|3.5|415.0|0.6916666667|21.0|19.0|0.6|3.5|3.0|3.5|3.0|4.5|4.5|4.0|4.0|5.0|3.75||emily|\r\n",
      "290|lourdes|california|3/3/2017|6.35|3.5|425.0|0.7083333333|19.0|20.0|0.6|4.0|3.0|3.0|3.0|2.5|3.0|3.5|2.8|5.0|3.1||scott|\r\n",
      "292|california burritos|california everything|4/7/2017|6.5|4.5|520.0|0.6265060241|22.5|21.5|0.83|4.5|3.0|3.5|4.5|3.5|4.0|3.5|4.3|4.3|4.1||scott|\r\n",
      "293|california burritos|california everything|4/7/2017|6.5|4.0|476.0|0.56|23.0|21.5|0.85|4.0|3.5|4.5|4.0|3.5|4.5|4.0|4.0|4.5|4.0||ricardo|\r\n",
      "294|california burritos|california everything mini|4/7/2017|4.75|4.0|||18.0|17.0|0.41|4.0|4.0|4.5|4.3|4.5|4.5|4.8|4.8|5.0|4.5||luis|\r\n",
      "295|california burritos|surf & turf|4/7/2017|6.75|4.0|560.0|0.5656565657|24.5|22.5|0.99|4.0|4.0|4.0|3.5|3.5|3.0|2.0|3.5|3.5|3.5||hannah|\r\n",
      "298|los palmitos|california|4/23/2017|7.1|4.0|||22.5|23.0|0.95|4.5|5.0|3.8|3.8|4.0|4.0|3.9|4.3|5.0|4.3||scott|red-orange salsa has a slight fruity flavor that's really good\r\n",
      "299|los palmitos|surf & turf|4/23/2017|8.25|3.5|||20.0|24.0|0.92|3.5|4.0|4.0|3.0|3.5|4.5|3.5|3.5|5.0|3.6||emily|Rice was plain. Also don't like rice in burrito\r\n",
      "300|taco villa|carnitas|4/25/2017|5.99|4.0|450.0|0.703125|20.0|20.0|0.64|2.0|4.5|4.5|3.0|3.8|4.4|2.5|3.5|3.0|4.0||scott|\r\n",
      "301|taco villa|carnitas|4/25/2017|5.99|4.0|||18.5|20.0|0.59|4.0|4.0|4.0|3.0|4.0|3.5|2.5|3.5|5.0|3.5||richard|\r\n",
      "302|lupe's taco shop|tgunz|4/25/2017|10.0|3.0|920.0|0.5974025974|23.0|29.0|1.54|3.0|4.0|3.2|3.5|1.8|1.8|3.5|3.7|3.5|3.9||scott|\r\n",
      "303|lupe's taco shop|tgunz|4/25/2017|10.0|4.2|925.0|0.6006493506|23.0|29.0|1.54|3.0|4.5|3.5|3.5|2.5|2.0|3.0|3.5|4.5|3.5||ricardo|\r\n",
      "304|filiberto's|adobada|5/2/2017|6.25|4.4||||||4.2|4.5|4.0|3.0|5.0|3.8|2.5|3.0|5.0|3.7||scott|\r\n",
      "305|filiberto's|california|5/2/2017|6.25|3.0||||||4.5|4.5|3.7|3.5|4.0|3.5|3.0|4.0|4.5|4.0||emily|\r\n",
      "306|don carlos taco shop|california|5/9/2017|7.75|5.0|||18.0|22.5|0.73|3.5|4.2|3.3|3.7|4.0|4.0|2.9|3.0|5.0|3.7||scott|\r\n",
      "307|don carlos taco shop|california|5/9/2017|7.75|2.5|||20.0|22.5|0.81|4.0|4.0|2.6|3.6|4.0|4.0|3.6|4.0|4.0|2.9||luis|\r\n",
      "308|los tacos 2|al pastor tradicional|5/13/2017|8.25|3.8|430.0|0.6323529412|22.5|19.5|0.68|4.0||4.0|3.0|3.0|2.5|4.0|3.0|5.0|3.6||scott|\r\n",
      "309|rubios ucsd|grilled fish salmon|5/17/2017|8.99|4.0|350.0|0.7446808511|15.5|19.5|0.47|3.5|3.0|3.5|3.5|4.0|2.0|4.0|4.0|4.0|3.4||tom|\r\n",
      "310|rigoberto's taco shop|california|5/17/2017|6.85|4.0|||23.5|23.0|0.99|3.5|5.0|3.3|3.0|5.0|2.0|3.0|3.8|3.5|3.9||scott|\r\n",
      "311|rigoberto's taco shop|california|5/17/2017|6.85|4.0|||23.5|23.5|1.03|4.0|5.0|4.0|4.0|5.0|3.5|2.0|3.5|4.0|4.0||elynn|\r\n",
      "312|el dorado mexican food|california|5/26/2017|7.4|3.3|||19.5|24.5|0.93|5.0|4.0|4.2|3.5|2.9|3.0|4.0|4.0|4.0|4.0||scott|\r\n",
      "313|el dorado mexican food|california|5/26/2017|7.4|3.5|||19.5|26.5|1.09|4.5|4.0|4.0|3.5|3.0|3.0|2.5|4.0|3.8|3.8||emily|\r\n",
      "314|los tacos 2|cheese steak|5/29/2017|9.95|4.2|600.0|0.7792207792|22.0|21.0|0.77|3.5|5.0|3.0|1.5|3.0|2.5|3.0|2.2|2.5|2.8||scott|\r\n",
      "315|roberto's taco shop hillcrest|asada|5/30/2017|7.0|3.5|450.0|0.625|19.5|21.5|0.72|4.0|4.0|2.0|2.5|4.5|4.0|3.0|2.9|4.5|2.8||scott|\r\n",
      "316|roberto's taco shop hillcrest|california surf and turf|5/30/2017|9.0|3.0|||24.0|22.0|0.92|3.5|4.0|4.0|4.0|4.5|4.5|2.0|3.5|4.0|4.0||richard|\r\n",
      "317|roberto's taco shop hillcrest|california|5/30/2017|7.0|3.5|||23.0|21.5|0.85|3.0|3.0|2.0|2.0|3.0|2.0|3.0|2.0|3.0|2.2||tom|\r\n",
      "318|burros and fries|shrimp california|6/4/2017|6.99|4.0|580.0|0.8656716418|21.0|20.0|0.67|3.0|4.0|4.0|2.5|2.5|3.0|3.0|3.0|5.0|3.0||emily|too many fries. Not great\r\n",
      "319|burros and fries|california|6/4/2017|7.19|3.5|635.0|0.7839506173|21.0|22.0|0.81|3.5|4.5|3.5|3.5|3.0|3.5|4.0|3.5|5.0|3.8||scott|\r\n",
      "320|taco stand encinitas|california|6/10/2017|7.89|4.0|||19.0|22.5|0.77|3.0||4.5|4.0|4.5|4.5|4.5|4.8|3.3|4.7||scott|\r\n",
      "321|taco stand encinitas|california|6/10/2017|7.89|4.0|||18.0|21.5|0.66|3.0||4.0|4.0|4.5|4.0|4.5|4.5|5.0|4.5||emily|\r\n",
      "322|cotixan|california|6/16/2017|6.9|4.3|550.0|0.6875|19.0|23.0|0.8|3.0|3.0|3.5|3.5|3.5|3.5|3.8|4.0|5.0|3.7||scott|\r\n",
      "323|vallarta express|surf & turf|6/24/2017|8.55|3.0|610.0|0.7261904762|20.0|23.0|0.84|3.0|2.5|3.0|3.0|3.5|2.8|3.5|2.8|1.5|3.0||scott|\r\n",
      "324|vallarta express|california|6/24/2017|7.8|2.5|620.0|0.6326530612|20.5|24.5|0.98|3.0|2.0|3.5|3.0|3.0|4.0|3.0|3.8|4.5|3.5||emily|\r\n",
      "325|caliente mexican food|carne asada|7/6/2017|5.56|2.5|420.0|0.6176470588|21.5|20.0|0.68|2.5|3.0|2.5|3.5|4.5|4.5|3.7|3.3|4.5|3.5||scott|\r\n",
      "329|taco villa|carne asada|7/12/2017|6.99|3.0||||||3.0|4.5|2.0|3.0|2.5|4.0|2.0|2.0|4.0|2.0||richard|\r\n",
      "330|taco villa|california|7/19/2017|6.99|4.0|||20.5|21.5|0.75|4.0||3.5|3.5|3.5|3.5|3.5|3.5|5.0|3.7||scott|\r\n",
      "331|los tacos 2|local|7/22/2017|8.5|3.8|||23.0|22.0|0.89|4.0|4.5|3.0|4.0|3.0|2.5|3.5|3.5|3.0|4.0||scott|\r\n",
      "332|los tacos 2|local|7/22/2017|8.5|4.0|||22.0|21.0|0.77|4.0|4.0|3.75|4.0|3.5|3.5|4.0|5.0|3.5|4.0||emily|\r\n",
      "333|valentines mexican food|carne asada|8/7/2017|6.75|4.0|||19.5|21.0|0.68|4.0|4.5|3.5|3.5|4.5|4.5|3.0|3.5|4.0|3.9||scott|\r\n",
      "334|vallarta express|california|8/9/2017|8.35|4.5|||21.0|23.0|0.88|3.0|3.0|4.0|3.0|4.0|2.5|4.0|4.5|4.0|4.1||scott|\r\n",
      "337|kotija jr|california|8/19/2017|6.99|4.0|550.0|0.7857142857|20.0|21.0|0.7|4.0|5.0|3.5|3.8|3.0|2.5|3.3|4.0|5.0|3.7||scott|\r\n",
      "338|kotija jr|steak fajitas|8/19/2017|7.1|3.0|||21.0|22.0|0.81|3.5|5.0|4.0|4.0|4.5|4.75|3.75|4.0|5.0|4.2||emily|\r\n",
      "339|el rey moro|hashbrown|8/20/2017|6.47|4.0|450.0|0.625|22.5|20.0|0.72|3.0|3.0|2.0|2.5|1.5|2.5|2.5|3.0|5.0|3.2||scott|\r\n",
      "340|el rey moro|hashbrown|8/20/2017|8.94|3.5|||21.5|22.0|0.83|2.5|3.5|3.5|3.5|3.5|4.0|3.0|3.5|4.5|3.8||emily|\r\n",
      "341|taco villa|carnitas|8/25/2017|5.99|2.0|||20.0|21.5|0.74|2.0|2.5|4.0|3.0|4.0|3.5|3.0|3.0|5.0|3.8||scott|\r\n",
      "343|los tacos|local|9/4/2017|8.5|3.5|540.0|0.6835443038|21.5|21.5|0.79|3.5|4.0|4.5|4.0|3.0|4.0|3.5|4.5|5.0|4.3||scott|\r\n",
      "344|los tacos|local|9/4/2017|8.5|3.5|540.0|0.6136363636|21.0|23.0|0.88|4.0|4.0|4.0|4.5|4.2|4.5|4.0|4.5|4.8|4.5||emily|\r\n",
      "345|rigoberto's taco shop|california|9/5/2017|6.85|3.5|||22.5|22.5|0.91|3.0|4.5|3.8|3.8|4.0|3.5|3.5|4.0|3.0|4.1||scott|\r\n",
      "346|rigoberto's taco shop|california|9/5/2017|6.85|3.5|||22.2|22.5|0.89|3.0|4.5|4.0|4.0|4.5|3.0|4.0|4.0|3.5|4.25||sage|\r\n",
      "347|taco stand|california|12/29/2017|7.89|4.0|||19.0|23.0|0.8|4.0|3.0|4.0|4.0|3.0|4.0|3.5|4.3|4.5|4.2||scott|\r\n",
      "350|los tacos 2|local|1/12/2018|8.5|4.0|||21.0|23.5|0.92|4.0|4.0|3.0|3.5|1.0|2.0|3.0|3.0|1.0|3.0|N|scott|\r\n",
      "352|taco villa|carnitas|4/9/2018|5.99|3.0|||20.0|23.0|0.84|3.5|5.0|4.3|3.5|5.0|4.0|3.0|3.8|2.0|4.1||scott|\r\n",
      "354|taco villa|carnitas|4/9/2018|5.99|2.0|||19.0|24.5|0.91|2.0|3.5|4.5|4.0|4.0|2.0|3.0|4.0|2.0|3.5||elynn|\r\n",
      "355|mikes taco club|california|4/14/2018|8.99|4.0|||25.0|23.0|1.05|4.5|4.5|4.0|4.0|3.0|4.0|3.5|4.0|3.0|4.2||scott|\r\n",
      "356|mikes taco club|california|4/14/2018|8.99|4.0|||24.0|22.0|0.92|4.5|5.0|3.5|4.0|4.0|4.0||2.5|1.5|3.8||sage|\r\n",
      "357|taco villa|chile verde (pork)|4/16/2018|5.99|3.5|||17.0|21.5|0.63|4.0|4.5|3.5|3.0|4.5|3.0|3.0|2.5|2.5|3.6||scott|\r\n",
      "358|el zarape|supreme chicken|4/16/2018|7.5|4.0|||18.0|22.0|0.69|4.0|4.0|3.5|4.2|4.5|4.3|3.0|4.0|4.5|3.8||tom|\r\n",
      "359|taco villa|carnitas|4/20/2018|5.99|3.0|||20.0|20.5|0.67|2.0|5.0|4.5|3.5|4.5|4.5|2.5|3.5|1.5|4.0||scott|so greasy. But grilled onions are good\r\n",
      "361|lucha libre carlsbad|alambre california|4/21/2018|8.5|3.2|||18.0|23.0|0.76|3.8|4.0|4.0|4.0|3.8|3.4|4.3|4.0|5.0|4.1||scott|Not much bacon flavor\r\n",
      "362|lucha libre carlsbad|surfin california|4/21/2018|9.5|3.0|||19.0|24.0|0.87|3.5|3.0|3.8|4.0|3.8|4.5|4.5|4.0|5.0|3.9||emily|Bad shrimp\r\n",
      "363|lucha libre carlsbad|ado-haba california|4/29/2018|8.5|3.2|||19.5|21.5|0.72|3.5|1.0|3.0|3.0|3.4|4.0|4.5|3.0|4.0|3.1||scott|Had been made too early for pickup and got cold. Small in size \r\n",
      "364|lucha libre carlsbad|ala tingada california|4/29/2018|8.5|3.0|||18.0|19.0|0.52|3.0|2.5|3.5|3.0|1.0|1.0|4.0|3.5|5.0|1.5||emily|tortilla became a filling half of the side. Puny size.\r\n",
      "365|taco villa|california|5/1/2018|6.99|4.0|||18.0|23.0|0.76|3.5|3.0|3.2|3.2|3.2|4.0|3.0|2.5|4.5|3.2||scott|I ordered carnitas\r\n",
      "366|taco villa|carnitas|5/7/2018|5.99|3.5|||19.5|21.0|0.68|2.5|3.0|4.0|3.5|2.5|2.5|3.3|3.0|4.0|3.7||scott|Worse than usual\r\n",
      "368|tony's fresh mexican food|la paz|5/22/2018|9.99|5.0|||20.0|22.0|0.77|4.0|4.0|3.0|3.0|5.0|3.5||3.0|4.5|4.0||hannah|\r\n",
      "371|tony's fresh mexican food|adobada|5/22/2018|7.39|4.5|||21.0|22.5|0.85|3.5|4.5|4.0|3.5|2.0|1.0|3.5|3.5|4.0|3.5||ricardo|\r\n",
      "372|tony's fresh mexican food|veggie|5/22/2018|7.39|4.0|||22.0|20.0|0.7|3.0|5.0||3.0||4.0||3.0|4.0|3.5||erin|\r\n"
     ]
    }
   ],
   "source": [
    ".mode list\n",
    ".headers off\n",
    "SELECT * FROM burritos\n",
    "WHERE Reviewer IN (SELECT Reviewer FROM burritos GROUP BY Reviewer HAVING COUNT(Reviewer) >= 5)"
   ]
  },
  {
   "cell_type": "markdown",
   "metadata": {},
   "source": [
    "### 10. Overall ratings when Meat rating was 2.5 or lower"
   ]
  },
  {
   "cell_type": "code",
   "execution_count": 14,
   "metadata": {},
   "outputs": [
    {
     "name": "stdout",
     "output_type": "stream",
     "text": [
      "Location             Meat        overall   \r\n",
      "-------------------  ----------  ----------\r\n",
      "raul's mexican food  1.0         1.0       \r\n",
      "los primos mexican   1.0         2.0       \r\n",
      "jv's mexican food    1.5         2.0       \r\n",
      "tony's fresh mexica  1.5         2.0       \r\n",
      "senor grubby's       1.5         1.8       \r\n",
      "el nopalito          1.5         2.6       \r\n",
      "roberto's taco shop  1.5         3.0       \r\n",
      "tony's fresh mexica  2.0         2.75      \r\n",
      "la perla cocina      2.0         2.5       \r\n",
      "vallarta express     2.0         2.9       \r\n"
     ]
    }
   ],
   "source": [
    ".mode column\n",
    ".headers on\n",
    "SELECT Location, Meat, Overall FROM burritos\n",
    "WHERE Meat <= 2.5\n",
    "ORDER BY Meat\n",
    "LIMIT 10"
   ]
  },
  {
   "cell_type": "markdown",
   "metadata": {},
   "source": [
    "**Same for Salsa**"
   ]
  },
  {
   "cell_type": "code",
   "execution_count": 15,
   "metadata": {},
   "outputs": [
    {
     "name": "stdout",
     "output_type": "stream",
     "text": [
      "Location    Salsa       overall   \r\n",
      "----------  ----------  ----------\r\n",
      "taco villa  0.0         3.0       \r\n",
      "jv's mexic  0.5         2.5       \r\n",
      "tony's fre  1.0         3.0       \r\n",
      "tony's fre  1.0         3.9       \r\n",
      "roberto's   1.0         1.5       \r\n",
      "caliente m  1.0         2.0       \r\n",
      "jv's mexic  1.5         2.0       \r\n",
      "rigoberto'  1.5         3.5       \r\n",
      "raul's mex  1.5         1.0       \r\n",
      "el zarape   1.5         3.0       \r\n"
     ]
    }
   ],
   "source": [
    "SELECT Location, Salsa, Overall FROM burritos\n",
    "WHERE Salsa <= 2.5\n",
    "AND Salsa IS NOT NULL\n",
    "ORDER BY Salsa\n",
    "LIMIT 10"
   ]
  },
  {
   "cell_type": "markdown",
   "metadata": {},
   "source": [
    "**Same for Wrap Integrity**\n",
    "\n",
    "Moral: Can still have a good overall rating if wrap integriy is bad, but not if the meat is bad"
   ]
  },
  {
   "cell_type": "code",
   "execution_count": 16,
   "metadata": {},
   "outputs": [
    {
     "name": "stdout",
     "output_type": "stream",
     "text": [
      "Location                  Wrap        overall   \r\n",
      "------------------------  ----------  ----------\r\n",
      "cancun mexican & seafood  0.5         3.9       \r\n",
      "rudy's taco shop          0.5         2.8       \r\n",
      "lolita's taco shop        0.5         3.0       \r\n",
      "pollos maria              0.5         3.8       \r\n",
      "pollos maria              1.0         3.2       \r\n",
      "tony's fresh mexican foo  1.0         3.0       \r\n",
      "rigoberto's taco shop     1.0         4.25      \r\n",
      "goody's                   1.0         1.8       \r\n",
      "los primos mexican food   1.0         2.0       \r\n",
      "los tacos 2               1.0         3.0       \r\n"
     ]
    }
   ],
   "source": [
    "SELECT Location, Wrap, Overall FROM burritos\n",
    "WHERE Wrap <= 2.5\n",
    "AND Salsa IS NOT NULL\n",
    "ORDER BY Wrap\n",
    "LIMIT 10"
   ]
  },
  {
   "cell_type": "markdown",
   "metadata": {},
   "source": [
    "### 11. Best burritos in UTC"
   ]
  },
  {
   "cell_type": "code",
   "execution_count": 17,
   "metadata": {},
   "outputs": [
    {
     "name": "stdout",
     "output_type": "stream",
     "text": [
      "Location    Burrito     overall   \r\n",
      "----------  ----------  ----------\r\n",
      "taco villa  carnitas    4.5       \r\n",
      "taco villa  carne asad  4.3       \r\n",
      "taco villa  chicken an  4.2       \r\n",
      "taco villa  carnitas    4.1       \r\n",
      "taco villa  carnitas    4.0       \r\n",
      "taco villa  tejano      4.0       \r\n",
      "taco villa  al pastor   4.0       \r\n",
      "taco villa  california  4.0       \r\n",
      "taco villa  carnitas    4.0       \r\n",
      "taco villa  carnitas    4.0       \r\n"
     ]
    }
   ],
   "source": [
    "SELECT Location, Burrito, overall FROM burritos\n",
    "WHERE Location IN (SELECT Location FROM restaurants WHERE Neighborhood == 'UTC')\n",
    "ORDER BY overall DESC\n",
    "LIMIT 10"
   ]
  },
  {
   "cell_type": "markdown",
   "metadata": {},
   "source": [
    "### 12. Best burritos rated by locals"
   ]
  },
  {
   "cell_type": "code",
   "execution_count": 18,
   "metadata": {},
   "outputs": [
    {
     "name": "stdout",
     "output_type": "stream",
     "text": [
      "Location             Burrito      overall     Reviewer  \r\n",
      "-------------------  -----------  ----------  ----------\r\n",
      "california burritos  surf & turf  5.0         hannah    \r\n",
      "valentines mexican   pork califo  5.0         justin k  \r\n",
      "taco stand           california   4.9         sage      \r\n",
      "taco stand           california   4.7         luis      \r\n",
      "taco stand encinita  california   4.7         scott     \r\n",
      "taco stand           california   4.6         scott     \r\n",
      "california burritos  california   4.6         luis      \r\n",
      "taco stand           california   4.5         emily     \r\n",
      "mikes taco club      california   4.5         brad      \r\n",
      "rigoberto's taco sh  california   4.5         scott     \r\n"
     ]
    }
   ],
   "source": [
    "SELECT Location, Burrito, overall, reviewer FROM burritos\n",
    "WHERE Reviewer IN (SELECT name FROM reviewers WHERE sandiego == '1')\n",
    "ORDER BY overall DESC\n",
    "LIMIT 10"
   ]
  },
  {
   "cell_type": "markdown",
   "metadata": {},
   "source": [
    "# Describing taco shops\n",
    "### 13. Taco shops with an average salsa rating above 4"
   ]
  },
  {
   "cell_type": "code",
   "execution_count": 19,
   "metadata": {
    "scrolled": true
   },
   "outputs": [
    {
     "name": "stdout",
     "output_type": "stream",
     "text": [
      "Location              avg         COUNT(*)  \r\n",
      "--------------------  ----------  ----------\r\n",
      "taco stand encinitas  4.5625      4         \r\n",
      "el cuervo             4.5         2         \r\n",
      "los panchos taco sho  4.33333333  3         \r\n",
      "lucha libre carlsbad  4.325       4         \r\n",
      "albertacos            4.0         2         \r\n",
      "graciela's taco shop  4.0         2         \r\n",
      "karina's taco shop    4.0         2         \r\n",
      "sotos mexican food    4.0         2         \r\n"
     ]
    }
   ],
   "source": [
    "SELECT Location, AVG(Salsa) as `avg`, COUNT(*)\n",
    "FROM burritos\n",
    "GROUP BY Location\n",
    "HAVING AVG(Salsa) >= 4\n",
    "ORDER BY `avg` DESC"
   ]
  },
  {
   "cell_type": "markdown",
   "metadata": {},
   "source": [
    "### 14. Number and average ratings for each taco shop, sorted by most favorable, at least 5 ratings"
   ]
  },
  {
   "cell_type": "code",
   "execution_count": 20,
   "metadata": {},
   "outputs": [
    {
     "name": "stdout",
     "output_type": "stream",
     "text": [
      "Location                 avg         COUNT(*)  \r\n",
      "-----------------------  ----------  ----------\r\n",
      "valentines mexican food  4.3125      8         \r\n",
      "california burritos      4.152       27        \r\n",
      "taco stand               4.13478260  23        \r\n",
      "cancun mexican & seafoo  4.1         6         \r\n",
      "los tacos                4.09230769  13        \r\n",
      "rigoberto's taco shop    3.81590909  22        \r\n",
      "taco villa               3.57931034  29        \r\n",
      "vallarta express         3.55384615  13        \r\n",
      "lupe's taco shop         3.54166666  6         \r\n",
      "los tacos 2              3.48        5         \r\n"
     ]
    }
   ],
   "source": [
    "SELECT Location, AVG(overall) as `avg`, COUNT(*)\n",
    "FROM burritos\n",
    "GROUP BY Location\n",
    "HAVING COUNT(*) >= 5\n",
    "ORDER BY `avg` DESC\n",
    "LIMIT 10"
   ]
  },
  {
   "cell_type": "markdown",
   "metadata": {},
   "source": [
    "### 15. Best taco shops that provide free chips"
   ]
  },
  {
   "cell_type": "code",
   "execution_count": 21,
   "metadata": {},
   "outputs": [
    {
     "name": "stdout",
     "output_type": "stream",
     "text": [
      "Location                 COUNT(*)    avg       \r\n",
      "-----------------------  ----------  ----------\r\n",
      "valentines mexican food  8           4.3125    \r\n",
      "california burritos      27          4.152     \r\n",
      "cancun mexican & seafoo  6           4.1       \r\n",
      "los palmitos             2           3.95      \r\n",
      "los panchos taco shop    3           3.93333333\r\n",
      "porkyland                4           3.825     \r\n",
      "pollos maria             4           3.675     \r\n",
      "lupe's taco shop         6           3.54166666\r\n",
      "los cabos                2           3.5       \r\n",
      "el portal fresh mexican  2           3.425     \r\n"
     ]
    }
   ],
   "source": [
    "SELECT Location, COUNT(*), AVG(overall) as `avg` FROM burritos\n",
    "WHERE Location IN (SELECT Location FROM restaurants WHERE Chips == 1)\n",
    "GROUP BY Location\n",
    "ORDER BY `avg` DESC\n",
    "LIMIT 10"
   ]
  },
  {
   "cell_type": "markdown",
   "metadata": {},
   "source": [
    "### 16. Taco shops with yelp rating >=4 stars, with average burrito rating"
   ]
  },
  {
   "cell_type": "code",
   "execution_count": 22,
   "metadata": {},
   "outputs": [
    {
     "name": "stdout",
     "output_type": "stream",
     "text": []
    }
   ],
   "source": [
    "CREATE TABLE avg_overalls AS\n",
    "    SELECT Location, AVG(overall)\n",
    "    FROM burritos\n",
    "    GROUP BY Location"
   ]
  },
  {
   "cell_type": "code",
   "execution_count": 23,
   "metadata": {
    "scrolled": true
   },
   "outputs": [
    {
     "name": "stdout",
     "output_type": "stream",
     "text": [
      "Location    Yelp        AVG(overall)    \r\n",
      "----------  ----------  ----------------\r\n",
      "taco stand  4.5         4.13478260869565\r\n",
      "lola's 7 u  4.5         3.4             \r\n",
      "cancun mex  4.5         4.1             \r\n",
      "mikes taco  4.5         4.2             \r\n",
      "la perla c  4.5         3.25            \r\n",
      "california  4.5         4.152           \r\n",
      "mi asador   4.5         3.25            \r\n",
      "sotos mexi  4.5         3.35            \r\n",
      "netos mexi  4.5         3.1             \r\n",
      "el dorado   4.5         4.025           \r\n"
     ]
    }
   ],
   "source": [
    "SELECT restaurants.Location, Yelp, `AVG(overall)`\n",
    "FROM restaurants\n",
    "JOIN avg_overalls on restaurants.Location=avg_overalls.Location\n",
    "ORDER BY Yelp DESC\n",
    "LIMIT 10"
   ]
  },
  {
   "cell_type": "markdown",
   "metadata": {},
   "source": [
    "### 17. Average ratings of each taco shop in each dimension"
   ]
  },
  {
   "cell_type": "code",
   "execution_count": 24,
   "metadata": {},
   "outputs": [
    {
     "name": "stdout",
     "output_type": "stream",
     "text": [
      "Location|AVG(Volume)|AVG(Tortilla)|AVG(Temp)|AVG(Meat)|AVG(Fillings)|AVG(`Meat:filling`)|AVG(Uniformity)|AVG(Salsa)|AVG(Synergy)|AVG(Wrap)|avgo\r\n",
      "taco stand encinitas|0.7275|2.95|3.65|4.175|4.125|4.1875|3.675|4.5625|4.425|3.575|4.4\r\n",
      "valentines mexican food|0.722857142857143|4.0625|4.3375|4.025|4.0625|4.4375|4.0|3.5625|4.0|3.1875|4.3125\r\n",
      "el pueblo mexican food|0.67|4.5|4.5|3.5|4.0|4.5|5.0|2.5|4.5|5.0|4.3\r\n",
      "mikes taco club|0.985|4.375|4.625|3.75|4.375|3.375|3.5|3.83333333333333|3.875|3.375|4.2\r\n",
      "california burritos|0.823333333333333|3.88148148148148|3.43703703703704|4.03703703703704|3.93461538461538|3.95192307692308|3.92592592592593|3.532|4.02222222222222|4.30740740740741|4.152\r\n",
      "taco stand|0.769090909090909|3.78260869565217|3.43478260869565|4.28260869565217|3.97826086956522|3.9|3.8695652173913|3.74782608695652|4.2304347826087|4.06521739130435|4.13478260869565\r\n",
      "cancun mexican & seafood|0.735|4.05|4.5|3.83333333333333|3.9|3.91666666666667|3.41666666666667|3.3|3.8|3.91666666666667|4.1\r\n",
      "los tacos|0.83|3.66923076923077|4.19230769230769|4.2|3.83076923076923|3.56923076923077|3.56923076923077|3.80769230769231|4.16923076923077|4.25384615384615|4.09230769230769\r\n",
      "taco surf pb|0.81|4.16666666666667|2.0|3.93333333333333|4.13333333333333|4.0|2.83333333333333|3.6|4.06666666666667|4.66666666666667|4.06666666666667\r\n",
      "el dorado mexican food|1.01|4.25|3.875|3.925|3.75|3.275|3.25|3.875|4.0|3.575|4.025\r\n"
     ]
    }
   ],
   "source": [
    ".mode list\n",
    "SELECT Location, AVG(Volume), AVG(Tortilla), AVG(Temp), AVG(Meat), AVG(Fillings), AVG(`Meat:filling`), AVG(Uniformity), AVG(Salsa), AVG(Synergy), AVG(Wrap), AVG(overall) as `avgo`\n",
    "FROM burritos\n",
    "GROUP BY Location\n",
    "ORDER BY `avgo` DESC\n",
    "LIMIT 10"
   ]
  },
  {
   "cell_type": "markdown",
   "metadata": {},
   "source": [
    "# Focus on locals\n",
    "### 18. Average ratings from locals vs nonlocals\n",
    "The average burrito rating is higher for visitors compared to locals\n",
    "\n",
    "There are many potential reasons for this"
   ]
  },
  {
   "cell_type": "code",
   "execution_count": 25,
   "metadata": {},
   "outputs": [
    {
     "name": "stdout",
     "output_type": "stream",
     "text": [
      "sandiego|AVG(overall)\r\n",
      "0|3.975\r\n",
      "1|3.5401851754386\r\n"
     ]
    }
   ],
   "source": [
    "WITH ratings_with_local AS (\n",
    "    SELECT overall, reviewers.sandiego\n",
    "    FROM burritos\n",
    "    JOIN reviewers on burritos.Reviewer=reviewers.Name\n",
    "    WHERE sandiego IS NOT NULL)\n",
    "SELECT sandiego, AVG(overall)\n",
    "FROM ratings_with_local\n",
    "GROUP BY sandiego"
   ]
  },
  {
   "cell_type": "markdown",
   "metadata": {},
   "source": [
    "### 19. Average ratings for reviewers younger and older than 30\n",
    "This time, will choose to first average ratings within person and then compare across age\n",
    "\n",
    "People above age 30 reviewed burritos higher than those below age 30"
   ]
  },
  {
   "cell_type": "code",
   "execution_count": 26,
   "metadata": {},
   "outputs": [
    {
     "name": "stdout",
     "output_type": "stream",
     "text": []
    }
   ],
   "source": [
    "CREATE TABLE burritos_avgo AS\n",
    "    SELECT Reviewer, AVG(overall)\n",
    "    FROM burritos\n",
    "    GROUP BY Reviewer"
   ]
  },
  {
   "cell_type": "code",
   "execution_count": 27,
   "metadata": {},
   "outputs": [
    {
     "name": "stdout",
     "output_type": "stream",
     "text": []
    }
   ],
   "source": [
    "CREATE TABLE age_and_avgo AS\n",
    "    SELECT `AVG(overall)`, age\n",
    "    FROM burritos_avgo\n",
    "    JOIN reviewers on burritos_avgo.Reviewer=reviewers.Name\n",
    "    WHERE age IS NOT NULL"
   ]
  },
  {
   "cell_type": "code",
   "execution_count": 28,
   "metadata": {},
   "outputs": [
    {
     "name": "stdout",
     "output_type": "stream",
     "text": [
      "AVG(`AVG(overall)`)\r\n",
      "3.38563806148822\r\n",
      "AVG(`AVG(overall)`)\r\n",
      "3.89421296296296\r\n"
     ]
    }
   ],
   "source": [
    "SELECT AVG(`AVG(overall)`) FROM age_and_avgo\n",
    "WHERE age < 30;\n",
    "\n",
    "SELECT AVG(`AVG(overall)`) FROM age_and_avgo\n",
    "WHERE age >= 30"
   ]
  },
  {
   "cell_type": "markdown",
   "metadata": {},
   "source": [
    "### 20. Edit a reviewer and create a new rating"
   ]
  },
  {
   "cell_type": "code",
   "execution_count": 29,
   "metadata": {},
   "outputs": [
    {
     "name": "stdout",
     "output_type": "stream",
     "text": [
      "index|age|name|sandiego\r\n",
      "0|26.0|scott|1\r\n"
     ]
    }
   ],
   "source": [
    "SELECT * from Reviewers\n",
    "LIMIT 1"
   ]
  },
  {
   "cell_type": "code",
   "execution_count": 30,
   "metadata": {},
   "outputs": [
    {
     "name": "stdout",
     "output_type": "stream",
     "text": []
    }
   ],
   "source": [
    "UPDATE Reviewers\n",
    "SET age = '26'\n",
    "WHERE name = 'scott';"
   ]
  },
  {
   "cell_type": "code",
   "execution_count": 31,
   "metadata": {},
   "outputs": [
    {
     "name": "stdout",
     "output_type": "stream",
     "text": [
      "index|age|name|sandiego\r\n",
      "0|26.0|scott|1\r\n"
     ]
    }
   ],
   "source": [
    "SELECT * from Reviewers\n",
    "LIMIT 1"
   ]
  },
  {
   "cell_type": "code",
   "execution_count": 32,
   "metadata": {},
   "outputs": [
    {
     "name": "stdout",
     "output_type": "stream",
     "text": []
    }
   ],
   "source": [
    "INSERT INTO burritos\n",
    "VALUES ('999', 'Fake Taco Shop', 'Imaginary burrito',\n",
    "        '2/29/2020', '0', '9000', NULL, \n",
    "        NULL, '20', '20', '.64', '3', '3',\n",
    "        '3', '3', '3', '3', '3', '3', '3', '3', NULL, 'Fake', 'I AM NOT REAL');"
   ]
  },
  {
   "cell_type": "code",
   "execution_count": 33,
   "metadata": {},
   "outputs": [
    {
     "name": "stdout",
     "output_type": "stream",
     "text": [
      "index|Location|Burrito|Date|Cost|Hunger|Mass (g)|Density (g/mL)|Length|Circum|Volume|Tortilla|Temp|Meat|Fillings|Meat:filling|Uniformity|Salsa|Synergy|Wrap|overall|Rec|Reviewer|Notes\r\n",
      "999|Fake Taco Shop|Imaginary burrito|2/29/2020|0.0|9000.0|||20.0|20.0|0.64|3.0|3.0|3.0|3.0|3.0|3.0|3.0|3.0|3.0|3.0||Fake|I AM NOT REAL\r\n"
     ]
    }
   ],
   "source": [
    "SELECT * from burritos\n",
    "WHERE Reviewer == 'Fake'\n",
    "LIMIT 1"
   ]
  },
  {
   "cell_type": "code",
   "execution_count": null,
   "metadata": {},
   "outputs": [],
   "source": []
  }
 ],
 "metadata": {
  "kernelspec": {
   "display_name": "Sqlite3",
   "language": "sqlite3",
   "name": "sqlite3"
  },
  "language_info": {
   "codemirror_mode": "sql",
   "file_extension": ".sql",
   "mimetype": "text/x-sql",
   "name": "sqlite3"
  }
 },
 "nbformat": 4,
 "nbformat_minor": 2
}
