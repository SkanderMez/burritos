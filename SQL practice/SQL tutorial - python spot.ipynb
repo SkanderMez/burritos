{
 "cells": [
  {
   "cell_type": "markdown",
   "metadata": {},
   "source": [
    "https://pythonspot.com/tag/sql/"
   ]
  },
  {
   "cell_type": "markdown",
   "metadata": {},
   "source": [
    "### print version"
   ]
  },
  {
   "cell_type": "code",
   "execution_count": 1,
   "metadata": {},
   "outputs": [
    {
     "name": "stdout",
     "output_type": "stream",
     "text": [
      "SQLite version: 3.22.0\n"
     ]
    }
   ],
   "source": [
    "import sqlite3 as lite\n",
    "import sys\n",
    "\n",
    "con = lite.connect('test.db')\n",
    "cur = con.cursor()    \n",
    "cur.execute('SELECT SQLITE_VERSION()')\n",
    "data = cur.fetchone()\n",
    "print(\"SQLite version: %s\" % data)       "
   ]
  },
  {
   "cell_type": "markdown",
   "metadata": {},
   "source": [
    "### make some data"
   ]
  },
  {
   "cell_type": "code",
   "execution_count": 3,
   "metadata": {},
   "outputs": [],
   "source": [
    "import sqlite3 as lite\n",
    "import sys\n",
    " \n",
    "con = lite.connect('user.db')\n",
    " \n",
    "with con:\n",
    " \n",
    "    cur = con.cursor()    \n",
    "    cur.execute(\"CREATE TABLE Users(Id INT, Name TEXT)\")\n",
    "    cur.execute(\"INSERT INTO Users VALUES(1,'Michelle')\")\n",
    "    cur.execute(\"INSERT INTO Users VALUES(2,'Sonya')\")\n",
    "    cur.execute(\"INSERT INTO Users VALUES(3,'Greg')\")"
   ]
  },
  {
   "cell_type": "markdown",
   "metadata": {},
   "source": [
    "# Read data in SQL"
   ]
  },
  {
   "cell_type": "code",
   "execution_count": 9,
   "metadata": {},
   "outputs": [
    {
     "name": "stdout",
     "output_type": "stream",
     "text": [
      "Users\n"
     ]
    }
   ],
   "source": [
    "%%bash\n",
    "sqlite3 user.db\n",
    ".tables"
   ]
  },
  {
   "cell_type": "code",
   "execution_count": 10,
   "metadata": {},
   "outputs": [
    {
     "name": "stdout",
     "output_type": "stream",
     "text": [
      "Users\n",
      "1|Michelle\n",
      "2|Sonya\n",
      "3|Greg\n"
     ]
    }
   ],
   "source": [
    "%%bash\n",
    "sqlite3 user.db\n",
    ".tables\n",
    "Select * FROM Users;"
   ]
  },
  {
   "cell_type": "code",
   "execution_count": 13,
   "metadata": {},
   "outputs": [
    {
     "name": "stdout",
     "output_type": "stream",
     "text": [
      "1|Michelle\n",
      "2|Sonya\n",
      "3|Greg\n",
      "3\n",
      "Michelle\n",
      "Sonya\n",
      "Greg\n",
      "2|Sonya\n"
     ]
    }
   ],
   "source": [
    "%%bash\n",
    "sqlite3 user.db \n",
    "SELECT * FROM Users;\n",
    "SELECT count(*) FROM Users;\n",
    "SELECT name FROM Users;\n",
    "SELECT * FROM Users WHERE id = 2;\n",
    "DELETE FROM Users WHERE id = 6;"
   ]
  },
  {
   "cell_type": "markdown",
   "metadata": {},
   "source": [
    "# Read sql data in python"
   ]
  },
  {
   "cell_type": "code",
   "execution_count": 15,
   "metadata": {},
   "outputs": [
    {
     "name": "stdout",
     "output_type": "stream",
     "text": [
      "(1, 'Michelle')\n",
      "(2, 'Sonya')\n",
      "(3, 'Greg')\n"
     ]
    }
   ],
   "source": [
    "import sqlite3 as lite\n",
    "import sys\n",
    "\n",
    "con = lite.connect('user.db')\n",
    " \n",
    "with con:    \n",
    " \n",
    "    cur = con.cursor()    \n",
    "    cur.execute(\"SELECT * FROM Users\")\n",
    " \n",
    "    rows = cur.fetchall()\n",
    " \n",
    "    for row in rows:\n",
    "        print(row)"
   ]
  },
  {
   "cell_type": "markdown",
   "metadata": {},
   "source": [
    "# 2 tables"
   ]
  },
  {
   "cell_type": "code",
   "execution_count": 16,
   "metadata": {},
   "outputs": [],
   "source": [
    "import sqlite3 as lite\n",
    "import sys\n",
    " \n",
    "con = lite.connect('system.db')\n",
    " \n",
    "with con:\n",
    " \n",
    "    cur = con.cursor()    \n",
    "    cur.execute(\"CREATE TABLE Users(Id INT, Name TEXT)\")\n",
    "    cur.execute(\"INSERT INTO Users VALUES(1,'Michelle')\")\n",
    "    cur.execute(\"INSERT INTO Users VALUES(2,'Howard')\")\n",
    "    cur.execute(\"INSERT INTO Users VALUES(3,'Greg')\")\n",
    " \n",
    "    cur.execute(\"CREATE TABLE Jobs(Id INT, Uid INT, Profession TEXT)\")\n",
    "    cur.execute(\"INSERT INTO Jobs VALUES(1,1,'Scientist')\")\n",
    "    cur.execute(\"INSERT INTO Jobs VALUES(2,2,'Marketeer')\")\n",
    "    cur.execute(\"INSERT INTO Jobs VALUES(3,3,'Developer')\")"
   ]
  },
  {
   "cell_type": "code",
   "execution_count": 26,
   "metadata": {},
   "outputs": [
    {
     "name": "stdout",
     "output_type": "stream",
     "text": [
      "1|Michelle\n",
      "2|Howard\n",
      "3|Greg\n",
      "1|1|Scientist\n",
      "2|2|Marketeer\n",
      "3|3|Developer\n"
     ]
    }
   ],
   "source": [
    "%%bash\n",
    "sqlite3 system.db\n",
    "SELECT * FROM Users;\n",
    "SELECT * FROM Jobs"
   ]
  },
  {
   "cell_type": "code",
   "execution_count": 36,
   "metadata": {},
   "outputs": [
    {
     "name": "stdout",
     "output_type": "stream",
     "text": [
      "Michelle|Scientist\n",
      "Howard|Marketeer\n",
      "Greg|Developer\n"
     ]
    }
   ],
   "source": [
    "%%bash\n",
    "sqlite3 system.db \n",
    "SELECT users.name, jobs.profession FROM jobs LEFT JOIN users ON users.ID = jobs.uid\n"
   ]
  },
  {
   "cell_type": "markdown",
   "metadata": {},
   "source": [
    "### do it in python"
   ]
  },
  {
   "cell_type": "code",
   "execution_count": 31,
   "metadata": {},
   "outputs": [
    {
     "name": "stdout",
     "output_type": "stream",
     "text": [
      "('Michelle', 'Scientist')\n",
      "('Howard', 'Marketeer')\n",
      "('Greg', 'Developer')\n"
     ]
    }
   ],
   "source": [
    "import sqlite3 as lite\n",
    "import sys\n",
    " \n",
    " \n",
    "con = lite.connect('system.db')\n",
    " \n",
    "with con:    \n",
    " \n",
    "    cur = con.cursor()    \n",
    "    cur.execute(\"SELECT users.name, jobs.profession FROM jobs INNER JOIN users ON users.ID = jobs.uid\")\n",
    " \n",
    "    rows = cur.fetchall()\n",
    " \n",
    "    for row in rows:\n",
    "        print(row)"
   ]
  },
  {
   "cell_type": "markdown",
   "metadata": {},
   "source": [
    "# sqlalchemy"
   ]
  },
  {
   "cell_type": "code",
   "execution_count": 56,
   "metadata": {},
   "outputs": [],
   "source": [
    "from sqlalchemy import *\n",
    "from sqlalchemy import create_engine, ForeignKey\n",
    "from sqlalchemy import Column, Date, Integer, String\n",
    "from sqlalchemy.ext.declarative import declarative_base\n",
    "from sqlalchemy.orm import relationship, backref\n",
    " \n",
    "engine = create_engine('sqlite:///student.db', echo=False)\n",
    "Base = declarative_base()\n",
    " \n",
    "########################################################################\n",
    "class Student(Base):\n",
    "    \"\"\"\"\"\"\n",
    "    __tablename__ = \"student\"\n",
    " \n",
    "    id = Column(Integer, primary_key=True)\n",
    "    username = Column(String)\n",
    "    firstname = Column(String)\n",
    "    lastname = Column(String)\n",
    "    university = Column(String)\n",
    " \n",
    "    #----------------------------------------------------------------------\n",
    "    def __init__(self, username, firstname, lastname, university):\n",
    "        \"\"\"\"\"\"\n",
    "        self.username = username\n",
    "        self.firstname = firstname\n",
    "        self.lastname = lastname\n",
    "        self.university = university\n",
    "\n",
    "# create tables\n",
    "Base.metadata.create_all(engine)"
   ]
  },
  {
   "cell_type": "markdown",
   "metadata": {},
   "source": [
    "### add data to the empty sqlalchemy database created\n",
    "* now using python objects"
   ]
  },
  {
   "cell_type": "code",
   "execution_count": 57,
   "metadata": {},
   "outputs": [],
   "source": [
    "from sqlalchemy.orm import sessionmaker\n",
    " \n",
    "# create a Session\n",
    "Session = sessionmaker(bind=engine)\n",
    "session = Session()\n",
    " \n",
    "# Create objects  \n",
    "user = Student(\"james\",\"James\",\"Boogie\",\"MIT\")\n",
    "session.add(user)\n",
    " \n",
    "user = Student(\"lara\",\"Lara\",\"Miami\",\"UU\")\n",
    "session.add(user)\n",
    " \n",
    "user = Student(\"eric\",\"Eric\",\"York\",\"Stanford\")\n",
    "session.add(user)\n",
    " \n",
    "# commit the record the database\n",
    "session.commit()"
   ]
  },
  {
   "cell_type": "code",
   "execution_count": 58,
   "metadata": {},
   "outputs": [
    {
     "name": "stdout",
     "output_type": "stream",
     "text": [
      "1|james|James|Boogie|MIT\n",
      "2|lara|Lara|Miami|UU\n",
      "3|eric|Eric|York|Stanford\n"
     ]
    }
   ],
   "source": [
    "%%bash\n",
    "sqlite3 student.db\n",
    "SELECT * FROM student"
   ]
  },
  {
   "cell_type": "markdown",
   "metadata": {},
   "source": [
    "### query data"
   ]
  },
  {
   "cell_type": "code",
   "execution_count": 59,
   "metadata": {},
   "outputs": [
    {
     "name": "stdout",
     "output_type": "stream",
     "text": [
      "James Boogie\n",
      "Lara Miami\n",
      "Eric York\n"
     ]
    }
   ],
   "source": [
    "# Create objects  \n",
    "for student in session.query(Student).order_by(Student.id):\n",
    "    print(student.firstname, student.lastname)"
   ]
  },
  {
   "cell_type": "markdown",
   "metadata": {},
   "source": [
    "### query data with filter"
   ]
  },
  {
   "cell_type": "code",
   "execution_count": 60,
   "metadata": {},
   "outputs": [
    {
     "name": "stdout",
     "output_type": "stream",
     "text": [
      "Eric York\n"
     ]
    }
   ],
   "source": [
    "# Select objects  \n",
    "for student in session.query(Student).filter(Student.firstname == 'Eric'):\n",
    "    print(student.firstname, student.lastname)\n"
   ]
  },
  {
   "cell_type": "markdown",
   "metadata": {},
   "source": [
    "# Load sql database in pandas"
   ]
  },
  {
   "cell_type": "code",
   "execution_count": 61,
   "metadata": {},
   "outputs": [
    {
     "name": "stderr",
     "output_type": "stream",
     "text": [
      "/Users/scott/anaconda/lib/python3.6/importlib/_bootstrap.py:219: RuntimeWarning: numpy.dtype size changed, may indicate binary incompatibility. Expected 96, got 88\n",
      "  return f(*args, **kwds)\n",
      "/Users/scott/anaconda/lib/python3.6/importlib/_bootstrap.py:219: RuntimeWarning: numpy.dtype size changed, may indicate binary incompatibility. Expected 96, got 88\n",
      "  return f(*args, **kwds)\n"
     ]
    },
    {
     "data": {
      "text/html": [
       "<div>\n",
       "<style scoped>\n",
       "    .dataframe tbody tr th:only-of-type {\n",
       "        vertical-align: middle;\n",
       "    }\n",
       "\n",
       "    .dataframe tbody tr th {\n",
       "        vertical-align: top;\n",
       "    }\n",
       "\n",
       "    .dataframe thead th {\n",
       "        text-align: right;\n",
       "    }\n",
       "</style>\n",
       "<table border=\"1\" class=\"dataframe\">\n",
       "  <thead>\n",
       "    <tr style=\"text-align: right;\">\n",
       "      <th></th>\n",
       "      <th>Location</th>\n",
       "      <th>Burrito</th>\n",
       "      <th>Date</th>\n",
       "      <th>Cost</th>\n",
       "      <th>Hunger</th>\n",
       "      <th>Mass (g)</th>\n",
       "      <th>Density (g/mL)</th>\n",
       "      <th>Length</th>\n",
       "      <th>Circum</th>\n",
       "      <th>Volume</th>\n",
       "      <th>...</th>\n",
       "      <th>Fillings</th>\n",
       "      <th>Meat:filling</th>\n",
       "      <th>Uniformity</th>\n",
       "      <th>Salsa</th>\n",
       "      <th>Synergy</th>\n",
       "      <th>Wrap</th>\n",
       "      <th>overall</th>\n",
       "      <th>Rec</th>\n",
       "      <th>Reviewer</th>\n",
       "      <th>Notes</th>\n",
       "    </tr>\n",
       "    <tr>\n",
       "      <th>index</th>\n",
       "      <th></th>\n",
       "      <th></th>\n",
       "      <th></th>\n",
       "      <th></th>\n",
       "      <th></th>\n",
       "      <th></th>\n",
       "      <th></th>\n",
       "      <th></th>\n",
       "      <th></th>\n",
       "      <th></th>\n",
       "      <th></th>\n",
       "      <th></th>\n",
       "      <th></th>\n",
       "      <th></th>\n",
       "      <th></th>\n",
       "      <th></th>\n",
       "      <th></th>\n",
       "      <th></th>\n",
       "      <th></th>\n",
       "      <th></th>\n",
       "      <th></th>\n",
       "    </tr>\n",
       "  </thead>\n",
       "  <tbody>\n",
       "    <tr>\n",
       "      <th>0</th>\n",
       "      <td>donato's taco shop</td>\n",
       "      <td>california</td>\n",
       "      <td>1/18/2016</td>\n",
       "      <td>6.49</td>\n",
       "      <td>3.0</td>\n",
       "      <td>NaN</td>\n",
       "      <td>NaN</td>\n",
       "      <td>NaN</td>\n",
       "      <td>NaN</td>\n",
       "      <td>NaN</td>\n",
       "      <td>...</td>\n",
       "      <td>3.5</td>\n",
       "      <td>4.0</td>\n",
       "      <td>4.0</td>\n",
       "      <td>4.0</td>\n",
       "      <td>4.0</td>\n",
       "      <td>4.0</td>\n",
       "      <td>3.80</td>\n",
       "      <td>None</td>\n",
       "      <td>scott</td>\n",
       "      <td>good fries: 4/5</td>\n",
       "    </tr>\n",
       "    <tr>\n",
       "      <th>1</th>\n",
       "      <td>oscar's mexican food</td>\n",
       "      <td>california</td>\n",
       "      <td>1/24/2016</td>\n",
       "      <td>5.45</td>\n",
       "      <td>3.5</td>\n",
       "      <td>NaN</td>\n",
       "      <td>NaN</td>\n",
       "      <td>NaN</td>\n",
       "      <td>NaN</td>\n",
       "      <td>NaN</td>\n",
       "      <td>...</td>\n",
       "      <td>2.5</td>\n",
       "      <td>2.0</td>\n",
       "      <td>4.0</td>\n",
       "      <td>3.5</td>\n",
       "      <td>2.5</td>\n",
       "      <td>5.0</td>\n",
       "      <td>3.00</td>\n",
       "      <td>None</td>\n",
       "      <td>scott</td>\n",
       "      <td>Fries: 3/5; too little meat</td>\n",
       "    </tr>\n",
       "    <tr>\n",
       "      <th>2</th>\n",
       "      <td>oscar's mexican food</td>\n",
       "      <td>carnitas</td>\n",
       "      <td>1/24/2016</td>\n",
       "      <td>4.85</td>\n",
       "      <td>1.5</td>\n",
       "      <td>NaN</td>\n",
       "      <td>NaN</td>\n",
       "      <td>NaN</td>\n",
       "      <td>NaN</td>\n",
       "      <td>NaN</td>\n",
       "      <td>...</td>\n",
       "      <td>3.0</td>\n",
       "      <td>4.5</td>\n",
       "      <td>4.0</td>\n",
       "      <td>3.0</td>\n",
       "      <td>3.0</td>\n",
       "      <td>5.0</td>\n",
       "      <td>3.00</td>\n",
       "      <td>None</td>\n",
       "      <td>emily</td>\n",
       "      <td>None</td>\n",
       "    </tr>\n",
       "    <tr>\n",
       "      <th>3</th>\n",
       "      <td>oscar's mexican food</td>\n",
       "      <td>carne asada</td>\n",
       "      <td>1/24/2016</td>\n",
       "      <td>5.25</td>\n",
       "      <td>2.0</td>\n",
       "      <td>NaN</td>\n",
       "      <td>NaN</td>\n",
       "      <td>NaN</td>\n",
       "      <td>NaN</td>\n",
       "      <td>NaN</td>\n",
       "      <td>...</td>\n",
       "      <td>3.0</td>\n",
       "      <td>4.0</td>\n",
       "      <td>5.0</td>\n",
       "      <td>4.0</td>\n",
       "      <td>4.0</td>\n",
       "      <td>5.0</td>\n",
       "      <td>3.75</td>\n",
       "      <td>None</td>\n",
       "      <td>ricardo</td>\n",
       "      <td>Go to average burrito place like Rigoberto's i...</td>\n",
       "    </tr>\n",
       "    <tr>\n",
       "      <th>4</th>\n",
       "      <td>pollos maria</td>\n",
       "      <td>california</td>\n",
       "      <td>1/27/2016</td>\n",
       "      <td>6.59</td>\n",
       "      <td>4.0</td>\n",
       "      <td>NaN</td>\n",
       "      <td>NaN</td>\n",
       "      <td>NaN</td>\n",
       "      <td>NaN</td>\n",
       "      <td>NaN</td>\n",
       "      <td>...</td>\n",
       "      <td>3.5</td>\n",
       "      <td>4.5</td>\n",
       "      <td>5.0</td>\n",
       "      <td>2.5</td>\n",
       "      <td>4.5</td>\n",
       "      <td>4.0</td>\n",
       "      <td>4.20</td>\n",
       "      <td>None</td>\n",
       "      <td>scott</td>\n",
       "      <td>None</td>\n",
       "    </tr>\n",
       "  </tbody>\n",
       "</table>\n",
       "<p>5 rows × 23 columns</p>\n",
       "</div>"
      ],
      "text/plain": [
       "                   Location      Burrito       Date  Cost  Hunger  Mass (g)  \\\n",
       "index                                                                         \n",
       "0        donato's taco shop   california  1/18/2016  6.49     3.0       NaN   \n",
       "1      oscar's mexican food   california  1/24/2016  5.45     3.5       NaN   \n",
       "2      oscar's mexican food     carnitas  1/24/2016  4.85     1.5       NaN   \n",
       "3      oscar's mexican food  carne asada  1/24/2016  5.25     2.0       NaN   \n",
       "4              pollos maria   california  1/27/2016  6.59     4.0       NaN   \n",
       "\n",
       "       Density (g/mL)  Length  Circum  Volume  \\\n",
       "index                                           \n",
       "0                 NaN     NaN     NaN     NaN   \n",
       "1                 NaN     NaN     NaN     NaN   \n",
       "2                 NaN     NaN     NaN     NaN   \n",
       "3                 NaN     NaN     NaN     NaN   \n",
       "4                 NaN     NaN     NaN     NaN   \n",
       "\n",
       "                             ...                          Fillings  \\\n",
       "index                        ...                                     \n",
       "0                            ...                               3.5   \n",
       "1                            ...                               2.5   \n",
       "2                            ...                               3.0   \n",
       "3                            ...                               3.0   \n",
       "4                            ...                               3.5   \n",
       "\n",
       "       Meat:filling  Uniformity  Salsa  Synergy  Wrap  overall   Rec  \\\n",
       "index                                                                  \n",
       "0               4.0         4.0    4.0      4.0   4.0     3.80  None   \n",
       "1               2.0         4.0    3.5      2.5   5.0     3.00  None   \n",
       "2               4.5         4.0    3.0      3.0   5.0     3.00  None   \n",
       "3               4.0         5.0    4.0      4.0   5.0     3.75  None   \n",
       "4               4.5         5.0    2.5      4.5   4.0     4.20  None   \n",
       "\n",
       "       Reviewer                                              Notes  \n",
       "index                                                               \n",
       "0         scott                                    good fries: 4/5  \n",
       "1         scott                        Fries: 3/5; too little meat  \n",
       "2         emily                                               None  \n",
       "3       ricardo  Go to average burrito place like Rigoberto's i...  \n",
       "4         scott                                               None  \n",
       "\n",
       "[5 rows x 23 columns]"
      ]
     },
     "execution_count": 61,
     "metadata": {},
     "output_type": "execute_result"
    }
   ],
   "source": [
    "import pandas as pd\n",
    "from sqlalchemy import create_engine\n",
    "\n",
    "con = create_engine('sqlite:///burritos.db', echo=False)\n",
    "df = pd.read_sql('burritos', con).set_index('index')\n",
    "df.head()"
   ]
  },
  {
   "cell_type": "code",
   "execution_count": null,
   "metadata": {},
   "outputs": [],
   "source": []
  }
 ],
 "metadata": {
  "kernelspec": {
   "display_name": "Python 3",
   "language": "python",
   "name": "python3"
  },
  "language_info": {
   "codemirror_mode": {
    "name": "ipython",
    "version": 3
   },
   "file_extension": ".py",
   "mimetype": "text/x-python",
   "name": "python",
   "nbconvert_exporter": "python",
   "pygments_lexer": "ipython3",
   "version": "3.6.4"
  }
 },
 "nbformat": 4,
 "nbformat_minor": 2
}
