{
 "cells": [
  {
   "cell_type": "code",
   "execution_count": 1,
   "metadata": {
    "collapsed": true
   },
   "outputs": [],
   "source": [
    "from os.path import dirname, join\n",
    "\n",
    "import numpy as np\n",
    "import pandas.io.sql as psql\n",
    "import sqlite3 as sql\n",
    "\n",
    "from bokeh.plotting import figure\n",
    "from bokeh.layouts import layout, widgetbox\n",
    "from bokeh.models import ColumnDataSource, HoverTool, Div\n",
    "from bokeh.models.widgets import Slider, Select, TextInput\n",
    "from bokeh.io import curdoc\n",
    "from bokeh.sampledata.movies_data import movie_path"
   ]
  },
  {
   "cell_type": "code",
   "execution_count": 2,
   "metadata": {
    "collapsed": true
   },
   "outputs": [],
   "source": [
    "from bokeh.plotting import show\n",
    "from bokeh.plotting import output_file"
   ]
  },
  {
   "cell_type": "markdown",
   "metadata": {},
   "source": [
    "# Load movie data"
   ]
  },
  {
   "cell_type": "code",
   "execution_count": 3,
   "metadata": {},
   "outputs": [],
   "source": [
    "conn = sql.connect(movie_path)\n",
    "query = open('query.sql').read()\n",
    "movies = psql.read_sql(query, conn)"
   ]
  },
  {
   "cell_type": "markdown",
   "metadata": {},
   "source": [
    "### Format movie data"
   ]
  },
  {
   "cell_type": "code",
   "execution_count": 4,
   "metadata": {},
   "outputs": [],
   "source": [
    "movies[\"color\"] = np.where(movies[\"Oscars\"] > 0, \"orange\", \"grey\")\n",
    "movies[\"alpha\"] = np.where(movies[\"Oscars\"] > 0, 0.9, 0.25)\n",
    "movies.fillna(0, inplace=True)  # just replace missing values with zero\n",
    "movies[\"revenue\"] = movies.BoxOffice.apply(lambda x: '{:,d}'.format(int(x)))\n",
    "\n",
    "with open(\"razzies-clean.csv\") as f:\n",
    "    razzies = f.read().splitlines()\n",
    "movies.loc[movies.imdbID.isin(razzies), \"color\"] = \"purple\"\n",
    "movies.loc[movies.imdbID.isin(razzies), \"alpha\"] = 0.9"
   ]
  },
  {
   "cell_type": "code",
   "execution_count": 5,
   "metadata": {},
   "outputs": [
    {
     "name": "stderr",
     "output_type": "stream",
     "text": [
      "W-1004 (BOTH_CHILD_AND_ROOT): Models should not be a document root if they are in a layout box: Figure(id='13e554d6-e398-403c-ad95-b3f3bb879994', ...)\n"
     ]
    }
   ],
   "source": [
    "axis_map = {\n",
    "    \"Tomato Meter\": \"Meter\",\n",
    "    \"Numeric Rating\": \"numericRating\",\n",
    "    \"Number of Reviews\": \"Reviews\",\n",
    "    \"Box Office (dollars)\": \"BoxOffice\",\n",
    "    \"Length (minutes)\": \"Runtime\",\n",
    "    \"Year\": \"Year\",\n",
    "}\n",
    "\n",
    "desc = Div(text=open(\"description.html\").read(), width=800)\n",
    "\n",
    "# Create Input controls\n",
    "reviews = Slider(title=\"Minimum number of reviews\", value=80, start=10, end=300, step=10)\n",
    "min_year = Slider(title=\"Year released\", start=1940, end=2014, value=1970, step=1)\n",
    "max_year = Slider(title=\"End Year released\", start=1940, end=2014, value=2014, step=1)\n",
    "oscars = Slider(title=\"Minimum number of Oscar wins\", start=0, end=4, value=0, step=1)\n",
    "boxoffice = Slider(title=\"Dollars at Box Office (millions)\", start=0, end=800, value=0, step=1)\n",
    "genre = Select(title=\"Genre\", value=\"All\",\n",
    "               options=open('genres.txt').read().split())\n",
    "director = TextInput(title=\"Director name contains\")\n",
    "cast = TextInput(title=\"Cast names contains\")\n",
    "x_axis = Select(title=\"X Axis\", options=sorted(axis_map.keys()), value=\"Tomato Meter\")\n",
    "y_axis = Select(title=\"Y Axis\", options=sorted(axis_map.keys()), value=\"Number of Reviews\")\n",
    "\n",
    "# Create Column Data Source that will be used by the plot\n",
    "source = ColumnDataSource(data=dict(x=[], y=[], color=[], title=[], year=[], revenue=[], alpha=[]))\n",
    "\n",
    "hover = HoverTool(tooltips=[\n",
    "    (\"Title\", \"@title\"),\n",
    "    (\"Year\", \"@year\"),\n",
    "    (\"$\", \"@revenue\")\n",
    "])\n",
    "\n",
    "p = figure(plot_height=600, plot_width=700, title=\"\", toolbar_location=None, tools=[hover])\n",
    "p.circle(x=\"x\", y=\"y\", source=source, size=7, color=\"color\", line_color=None, fill_alpha=\"alpha\")\n",
    "\n",
    "\n",
    "def select_movies():\n",
    "    genre_val = genre.value\n",
    "    director_val = director.value.strip()\n",
    "    cast_val = cast.value.strip()\n",
    "    selected = movies[\n",
    "        (movies.Reviews >= reviews.value) &\n",
    "        (movies.BoxOffice >= (boxoffice.value * 1e6)) &\n",
    "        (movies.Year >= min_year.value) &\n",
    "        (movies.Year <= max_year.value) &\n",
    "        (movies.Oscars >= oscars.value)\n",
    "    ]\n",
    "    if (genre_val != \"All\"):\n",
    "        selected = selected[selected.Genre.str.contains(genre_val)==True]\n",
    "    if (director_val != \"\"):\n",
    "        selected = selected[selected.Director.str.contains(director_val)==True]\n",
    "    if (cast_val != \"\"):\n",
    "        selected = selected[selected.Cast.str.contains(cast_val)==True]\n",
    "    return selected\n",
    "\n",
    "\n",
    "def update():\n",
    "    df = select_movies()\n",
    "    x_name = axis_map[x_axis.value]\n",
    "    y_name = axis_map[y_axis.value]\n",
    "\n",
    "    p.xaxis.axis_label = x_axis.value\n",
    "    p.yaxis.axis_label = y_axis.value\n",
    "    p.title.text = \"%d movies selected\" % len(df)\n",
    "    source.data = dict(\n",
    "        x=df[x_name],\n",
    "        y=df[y_name],\n",
    "        color=df[\"color\"],\n",
    "        title=df[\"Title\"],\n",
    "        year=df[\"Year\"],\n",
    "        revenue=df[\"revenue\"],\n",
    "        alpha=df[\"alpha\"],\n",
    "    )\n",
    "\n",
    "controls = [reviews, boxoffice, genre, min_year, max_year, oscars, director, cast, x_axis, y_axis]\n",
    "for control in controls:\n",
    "    control.on_change('value', lambda attr, old, new: update())\n",
    "\n",
    "sizing_mode = 'fixed'  # 'scale_width' also looks nice with this example\n",
    "\n",
    "inputs = widgetbox(*controls, sizing_mode=sizing_mode)\n",
    "l = layout([\n",
    "    [desc],\n",
    "    [inputs, p],\n",
    "], sizing_mode=sizing_mode)\n",
    "\n",
    "update()  # initial load of the data\n",
    "\n",
    "output_file(\"moviestemp.html\")\n",
    "\n",
    "curdoc().add_root(l)\n",
    "curdoc().title = \"Movies\"\n",
    "show(p)"
   ]
  },
  {
   "cell_type": "code",
   "execution_count": null,
   "metadata": {
    "collapsed": true
   },
   "outputs": [],
   "source": []
  }
 ],
 "metadata": {
  "kernelspec": {
   "display_name": "Python 3",
   "language": "python",
   "name": "python3"
  },
  "language_info": {
   "codemirror_mode": {
    "name": "ipython",
    "version": 3
   },
   "file_extension": ".py",
   "mimetype": "text/x-python",
   "name": "python",
   "nbconvert_exporter": "python",
   "pygments_lexer": "ipython3",
   "version": "3.6.0"
  }
 },
 "nbformat": 4,
 "nbformat_minor": 2
}
