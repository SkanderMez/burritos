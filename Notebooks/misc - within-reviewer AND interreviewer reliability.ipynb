{
 "cells": [
  {
   "cell_type": "markdown",
   "metadata": {},
   "source": [
    "# Miscellaneous analyses in development\n",
    "\n",
    "1. Variance in different features.\n",
    "2. Consistency in burrito features.\n",
    "3. Inter-reviewer reliability\n",
    "\n",
    "\n",
    "Notes\n",
    "* Considered repeated-measures anova, but best is dev statsmodels version. And only says whether there is significant variation over all categories, not which categories are most important. So I think I should use resampling.\n",
    "* The method for determining pairs for inter-reviewer reliability could be improved to maximize the number of pairs"
   ]
  },
  {
   "cell_type": "code",
   "execution_count": 1,
   "metadata": {},
   "outputs": [],
   "source": [
    "%config InlineBackend.figure_format = 'retina'\n",
    "%matplotlib inline\n",
    "\n",
    "import numpy as np\n",
    "import scipy as sp\n",
    "from scipy import stats\n",
    "import matplotlib.pyplot as plt\n",
    "import pandas as pd\n",
    "import math\n",
    "from collections import defaultdict"
   ]
  },
  {
   "cell_type": "code",
   "execution_count": 2,
   "metadata": {
    "collapsed": true
   },
   "outputs": [],
   "source": [
    "import sys\n",
    "import os.path\n",
    "sys.path.append(os.path.abspath(os.path.dirname(os.getcwd())))\n",
    "\n",
    "import util"
   ]
  },
  {
   "cell_type": "markdown",
   "metadata": {},
   "source": [
    "### Load data"
   ]
  },
  {
   "cell_type": "code",
   "execution_count": 3,
   "metadata": {},
   "outputs": [
    {
     "data": {
      "text/html": [
       "<div>\n",
       "<style>\n",
       "    .dataframe thead tr:only-child th {\n",
       "        text-align: right;\n",
       "    }\n",
       "\n",
       "    .dataframe thead th {\n",
       "        text-align: left;\n",
       "    }\n",
       "\n",
       "    .dataframe tbody tr th {\n",
       "        vertical-align: top;\n",
       "    }\n",
       "</style>\n",
       "<table border=\"1\" class=\"dataframe\">\n",
       "  <thead>\n",
       "    <tr style=\"text-align: right;\">\n",
       "      <th></th>\n",
       "      <th>Location</th>\n",
       "      <th>Burrito</th>\n",
       "      <th>Date</th>\n",
       "      <th>Cost</th>\n",
       "      <th>Hunger</th>\n",
       "      <th>Mass (g)</th>\n",
       "      <th>Density (g/mL)</th>\n",
       "      <th>Length</th>\n",
       "      <th>Circum</th>\n",
       "      <th>Volume</th>\n",
       "      <th>...</th>\n",
       "      <th>Fillings</th>\n",
       "      <th>Meat:filling</th>\n",
       "      <th>Uniformity</th>\n",
       "      <th>Salsa</th>\n",
       "      <th>Synergy</th>\n",
       "      <th>Wrap</th>\n",
       "      <th>overall</th>\n",
       "      <th>Rec</th>\n",
       "      <th>Reviewer</th>\n",
       "      <th>Notes</th>\n",
       "    </tr>\n",
       "  </thead>\n",
       "  <tbody>\n",
       "    <tr>\n",
       "      <th>328</th>\n",
       "      <td>caliente mexican food</td>\n",
       "      <td>california</td>\n",
       "      <td>7/6/2017</td>\n",
       "      <td>6.47</td>\n",
       "      <td>4.0</td>\n",
       "      <td>NaN</td>\n",
       "      <td>NaN</td>\n",
       "      <td>23.0</td>\n",
       "      <td>22.0</td>\n",
       "      <td>0.89</td>\n",
       "      <td>...</td>\n",
       "      <td>2.0</td>\n",
       "      <td>3.0</td>\n",
       "      <td>3.0</td>\n",
       "      <td>1.0</td>\n",
       "      <td>2.0</td>\n",
       "      <td>3.0</td>\n",
       "      <td>2.0</td>\n",
       "      <td>NaN</td>\n",
       "      <td>erik k</td>\n",
       "      <td>NaN</td>\n",
       "    </tr>\n",
       "    <tr>\n",
       "      <th>329</th>\n",
       "      <td>taco villa</td>\n",
       "      <td>carne asada</td>\n",
       "      <td>7/12/2017</td>\n",
       "      <td>6.99</td>\n",
       "      <td>3.0</td>\n",
       "      <td>NaN</td>\n",
       "      <td>NaN</td>\n",
       "      <td>NaN</td>\n",
       "      <td>NaN</td>\n",
       "      <td>NaN</td>\n",
       "      <td>...</td>\n",
       "      <td>3.0</td>\n",
       "      <td>2.5</td>\n",
       "      <td>4.0</td>\n",
       "      <td>2.0</td>\n",
       "      <td>2.0</td>\n",
       "      <td>4.0</td>\n",
       "      <td>2.0</td>\n",
       "      <td>NaN</td>\n",
       "      <td>richard</td>\n",
       "      <td>NaN</td>\n",
       "    </tr>\n",
       "    <tr>\n",
       "      <th>330</th>\n",
       "      <td>taco villa</td>\n",
       "      <td>california</td>\n",
       "      <td>7/19/2017</td>\n",
       "      <td>6.99</td>\n",
       "      <td>4.0</td>\n",
       "      <td>NaN</td>\n",
       "      <td>NaN</td>\n",
       "      <td>20.5</td>\n",
       "      <td>21.5</td>\n",
       "      <td>0.75</td>\n",
       "      <td>...</td>\n",
       "      <td>3.5</td>\n",
       "      <td>3.5</td>\n",
       "      <td>3.5</td>\n",
       "      <td>3.5</td>\n",
       "      <td>3.5</td>\n",
       "      <td>5.0</td>\n",
       "      <td>3.7</td>\n",
       "      <td>NaN</td>\n",
       "      <td>scott</td>\n",
       "      <td>NaN</td>\n",
       "    </tr>\n",
       "    <tr>\n",
       "      <th>331</th>\n",
       "      <td>los tacos 2</td>\n",
       "      <td>local</td>\n",
       "      <td>7/22/2017</td>\n",
       "      <td>8.50</td>\n",
       "      <td>3.8</td>\n",
       "      <td>NaN</td>\n",
       "      <td>NaN</td>\n",
       "      <td>23.0</td>\n",
       "      <td>22.0</td>\n",
       "      <td>0.89</td>\n",
       "      <td>...</td>\n",
       "      <td>4.0</td>\n",
       "      <td>3.0</td>\n",
       "      <td>2.5</td>\n",
       "      <td>3.5</td>\n",
       "      <td>3.5</td>\n",
       "      <td>3.0</td>\n",
       "      <td>4.0</td>\n",
       "      <td>NaN</td>\n",
       "      <td>scott</td>\n",
       "      <td>NaN</td>\n",
       "    </tr>\n",
       "    <tr>\n",
       "      <th>332</th>\n",
       "      <td>los tacos 2</td>\n",
       "      <td>local</td>\n",
       "      <td>7/22/2017</td>\n",
       "      <td>8.50</td>\n",
       "      <td>4.0</td>\n",
       "      <td>NaN</td>\n",
       "      <td>NaN</td>\n",
       "      <td>22.0</td>\n",
       "      <td>21.0</td>\n",
       "      <td>0.77</td>\n",
       "      <td>...</td>\n",
       "      <td>4.0</td>\n",
       "      <td>3.5</td>\n",
       "      <td>3.5</td>\n",
       "      <td>4.0</td>\n",
       "      <td>5.0</td>\n",
       "      <td>3.5</td>\n",
       "      <td>4.0</td>\n",
       "      <td>NaN</td>\n",
       "      <td>emily</td>\n",
       "      <td>NaN</td>\n",
       "    </tr>\n",
       "  </tbody>\n",
       "</table>\n",
       "<p>5 rows × 23 columns</p>\n",
       "</div>"
      ],
      "text/plain": [
       "                  Location      Burrito       Date  Cost  Hunger  Mass (g)  \\\n",
       "328  caliente mexican food   california   7/6/2017  6.47     4.0       NaN   \n",
       "329             taco villa  carne asada  7/12/2017  6.99     3.0       NaN   \n",
       "330             taco villa   california  7/19/2017  6.99     4.0       NaN   \n",
       "331            los tacos 2        local  7/22/2017  8.50     3.8       NaN   \n",
       "332            los tacos 2        local  7/22/2017  8.50     4.0       NaN   \n",
       "\n",
       "     Density (g/mL)  Length  Circum  Volume  ...    Fillings  Meat:filling  \\\n",
       "328             NaN    23.0    22.0    0.89  ...         2.0           3.0   \n",
       "329             NaN     NaN     NaN     NaN  ...         3.0           2.5   \n",
       "330             NaN    20.5    21.5    0.75  ...         3.5           3.5   \n",
       "331             NaN    23.0    22.0    0.89  ...         4.0           3.0   \n",
       "332             NaN    22.0    21.0    0.77  ...         4.0           3.5   \n",
       "\n",
       "     Uniformity  Salsa  Synergy  Wrap  overall  Rec  Reviewer  Notes  \n",
       "328         3.0    1.0      2.0   3.0      2.0  NaN    erik k    NaN  \n",
       "329         4.0    2.0      2.0   4.0      2.0  NaN   richard    NaN  \n",
       "330         3.5    3.5      3.5   5.0      3.7  NaN     scott    NaN  \n",
       "331         2.5    3.5      3.5   3.0      4.0  NaN     scott    NaN  \n",
       "332         3.5    4.0      5.0   3.5      4.0  NaN     emily    NaN  \n",
       "\n",
       "[5 rows x 23 columns]"
      ]
     },
     "execution_count": 3,
     "metadata": {},
     "output_type": "execute_result"
    }
   ],
   "source": [
    "df, df_shops, df_ingredients = util.load_burritos()\n",
    "df.tail()"
   ]
  },
  {
   "cell_type": "markdown",
   "metadata": {},
   "source": [
    "# 1. Variance within each burrito feature\n",
    "Notice that the ingredient-based features are less variable than the preparation-based features"
   ]
  },
  {
   "cell_type": "code",
   "execution_count": 4,
   "metadata": {},
   "outputs": [
    {
     "name": "stdout",
     "output_type": "stream",
     "text": [
      "Var    Feature\n",
      "0.52  overall\n",
      "0.60  Fillings\n",
      "0.60  Tortilla\n",
      "0.65  Meat\n",
      "0.76  Synergy\n",
      "0.82  Salsa\n",
      "0.94  Meat:filling\n",
      "0.95  Temp\n",
      "1.12  Wrap\n",
      "1.14  Uniformity\n"
     ]
    }
   ],
   "source": [
    "# Define features of interest\n",
    "foi = ['Tortilla', 'Temp', 'Meat', 'Fillings', 'Meat:filling', 'Uniformity',\n",
    "       'Salsa', 'Synergy', 'Wrap', 'overall']\n",
    "df_feat = df[foi]\n",
    "\n",
    "var_by_feat = df_feat.var()\n",
    "\n",
    "# Print average difference in order\n",
    "diff_sort_idx = np.argsort(var_by_feat.values)\n",
    "print('Var    Feature')\n",
    "for feat in var_by_feat.keys()[diff_sort_idx]:\n",
    "    print('{:.2f} '.format(var_by_feat[feat]), feat)"
   ]
  },
  {
   "cell_type": "markdown",
   "metadata": {},
   "source": [
    "# 2. How consistent are burrito features?\n",
    "### 2a. For each pair of burritos, compute the difference in each metric across trials"
   ]
  },
  {
   "cell_type": "code",
   "execution_count": 5,
   "metadata": {},
   "outputs": [
    {
     "name": "stdout",
     "output_type": "stream",
     "text": [
      "Diff   Feature\n",
      "----   -------\n",
      "0.34   Meat\n",
      "0.44   overall\n",
      "0.46   Tortilla\n",
      "0.50   Synergy\n",
      "0.62   Fillings\n",
      "0.67   Meat:filling\n",
      "0.69   Wrap\n",
      "0.83   Salsa\n",
      "0.94   Temp\n",
      "1.22   Uniformity\n"
     ]
    }
   ],
   "source": [
    "# Remove rows from dataframe that don't have values in necessary features\n",
    "cols_keep = np.append(foi, ['Location', 'Burrito', 'Reviewer'])\n",
    "df2 = df[cols_keep].dropna(axis=0).reset_index(drop=True)\n",
    "\n",
    "# Determine groups of ratings of the same burrito at the same restaurant by the same person\n",
    "brr_groups_all = df2.groupby(['Location', 'Burrito', 'Reviewer']).groups\n",
    "brr_groups = {}\n",
    "for k in list(brr_groups_all.keys()):\n",
    "    if len(brr_groups_all[k])>1:\n",
    "        brr_groups[k] = brr_groups_all[k]\n",
    "        \n",
    "# Limit the dataframe to the measures we want to analyze\n",
    "df_feat = df2[foi]\n",
    "\n",
    "# Compute difference in features for first 2 observations for each group\n",
    "df_feat_diffs = pd.DataFrame()\n",
    "for k in brr_groups.keys():\n",
    "    feature_diffs = np.abs(df_feat.loc[brr_groups[k][1]] - df_feat.loc[brr_groups[k][0]])\n",
    "    df_feat_diffs = df_feat_diffs.append(feature_diffs, ignore_index=True)\n",
    "    \n",
    "# Compute average difference in each category\n",
    "meandiff_by_feat = df_feat_diffs.mean()\n",
    "\n",
    "# Print average difference in order\n",
    "diff_sort_idx = np.argsort(meandiff_by_feat.values)\n",
    "print('Diff   Feature\\n----   -------')\n",
    "for feat in meandiff_by_feat.keys()[diff_sort_idx]:\n",
    "    print('{:.2f}  '.format(meandiff_by_feat[feat]), feat)"
   ]
  },
  {
   "cell_type": "markdown",
   "metadata": {},
   "source": [
    "### 2b. Compute null distribution of differences between 2 random burritos"
   ]
  },
  {
   "cell_type": "code",
   "execution_count": 9,
   "metadata": {},
   "outputs": [],
   "source": [
    "np.random.seed(0)\n",
    "N_sim = 1000 # Number of simulated burrito pairings\n",
    "\n",
    "# Choose a random reviewer for each simulation\n",
    "reviewers_by_repeated = [k[2] for k in brr_groups.keys()]\n",
    "unique_reviewers = np.unique(reviewers_by_repeated)\n",
    "sim_rating1_options = np.hstack([x[:2] for x in brr_groups.values()])\n",
    "sim_rating1 = np.random.choice(sim_rating1_options, N_sim)\n",
    "\n",
    "# For each reviewer, compute their dataframe\n",
    "feat_keep = np.append(foi, 'Location')\n",
    "df_by_reviewer = {}\n",
    "for r in unique_reviewers:\n",
    "    # Get data from 1 reviewer\n",
    "    df_temp = df[df['Reviewer']==r]\n",
    "    # Only look at columns of interest\n",
    "    df_temp = df_temp[feat_keep]\n",
    "    # Remove rows with NaN\n",
    "    df_temp.dropna(axis=0, inplace=True)\n",
    "    # Save reviewer dataframe\n",
    "    df_by_reviewer[r] = df_temp.reset_index(drop=True)\n",
    "    \n",
    "# Compute feature differences for random burritos\n",
    "feat_diffs_null = defaultdict(list)\n",
    "for i in range(N_sim):\n",
    "    # Determine reviewer\n",
    "    idx_rating1 = sim_rating1[i]\n",
    "    r = df2.loc[idx_rating1]['Reviewer']\n",
    "    rest1 = df2.loc[idx_rating1]['Location']\n",
    "    feats1 = df2.loc[idx_rating1].drop(['Location','Burrito','Reviewer'])\n",
    "    \n",
    "    # Choose 2 valid random burritos from that reviewer\n",
    "    got_2 = False\n",
    "    while not got_2:\n",
    "        # Choose another random burritos\n",
    "        idx_rating2 = np.random.randint(len(df_by_reviewer[r]))\n",
    "        \n",
    "        # Check if burritos are not from same restaurant\n",
    "        rest2 = df_by_reviewer[r].loc[idx_rating2].Location\n",
    "        if rest1 != rest2:\n",
    "            got_2 = True\n",
    "            feats2 = df_by_reviewer[r].loc[idx_rating2].drop('Location')\n",
    "            \n",
    "    # Compute differences for each feature\n",
    "    for k in feats1.keys():\n",
    "        feat_diffs_null[k].append(np.abs(feats1[k] - feats2[k]))"
   ]
  },
  {
   "cell_type": "markdown",
   "metadata": {},
   "source": [
    "### 2c. Distributions of feature differences: True and null"
   ]
  },
  {
   "cell_type": "code",
   "execution_count": 10,
   "metadata": {},
   "outputs": [
    {
     "name": "stdout",
     "output_type": "stream",
     "text": [
      "Feature     p-value\n",
      "-------     -------\n",
      "Fillings      0.246  \n",
      "Meat          0.001  \n",
      "Meat:filling  0.033  \n",
      "Salsa         0.269  \n",
      "Synergy       0.012  \n",
      "Temp          0.133  \n",
      "Tortilla      0.023  \n",
      "Uniformity    0.091  \n",
      "Wrap          0.048  \n",
      "overall       0.032  \n"
     ]
    },
    {
     "data": {
      "image/png": "[encoded data removed]",
      "text/plain": [
       "<matplotlib.figure.Figure at 0x10e1fa198>"
      ]
     },
     "metadata": {
      "image/png": {
       "height": 567,
       "width": 855
      }
     },
     "output_type": "display_data"
    }
   ],
   "source": [
    "print('Feature     p-value\\n-------     -------')\n",
    "    \n",
    "plt.figure(figsize=(12,8))\n",
    "for i, k in enumerate(df_feat_diffs.keys()):\n",
    "    plt.subplot(2,5,i+1)\n",
    "    plt.hist(df_feat_diffs[k].values,np.arange(-.25,4,.5), color='k', normed=True, alpha=.5, label='same')\n",
    "    plt.hist(feat_diffs_null[k],np.arange(-.25,4,.5), color='r', normed=True, alpha=.5, label='different')\n",
    "    plt.title(k)\n",
    "    plt.xticks(np.arange(0,5,1))\n",
    "    if i == 0:\n",
    "        plt.xlabel('Rating difference')\n",
    "        plt.ylabel('Normalized count')\n",
    "        plt.legend(loc='best', title='burritos')\n",
    "    else:\n",
    "        plt.yticks([])\n",
    "    plt.tight_layout()\n",
    "    \n",
    "# Print stats\n",
    "diff_sort_idx = np.argsort(meandiff_by_feat.values)\n",
    "for k in df_feat_diffs.keys():\n",
    "    t, p = sp.stats.mannwhitneyu(df_feat_diffs[k].values,feat_diffs_null[k])\n",
    "    print('{: <14}{:.3f}  '.format(k, p))"
   ]
  },
  {
   "cell_type": "markdown",
   "metadata": {},
   "source": [
    "# 3. Inter-reviewer reliability\n",
    "### 3a. Determine inter-reviewer pairs"
   ]
  },
  {
   "cell_type": "code",
   "execution_count": 11,
   "metadata": {
    "scrolled": false
   },
   "outputs": [],
   "source": [
    "# Determine which burritos have been eaten at least twice\n",
    "cols_keep = np.append(foi, ['Location', 'Burrito', 'Reviewer', 'Date'])\n",
    "df2 = df[cols_keep].dropna(axis=0).reset_index(drop=True)\n",
    "burrito_groups = df2.groupby(['Location', 'Burrito']).groups\n",
    "\n",
    "# For each burrito group, make pairs of ratings\n",
    "burrito_pairs_idxs = []\n",
    "for k, idxs in burrito_groups.items():\n",
    "\n",
    "    # Only consider burrito groups with more than 1 rating\n",
    "    if len(idxs) >= 2:\n",
    "        \n",
    "        # Only consider burrito groups with more than 1 distinct reviewer and date\n",
    "        reviewer_array = df2.loc[idxs]['Reviewer'].values\n",
    "        date_array = df2.loc[idxs]['Date'].values\n",
    "        if len(np.unique(reviewer_array)) > 1 and len(np.unique(date_array)) > 1:\n",
    "            \n",
    "            # Make new pairs as long as possible\n",
    "            pairing_reviewers = np.copy(reviewer_array)\n",
    "            pairing_dates = np.copy(date_array)\n",
    "            pairing_idxs = np.copy(idxs)\n",
    "            can_make_pair = True\n",
    "            while can_make_pair:\n",
    "                \n",
    "                # Cannot make pair if less than 2 unique dates, \n",
    "                if len(np.unique(pairing_reviewers)) < 2 and len(np.unique(pairing_dates)) < 2:\n",
    "                    can_make_pair = False\n",
    "\n",
    "                else:\n",
    "                    # Choose 1 random rating\n",
    "                    rating1_i = pairing_idxs[0]\n",
    "                    rating1_rev = pairing_reviewers[0]\n",
    "                    rating1_date = pairing_dates[0]\n",
    "                    \n",
    "                    # Choose a rating that can go with this one\n",
    "                    for i in range(1,len(pairing_idxs)):\n",
    "                        rating2_i = pairing_idxs[i]\n",
    "                        rating2_rev = pairing_reviewers[i]\n",
    "                        rating2_date = pairing_dates[i]\n",
    "                        if (rating1_rev != rating2_rev) and (rating1_date != rating2_date):\n",
    "                            burrito_pairs_idxs.append([rating1_i, rating2_i])\n",
    "                            \n",
    "                            # remove those indices\n",
    "                            pairing_reviewers = np.delete(pairing_reviewers, [0, i])\n",
    "                            pairing_dates = np.delete(pairing_dates, [0, i])\n",
    "                            pairing_idxs = np.delete(pairing_idxs, [0, i])\n",
    "                            break\n",
    "\n",
    "                        # Delete the first index if no pairings worked\n",
    "                        if i == len(pairing_idxs)-1:\n",
    "                            pairing_reviewers = np.delete(pairing_reviewers, 0)\n",
    "                            pairing_dates = np.delete(pairing_dates, 0)\n",
    "                            pairing_idxs = np.delete(pairing_idxs, 0)\n",
    "                            "
   ]
  },
  {
   "cell_type": "markdown",
   "metadata": {},
   "source": [
    "### 3b. Compute the difference in feature values for review pairs"
   ]
  },
  {
   "cell_type": "code",
   "execution_count": 14,
   "metadata": {},
   "outputs": [
    {
     "name": "stdout",
     "output_type": "stream",
     "text": [
      "Diff   Feature\n",
      "----   -------\n",
      "0.47   overall\n",
      "0.56   Meat\n",
      "0.58   Fillings\n",
      "0.64   Synergy\n",
      "0.66   Tortilla\n",
      "0.81   Meat:filling\n",
      "0.85   Salsa\n",
      "0.86   Wrap\n",
      "0.98   Temp\n",
      "1.23   Uniformity\n"
     ]
    }
   ],
   "source": [
    "N_pairs = len(burrito_pairs_idxs)\n",
    "\n",
    "df_feat_diffs = pd.DataFrame()\n",
    "for i in range(N_pairs):\n",
    "    feature_diffs = np.abs(df_feat.loc[burrito_pairs_idxs[i][0]] - df_feat.loc[burrito_pairs_idxs[i][1]])\n",
    "    df_feat_diffs = df_feat_diffs.append(feature_diffs, ignore_index=True)\n",
    "    \n",
    "# Compute average difference in each category\n",
    "meandiff_by_feat = df_feat_diffs.mean()\n",
    "\n",
    "# Print average difference in order\n",
    "diff_sort_idx = np.argsort(meandiff_by_feat.values)\n",
    "print('Diff   Feature\\n----   -------')\n",
    "for feat in meandiff_by_feat.keys()[diff_sort_idx]:\n",
    "    print('{:.2f}  '.format(meandiff_by_feat[feat]), feat)"
   ]
  },
  {
   "cell_type": "markdown",
   "metadata": {},
   "source": [
    "### 3c. Compute null distribution of differences between burritos"
   ]
  },
  {
   "cell_type": "code",
   "execution_count": 17,
   "metadata": {},
   "outputs": [],
   "source": [
    "np.random.seed(0)\n",
    "N_sim = 1000 # Number of simulated burrito pairings\n",
    "\n",
    "# Choose a random reviewer for each simulation\n",
    "sim_rating1_options = np.hstack(burrito_pairs_idxs)\n",
    "sim_rating1 = np.random.choice(sim_rating1_options, N_sim)\n",
    "    \n",
    "# Compute feature differences for random burritos\n",
    "feat_diffs_null = defaultdict(list)\n",
    "for i in range(N_sim):\n",
    "    # Determine reviewer\n",
    "    idx_rating1 = sim_rating1[i]\n",
    "    rev1 = df2.loc[idx_rating1]['Reviewer']\n",
    "    rest1 = df2.loc[idx_rating1]['Location']\n",
    "    feats1 = df2.loc[idx_rating1].drop(['Location','Burrito','Reviewer','Date'])\n",
    "    \n",
    "    # Choose 2 valid random burritos from that reviewer\n",
    "    got_2 = False\n",
    "    while not got_2:\n",
    "        # Choose another random burritos\n",
    "        idx_rating2 = np.random.randint(len(df2))\n",
    "        \n",
    "        # Check if burritos are not from same restaurant\n",
    "        rest2 = df2.loc[idx_rating2].Location\n",
    "        rev2 = df2.loc[idx_rating2].Reviewer\n",
    "        if (rest1 != rest2) and (rev1 != rev2):\n",
    "            got_2 = True\n",
    "            feats2 = df2.loc[idx_rating2].drop(['Location','Burrito','Reviewer','Date'])\n",
    "            \n",
    "    # Compute differences for each feature\n",
    "    for k in feats1.keys():\n",
    "        feat_diffs_null[k].append(np.abs(feats1[k] - feats2[k]))"
   ]
  },
  {
   "cell_type": "markdown",
   "metadata": {},
   "source": [
    "### 3d. Distribution of feature differences: True and null"
   ]
  },
  {
   "cell_type": "code",
   "execution_count": 18,
   "metadata": {},
   "outputs": [
    {
     "name": "stdout",
     "output_type": "stream",
     "text": [
      "Feature     p-value\n",
      "-------     -------\n",
      "Fillings      0.057  \n",
      "Meat          0.004  \n",
      "Meat:filling  0.034  \n",
      "Salsa         0.143  \n",
      "Synergy       0.038  \n",
      "Temp          0.370  \n",
      "Tortilla      0.268  \n",
      "Uniformity    0.457  \n",
      "Wrap          0.204  \n",
      "overall       0.010  \n"
     ]
    },
    {
     "data": {
      "image/png": "[encoded data removed]",
      "text/plain": [
       "<matplotlib.figure.Figure at 0x10e288160>"
      ]
     },
     "metadata": {
      "image/png": {
       "height": 567,
       "width": 855
      }
     },
     "output_type": "display_data"
    }
   ],
   "source": [
    "print('Feature     p-value\\n-------     -------')\n",
    "    \n",
    "plt.figure(figsize=(12,8))\n",
    "for i, k in enumerate(df_feat_diffs.keys()):\n",
    "    plt.subplot(2,5,i+1)\n",
    "    plt.hist(df_feat_diffs[k].values,np.arange(-.25,4,.5), color='k', normed=True, alpha=.5, label='same')\n",
    "    plt.hist(feat_diffs_null[k],np.arange(-.25,4,.5), color='r', normed=True, alpha=.5, label='different')\n",
    "    plt.title(k)\n",
    "    plt.xticks(np.arange(0,5,1))\n",
    "    if i == 0:\n",
    "        plt.xlabel('Rating difference')\n",
    "        plt.ylabel('Normalized count')\n",
    "        plt.legend(loc='best', title='burritos')\n",
    "    else:\n",
    "        plt.yticks([])\n",
    "    plt.tight_layout()\n",
    "    \n",
    "# Print stats\n",
    "diff_sort_idx = np.argsort(meandiff_by_feat.values)\n",
    "for k in df_feat_diffs.keys():\n",
    "    t, p = sp.stats.mannwhitneyu(df_feat_diffs[k].values,feat_diffs_null[k])\n",
    "    print('{: <14}{:.3f}  '.format(k, p))"
   ]
  }
 ],
 "metadata": {
  "kernelspec": {
   "display_name": "Python 3",
   "language": "python",
   "name": "python3"
  },
  "language_info": {
   "codemirror_mode": {
    "name": "ipython",
    "version": 3
   },
   "file_extension": ".py",
   "mimetype": "text/x-python",
   "name": "python",
   "nbconvert_exporter": "python",
   "pygments_lexer": "ipython3",
   "version": "3.6.0"
  }
 },
 "nbformat": 4,
 "nbformat_minor": 2
}
